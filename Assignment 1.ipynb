{
 "cells": [
  {
   "cell_type": "markdown",
   "id": "894615aa-c197-455a-88dd-0965045cf54b",
   "metadata": {},
   "source": [
    "Q1. Create one variable containing following type of data:\n",
    "(i) string\n",
    "(ii) list\n",
    "(iii) float\n",
    "(iv) tuple"
   ]
  },
  {
   "cell_type": "code",
   "execution_count": 16,
   "id": "bb262add-9c1c-4f01-862f-d97c1a16eff6",
   "metadata": {},
   "outputs": [
    {
     "name": "stdout",
     "output_type": "stream",
     "text": [
      "<class 'str'>  I Love data science \n",
      "**********\n",
      "<class 'list'> [1, 2, 3, 4, 5]\n",
      "**********\n",
      "<class 'float'> 23.5\n",
      "**********\n",
      "<class 'tuple'> (1, 2, 3, 4, 5)\n",
      "**********\n"
     ]
    }
   ],
   "source": [
    "var1 = ' I Love data science '\n",
    "\n",
    "print(type(var1),var1)\n",
    "print('*'*10)\n",
    "\n",
    "var2 = [1,2,3,4,5]\n",
    "print(type(var2),var2)\n",
    "print('*'*10)\n",
    "\n",
    "var3 = 23.5\n",
    "print(type(var3),var3)\n",
    "print('*'*10)\n",
    "\n",
    "var4 = (1,2,3,4,5)\n",
    "print(type(var4),var4)\n",
    "print('*'*10)\n"
   ]
  },
  {
   "cell_type": "raw",
   "id": "9f65a550-5fdb-4c79-bbda-d3c699573dcc",
   "metadata": {},
   "source": [
    "Q2. Given are some following variables containing data:\n",
    "(i) var1 = ‘ ‘\n",
    "(ii) var2 = ‘[ DS , ML , Python]’\n",
    "(iii) var3 = [ ‘DS’ , ’ML’ , ‘Python’ ]\n",
    "(iv) var4 = 1.\n",
    "\n",
    "What will be the data type of the above given variable."
   ]
  },
  {
   "cell_type": "code",
   "execution_count": 25,
   "id": "49145bb8-9c5a-4aca-bb8b-076709422fb0",
   "metadata": {},
   "outputs": [
    {
     "name": "stdout",
     "output_type": "stream",
     "text": [
      "The data type of var1 is - <class 'str'>\n",
      "**********\n",
      "The data type of var2 is - <class 'str'>\n",
      "**********\n",
      "The data type of var3 is - <class 'list'>\n",
      "**********\n",
      "The data type of var4 is - <class 'float'>\n"
     ]
    }
   ],
   "source": [
    "var1 = '  '\n",
    "print('The data type of var1 is -',type(var1))\n",
    "print('*'*10)\n",
    "var2 = '[ DS , ML , Python]'\n",
    "print('The data type of var2 is -',type(var2))\n",
    "print('*'*10)\n",
    "var3 = [ 'DS' , 'ML' , 'Python' ]\n",
    "print('The data type of var3 is -',type(var3))\n",
    "print('*'*10)\n",
    "var4 = 1.\n",
    "print('The data type of var4 is -',type(var4))"
   ]
  },
  {
   "cell_type": "raw",
   "id": "287d01b4-8129-4c22-913d-97b2d48982c1",
   "metadata": {},
   "source": [
    "Q3. Explain the use of the following operators using an example:\n",
    "(i) /  -->  Division\n",
    "(ii) % --> Reminder\n",
    "(iii) // --> floor Division\n",
    "(iv) ** --> Power"
   ]
  },
  {
   "cell_type": "raw",
   "id": "e07d73d2-d165-400b-b33e-ed7bb2f966a5",
   "metadata": {},
   "source": [
    "Q4. Create a list of length 10 of your choice containing multiple types of data. Using for loop print the\n",
    "element and its data type."
   ]
  },
  {
   "cell_type": "code",
   "execution_count": 30,
   "id": "c8cdde8a-232d-4377-bd2a-2f5369a711fc",
   "metadata": {},
   "outputs": [
    {
     "name": "stdout",
     "output_type": "stream",
     "text": [
      "The length of the list is - 9\n",
      "**************************************************\n",
      "The data type of 1 in the list is - <class 'int'>\n",
      "The data type of 2 in the list is - <class 'int'>\n",
      "The data type of 3.3 in the list is - <class 'float'>\n",
      "The data type of shantanu in the list is - <class 'str'>\n",
      "The data type of 4.53 in the list is - <class 'float'>\n",
      "The data type of 23.5 in the list is - <class 'float'>\n",
      "The data type of (4+8j) in the list is - <class 'complex'>\n",
      "The data type of True in the list is - <class 'bool'>\n",
      "The data type of End in the list is - <class 'str'>\n"
     ]
    }
   ],
   "source": [
    "list1 = [1,2,3.3,'shantanu',4.53,23.5,4+8j,True,'End']\n",
    "\n",
    "print('The length of the list is -',len(list1))\n",
    "print('*'*50)\n",
    "\n",
    "for i in list1:\n",
    "    print(f'The data type of {i} in the list is -',type(i))"
   ]
  },
  {
   "cell_type": "raw",
   "id": "c4606656-9492-4b94-b31d-39616193874e",
   "metadata": {},
   "source": [
    "Q5. Using a while loop, verify if the number A is purely divisible by number B and if so then how many\n",
    "times it can be divisible."
   ]
  },
  {
   "cell_type": "code",
   "execution_count": 46,
   "id": "23353c4b-1b3e-40a5-a388-3f4deef0afef",
   "metadata": {
    "tags": []
   },
   "outputs": [
    {
     "name": "stdout",
     "output_type": "stream",
     "text": [
      " A is divisible by B \n",
      "The count of division is - 1\n"
     ]
    }
   ],
   "source": [
    "A = 20\n",
    "B = 5\n",
    "\n",
    "D = 0\n",
    "\n",
    "while A % B == 0:\n",
    "    print(' A is divisible by B ')\n",
    "    D+=1\n",
    "    break\n",
    "else:\n",
    "    print('A is not divisible by B')\n",
    "\n",
    "print('The count of division is -',D)"
   ]
  },
  {
   "cell_type": "raw",
   "id": "6b7020aa-2f0d-48f6-b874-9c854d72ccec",
   "metadata": {},
   "source": [
    "Q6. Create a list containing 25 int type data. Using for loop and if-else condition print if the element is\n",
    "divisible by 3 or not."
   ]
  },
  {
   "cell_type": "code",
   "execution_count": 59,
   "id": "d444dd44-11bc-498d-906a-c1d3e7459b0e",
   "metadata": {},
   "outputs": [
    {
     "name": "stdout",
     "output_type": "stream",
     "text": [
      "The number 1 is not divisible by 3\n",
      "The number 2 is not divisible by 3\n",
      "The number 3 is divisible by 3\n",
      "The number 4 is not divisible by 3\n",
      "The number 5 is not divisible by 3\n",
      "The number 6 is divisible by 3\n",
      "The number 7 is not divisible by 3\n",
      "The number 8 is not divisible by 3\n",
      "The number 9 is divisible by 3\n",
      "The number 10 is not divisible by 3\n",
      "The number 11 is not divisible by 3\n",
      "The number 12 is divisible by 3\n",
      "The number 13 is not divisible by 3\n",
      "The number 14 is not divisible by 3\n",
      "The number 15 is divisible by 3\n",
      "The number 16 is not divisible by 3\n",
      "The number 17 is not divisible by 3\n",
      "The number 18 is divisible by 3\n",
      "The number 19 is not divisible by 3\n",
      "The number 20 is not divisible by 3\n",
      "The number 21 is divisible by 3\n",
      "The number 22 is not divisible by 3\n",
      "The number 23 is not divisible by 3\n",
      "The number 24 is divisible by 3\n",
      "The number 25 is not divisible by 3\n"
     ]
    }
   ],
   "source": [
    "list12 = list(range(1,26))\n",
    "\n",
    "for i in list12:\n",
    "    if i % 3 == 0:\n",
    "        print(f'The number {i} is divisible by 3')\n",
    "    else:\n",
    "        print(f'The number {i} is not divisible by 3')"
   ]
  },
  {
   "cell_type": "raw",
   "id": "baf60137-f241-407a-8f3a-3e643c5bf234",
   "metadata": {},
   "source": [
    "Q7. What do you understand about mutable and immutable data types? Give examples for both showing\n",
    "this property."
   ]
  },
  {
   "cell_type": "raw",
   "id": "1359ba8f-6b71-45d6-9f32-0de59905d289",
   "metadata": {},
   "source": [
    "Mutable = The Variables in which we can add, delete, update are the type of mutable data types.\n",
    "\n",
    "Immutable = The Variables in which we can not add, delete, update are the type of immutable data types.\n",
    "\n",
    "\n",
    "for example :-\n",
    "\n",
    "\n",
    "For List\n",
    "\n",
    "Mutable = [1,2,3,4,5,6,7,8,9]\n",
    "\n",
    "Mutable[-1] = 10\n",
    "Mutable\n",
    "\n",
    "[1, 2, 3, 4, 5, 6, 7, 8, 10]\n",
    "\n",
    "\n",
    "For Tuple ( Its will through error)\n",
    "\n",
    "Immutable = (1,2,3,4,5,6,7,8,9)\n",
    "\n",
    "Mutable[-1] = 10\n",
    "Mutable\n",
    "\n",
    "[1, 2, 3, 4, 5, 6, 7, 8, 10]\n",
    "\n",
    "---------------------------------------------------------------------------\n",
    "TypeError                                 Traceback (most recent call last)\n",
    "Cell In[66], line 3\n",
    "      1 Immutable = (1,2,3,4,5,6,7,8,9)\n",
    "----> 3 Immutable[-1] = 10\n",
    "      4 Immutable\n",
    "\n",
    "TypeError: 'tuple' object does not support item assignment"
   ]
  },
  {
   "cell_type": "code",
   "execution_count": null,
   "id": "3345b7c4-2732-4095-9ae7-0c4bd577ac2c",
   "metadata": {},
   "outputs": [],
   "source": []
  },
  {
   "cell_type": "code",
   "execution_count": null,
   "id": "8b77b429-2063-4f0b-890e-a8c7128762e9",
   "metadata": {},
   "outputs": [],
   "source": []
  },
  {
   "cell_type": "code",
   "execution_count": null,
   "id": "fbfb7a08-7a98-49b6-ba3d-e7a1afaa7a88",
   "metadata": {},
   "outputs": [],
   "source": []
  },
  {
   "cell_type": "code",
   "execution_count": null,
   "id": "090b9273-dfc1-43a4-bd5d-ffc65eadc170",
   "metadata": {},
   "outputs": [],
   "source": []
  },
  {
   "cell_type": "code",
   "execution_count": null,
   "id": "9c891745-82e4-4e36-b92f-62a75e5cf4a7",
   "metadata": {},
   "outputs": [],
   "source": []
  },
  {
   "cell_type": "code",
   "execution_count": null,
   "id": "3e4953b6-ee2a-4da4-ae51-fdde034b575d",
   "metadata": {},
   "outputs": [],
   "source": []
  },
  {
   "cell_type": "code",
   "execution_count": null,
   "id": "23ad4c34-ea12-47cb-9bb2-fd91cce4fa68",
   "metadata": {},
   "outputs": [],
   "source": []
  },
  {
   "cell_type": "code",
   "execution_count": null,
   "id": "d7cc20b1-26ff-443f-a91d-33bf2e102fa7",
   "metadata": {},
   "outputs": [],
   "source": []
  },
  {
   "cell_type": "code",
   "execution_count": null,
   "id": "7b838167-aae3-402a-bc66-5935056b6f73",
   "metadata": {},
   "outputs": [],
   "source": []
  },
  {
   "cell_type": "code",
   "execution_count": null,
   "id": "a9a5bb38-0d33-472b-9042-5fe27e14eac0",
   "metadata": {},
   "outputs": [],
   "source": []
  },
  {
   "cell_type": "code",
   "execution_count": null,
   "id": "0a6650af-8290-4754-92e4-bcc9d90b3ca6",
   "metadata": {},
   "outputs": [],
   "source": []
  },
  {
   "cell_type": "code",
   "execution_count": null,
   "id": "9aacb8eb-7551-4ed2-91d4-75ebee25cbc2",
   "metadata": {},
   "outputs": [],
   "source": []
  },
  {
   "cell_type": "code",
   "execution_count": null,
   "id": "feacab9e-2c1c-4d38-bfed-faf49c66e0e3",
   "metadata": {},
   "outputs": [],
   "source": []
  },
  {
   "cell_type": "code",
   "execution_count": null,
   "id": "d56fde80-a7d4-47f7-99b7-80a6b2a8f61f",
   "metadata": {},
   "outputs": [],
   "source": []
  },
  {
   "cell_type": "code",
   "execution_count": null,
   "id": "b4b84906-d347-4eed-91e8-e06455838e9d",
   "metadata": {},
   "outputs": [],
   "source": []
  },
  {
   "cell_type": "code",
   "execution_count": null,
   "id": "5815d7bd-1068-4bce-b16c-f6fa42ddd2f3",
   "metadata": {},
   "outputs": [],
   "source": []
  },
  {
   "cell_type": "code",
   "execution_count": null,
   "id": "2af0100d-66ad-423b-8f91-8d9cff0c5f66",
   "metadata": {},
   "outputs": [],
   "source": []
  },
  {
   "cell_type": "code",
   "execution_count": null,
   "id": "36e408a3-f941-40de-9995-af563a391a2a",
   "metadata": {},
   "outputs": [],
   "source": []
  },
  {
   "cell_type": "code",
   "execution_count": null,
   "id": "ba92ae55-7020-42a7-8a3e-c24640471a86",
   "metadata": {},
   "outputs": [],
   "source": []
  },
  {
   "cell_type": "code",
   "execution_count": null,
   "id": "fcab0cc5-39c7-4dbc-9e10-6b29990a83d6",
   "metadata": {},
   "outputs": [],
   "source": []
  },
  {
   "cell_type": "code",
   "execution_count": null,
   "id": "46e1d337-95f3-472f-a09b-a26e3b68f4b3",
   "metadata": {},
   "outputs": [],
   "source": []
  },
  {
   "cell_type": "code",
   "execution_count": null,
   "id": "7f93aaca-a917-4ce0-9af3-4cdf34d06beb",
   "metadata": {},
   "outputs": [],
   "source": []
  },
  {
   "cell_type": "code",
   "execution_count": null,
   "id": "ab3dba34-f88e-40ed-a6da-dfa1ba60ccae",
   "metadata": {},
   "outputs": [],
   "source": []
  },
  {
   "cell_type": "code",
   "execution_count": null,
   "id": "53de7214-e066-48ec-9aab-4e367af728e4",
   "metadata": {},
   "outputs": [],
   "source": []
  },
  {
   "cell_type": "code",
   "execution_count": null,
   "id": "1f89d3a9-be23-4625-9aea-10d33a84def2",
   "metadata": {},
   "outputs": [],
   "source": []
  },
  {
   "cell_type": "code",
   "execution_count": null,
   "id": "0b684a65-b9c0-4239-ac8f-4dfe1c527339",
   "metadata": {},
   "outputs": [],
   "source": []
  },
  {
   "cell_type": "code",
   "execution_count": null,
   "id": "d5c0c99f-e42c-469a-823e-6f1fd037c1bf",
   "metadata": {},
   "outputs": [],
   "source": []
  },
  {
   "cell_type": "code",
   "execution_count": null,
   "id": "cc957bcd-a461-4b03-98f6-85d1f5127688",
   "metadata": {},
   "outputs": [],
   "source": []
  },
  {
   "cell_type": "code",
   "execution_count": null,
   "id": "d28c5311-4788-475f-8a63-7a800b62ab75",
   "metadata": {},
   "outputs": [],
   "source": []
  },
  {
   "cell_type": "code",
   "execution_count": null,
   "id": "e2bff51d-b95b-4153-9b6b-da8ddb8a7018",
   "metadata": {},
   "outputs": [],
   "source": []
  },
  {
   "cell_type": "code",
   "execution_count": null,
   "id": "2138cd8f-6a3d-4a38-aeac-5dd1bcae3d25",
   "metadata": {},
   "outputs": [],
   "source": []
  },
  {
   "cell_type": "code",
   "execution_count": null,
   "id": "47d367fe-71f5-4ea3-9a3e-6e7d0c117b83",
   "metadata": {},
   "outputs": [],
   "source": []
  },
  {
   "cell_type": "code",
   "execution_count": null,
   "id": "c8db09b0-f2ab-455d-b115-f1865955b0a3",
   "metadata": {},
   "outputs": [],
   "source": []
  },
  {
   "cell_type": "code",
   "execution_count": null,
   "id": "5424fe55-e660-41cb-be7f-0d36b9591cb0",
   "metadata": {},
   "outputs": [],
   "source": []
  },
  {
   "cell_type": "code",
   "execution_count": null,
   "id": "84bb6ff1-6d03-4092-adb4-04039e844053",
   "metadata": {},
   "outputs": [],
   "source": []
  },
  {
   "cell_type": "code",
   "execution_count": null,
   "id": "deca9d2a-7f7e-4ce1-9faf-857dfe42488e",
   "metadata": {},
   "outputs": [],
   "source": []
  },
  {
   "cell_type": "code",
   "execution_count": null,
   "id": "1355f082-518d-4197-9c42-4d5e30a48a8b",
   "metadata": {},
   "outputs": [],
   "source": []
  },
  {
   "cell_type": "code",
   "execution_count": null,
   "id": "75289efc-3878-47ef-88d8-ed85bca82fa9",
   "metadata": {},
   "outputs": [],
   "source": []
  },
  {
   "cell_type": "code",
   "execution_count": null,
   "id": "95128dee-52d1-4757-a475-460abe62a279",
   "metadata": {},
   "outputs": [],
   "source": []
  },
  {
   "cell_type": "code",
   "execution_count": null,
   "id": "07870fa0-687d-4fc9-8ab4-7dc1b5e1e3d0",
   "metadata": {},
   "outputs": [],
   "source": []
  },
  {
   "cell_type": "code",
   "execution_count": null,
   "id": "acf668d3-d89f-49b4-b8f9-b55e93db6648",
   "metadata": {},
   "outputs": [],
   "source": []
  },
  {
   "cell_type": "code",
   "execution_count": null,
   "id": "1c44aa57-d181-4e43-8cda-97e20ad74c47",
   "metadata": {},
   "outputs": [],
   "source": []
  },
  {
   "cell_type": "code",
   "execution_count": null,
   "id": "bfda77f0-d057-4b2a-85b8-7b3caeac46a7",
   "metadata": {},
   "outputs": [],
   "source": []
  },
  {
   "cell_type": "code",
   "execution_count": null,
   "id": "eef94182-a705-4184-950b-809b2d1e738d",
   "metadata": {},
   "outputs": [],
   "source": []
  },
  {
   "cell_type": "code",
   "execution_count": null,
   "id": "9d619e79-faa5-4c86-9149-f1afa1f2848d",
   "metadata": {},
   "outputs": [],
   "source": []
  },
  {
   "cell_type": "code",
   "execution_count": null,
   "id": "abc0bc53-6cda-4c66-90d4-53f956591e5d",
   "metadata": {},
   "outputs": [],
   "source": []
  },
  {
   "cell_type": "code",
   "execution_count": null,
   "id": "dcc916fe-187e-47fc-b03d-020dfb69464d",
   "metadata": {},
   "outputs": [],
   "source": []
  },
  {
   "cell_type": "code",
   "execution_count": null,
   "id": "8ffbcb75-7f0c-4cbf-854f-c0b16b5004e1",
   "metadata": {},
   "outputs": [],
   "source": []
  },
  {
   "cell_type": "code",
   "execution_count": null,
   "id": "7aa4ecc2-e19a-41b4-8b62-17bc1a2736b8",
   "metadata": {},
   "outputs": [],
   "source": []
  },
  {
   "cell_type": "code",
   "execution_count": null,
   "id": "49a4f366-c201-49a8-9b53-ce4a5ebbcb08",
   "metadata": {},
   "outputs": [],
   "source": []
  },
  {
   "cell_type": "code",
   "execution_count": null,
   "id": "95b03f39-029a-48b2-8076-43784ce00ab2",
   "metadata": {},
   "outputs": [],
   "source": []
  },
  {
   "cell_type": "code",
   "execution_count": null,
   "id": "58f0d807-90c2-4728-a8fe-65f417a22e9f",
   "metadata": {},
   "outputs": [],
   "source": []
  },
  {
   "cell_type": "code",
   "execution_count": null,
   "id": "22eb9ce0-5a14-4f2e-800c-30165cc6b939",
   "metadata": {},
   "outputs": [],
   "source": []
  },
  {
   "cell_type": "code",
   "execution_count": null,
   "id": "d06a061b-abfc-4db3-9a7f-680f23e3f419",
   "metadata": {},
   "outputs": [],
   "source": []
  },
  {
   "cell_type": "code",
   "execution_count": null,
   "id": "0a981e36-d357-4177-9942-fa6cdc8f6433",
   "metadata": {},
   "outputs": [],
   "source": []
  },
  {
   "cell_type": "code",
   "execution_count": null,
   "id": "499f3a10-fc2a-4e5d-93b7-b5b82a4456d9",
   "metadata": {},
   "outputs": [],
   "source": []
  },
  {
   "cell_type": "code",
   "execution_count": null,
   "id": "c416bd1f-a375-412b-896b-eae603244b00",
   "metadata": {},
   "outputs": [],
   "source": []
  },
  {
   "cell_type": "code",
   "execution_count": null,
   "id": "0c645c2e-02e3-42a9-ac0a-2af91a8ee09a",
   "metadata": {},
   "outputs": [],
   "source": []
  },
  {
   "cell_type": "code",
   "execution_count": null,
   "id": "24695481-06f2-4ec2-b1a2-d7575dae253c",
   "metadata": {},
   "outputs": [],
   "source": []
  },
  {
   "cell_type": "code",
   "execution_count": null,
   "id": "8af77f6a-018d-4ed9-9819-2a5ea57163f8",
   "metadata": {},
   "outputs": [],
   "source": []
  },
  {
   "cell_type": "code",
   "execution_count": null,
   "id": "87628bd6-f69e-41c0-9d92-f3c7f9333268",
   "metadata": {},
   "outputs": [],
   "source": []
  },
  {
   "cell_type": "code",
   "execution_count": null,
   "id": "8cd32b9d-1da9-4218-826e-8fe58b6fe066",
   "metadata": {},
   "outputs": [],
   "source": []
  }
 ],
 "metadata": {
  "kernelspec": {
   "display_name": "Python 3 (ipykernel)",
   "language": "python",
   "name": "python3"
  },
  "language_info": {
   "codemirror_mode": {
    "name": "ipython",
    "version": 3
   },
   "file_extension": ".py",
   "mimetype": "text/x-python",
   "name": "python",
   "nbconvert_exporter": "python",
   "pygments_lexer": "ipython3",
   "version": "3.10.8"
  }
 },
 "nbformat": 4,
 "nbformat_minor": 5
}

{
 "cells": [
  {
   "cell_type": "markdown",
   "id": "780730d7",
   "metadata": {},
   "source": [
    "Q1. What is an API? Give an example, where an API is used in real life."
   ]
  },
  {
   "cell_type": "markdown",
   "id": "460bb5c5",
   "metadata": {},
   "source": [
    "API is a application programming interface which is set of protocols and tools used for building\n",
    "software application that allow them to communicate or intercet with each other over the internet/without internet.\n",
    "\n",
    "Some API which works within the application or between two offline application where no web is used. They use different \n",
    "protocols such as TCP/ip, HTTP etc.\n",
    "\n",
    "Examples - Twitter API, Facebook graph API, Google pay API etc."
   ]
  },
  {
   "cell_type": "markdown",
   "id": "3ca6194e",
   "metadata": {},
   "source": [
    "Q2. Give advantages and disadvantages of using API."
   ]
  },
  {
   "cell_type": "markdown",
   "id": "aa576c23",
   "metadata": {},
   "source": [
    "Advantages of Using APIs:\n",
    "\n",
    "Interoperability: APIs enable different software systems to interact and work together, promoting interoperability. \n",
    "\n",
    "Modularity: APIs allow developers to design modular and scalable systems. By exposing specific functionalities through APIs,\n",
    "            different parts of a system can be developed, updated, and maintained independently.\n",
    "\n",
    "Rapid Development: Developers can leverage existing APIs to access pre-built functionalities and services, \n",
    "                   accelerating the development process. This reduces the need to reinvent the wheel for common features.\n",
    "        \n",
    "Easier Maintenance: When updates or changes are made to the internal implementation of a system, as long as the API interface\n",
    "                    remains the same, external applications can continue to function without modification.\n",
    "\n",
    "Scalability: APIs facilitate the scalability of systems. By allowing components to communicate through APIs, organizations \n",
    "             can scale their infrastructure more easily to handle increased demand.\n",
    "        \n",
    "\n",
    "Disadvantages of Using APIs:\n",
    "\n",
    "Dependency: When relying on third-party APIs, your application becomes dependent on the stability and availability of those \n",
    "            APIs. Changes or disruptions to the external API can impact your application.\n",
    "\n",
    "Security Concerns: APIs can be vulnerable to security threats, such as unauthorized access or data breaches. \n",
    "\n",
    "Documentation Issues: Poorly documented APIs can be challenging for developers to understand and use effectively. \n",
    "\n",
    "Costs: Access to certain APIs may involve subscription fees or usage costs. Depending on the pricing model, the overall \n",
    "       cost of integrating and using multiple APIs can add up.\n",
    "        \n",
    "Data Privacy Concerns: Sharing data through APIs raises privacy concerns. Organizations need to carefully manage the data \n",
    "                       they expose and ensure compliance with data protection regulations."
   ]
  },
  {
   "cell_type": "markdown",
   "id": "8e965531",
   "metadata": {},
   "source": [
    "Q3. What is a Web API? Differentiate between API and Web API."
   ]
  },
  {
   "cell_type": "markdown",
   "id": "c1ca6ae0",
   "metadata": {},
   "source": [
    "Web API is a set of protocols and tools used for building software application that allow them to communicate or \n",
    "intercet with each other over the internet.\n",
    "\n",
    "It uses HTTP (Hypertext transfer protocols) as a communication protocol.\n",
    "\n",
    "Difference b/w API and Web API\n",
    "\n",
    "Web API - \n",
    "1)If we build a API using HTTP as it will call as web API.\n",
    "2)Web APIs often use HTTP methods (such as GET, POST, PUT, and DELETE) for communication.\n",
    "3)They typically exchange data in a format such as JSON or XML, making it easy for applications to understand and process\n",
    "the information.\n",
    "4)Web APIs are commonly used in web development to enable communication between a web server and client applications.\n",
    "\n",
    "API -\n",
    "1)APIs are not limited to web development. They can exist in various forms, such as libraries, operating systems, \n",
    "or software development kits.\n",
    "2)APIs can facilitate communication between different components of a software system, regardless of whether they \n",
    "are web-based.\n",
    "3)APIs can be categorized into different types, including library APIs, operating system APIs, hardware APIs, and web APIs."
   ]
  },
  {
   "cell_type": "markdown",
   "id": "7bba6602",
   "metadata": {},
   "source": [
    "Q4. Explain REST and SOAP Architecture. Mention shortcomings of SOAP."
   ]
  },
  {
   "cell_type": "markdown",
   "id": "52f9a61c",
   "metadata": {},
   "source": [
    "REST - It is based on web API and uses HTTP for communication, its known for its simplisity, scalability, flexibilty.\n",
    "       It is also very simple to impliment and this is the advantage of REST API.\n",
    "    \n",
    "SOAP - SOAP(Simple Object Access Protocol) is XML based protocol used for communication. WSDL(web service distribution language) \n",
    "       is used internally by XML.It supports HTTP, SMTP, TCP/ip.\n",
    "       SOAP is a light weight protocol, simple architecture used here.\n",
    "        \n",
    "       Complexity, Overhead, Readability, Stateful, Limited Browser Support, Flexibility etc."
   ]
  },
  {
   "cell_type": "markdown",
   "id": "58204698",
   "metadata": {},
   "source": [
    "Q5. Differentiate between REST and SOAP."
   ]
  },
  {
   "cell_type": "markdown",
   "id": "49c8af44",
   "metadata": {},
   "source": [
    "REST\n",
    "1) It is based on web API and uses HTTP for communication.\n",
    "2) Its known for its simplisity, scalability, flexibilty.\n",
    "3) It is also very simple to impliment.\n",
    "4) Methods uses GET, POST, PUT, and DELETE.\n",
    "5) Statelessness - The server does not store any information about the client between requests.\n",
    "\n",
    "POST\n",
    "1) XML based protocol used for communication.\n",
    "2) Very complex architecture use here, can't use for heavy weight protocols.\n",
    "3) SOAP can be stateful or stateless, depending on the implementation. It allows for more complex interactions.\n",
    "4) SOAP services may require specialized tooling, and certain frameworks may have a steeper learning curve compared to REST.\n",
    "5) SOAP has built-in security features, such as WS-Security, that provide a standardized way to secure messages."
   ]
  }
 ],
 "metadata": {
  "kernelspec": {
   "display_name": "Python 3 (ipykernel)",
   "language": "python",
   "name": "python3"
  },
  "language_info": {
   "codemirror_mode": {
    "name": "ipython",
    "version": 3
   },
   "file_extension": ".py",
   "mimetype": "text/x-python",
   "name": "python",
   "nbconvert_exporter": "python",
   "pygments_lexer": "ipython3",
   "version": "3.9.7"
  },
  "toc": {
   "base_numbering": 1,
   "nav_menu": {},
   "number_sections": true,
   "sideBar": true,
   "skip_h1_title": false,
   "title_cell": "Table of Contents",
   "title_sidebar": "Contents",
   "toc_cell": false,
   "toc_position": {},
   "toc_section_display": true,
   "toc_window_display": false
  }
 },
 "nbformat": 4,
 "nbformat_minor": 5
}

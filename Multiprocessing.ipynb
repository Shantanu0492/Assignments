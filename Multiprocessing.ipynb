{
 "cells": [
  {
   "cell_type": "markdown",
   "id": "075331cd",
   "metadata": {},
   "source": [
    "Q1. What is multiprocessing in python? Why is it useful?"
   ]
  },
  {
   "cell_type": "markdown",
   "id": "b9d52172",
   "metadata": {},
   "source": [
    "Multiprocessing in Python is a technique that allows you to create and manage multiple processes, \n",
    "each of which can run independently and concurrently. \n",
    "\n",
    "It's usefull because:\n",
    "\n",
    "Parallelism: Multiprocessing enables you to achieve true parallelism in your Python programs. \n",
    "Each process runs independently and can execute its tasks concurrently with other processes. \n",
    "\n",
    "Avoiding Global Interpreter Lock: In Python, the Global Interpreter Lock (GIL) restricts the execution of multiple \n",
    "threads within the same process to one at a time. Multiprocessing bypasses the GIL by using separate processes, \n",
    "allowing multiple CPU cores to be fully utilized for parallel execution.\n",
    "\n",
    "Improved Performance: By utilizing multiple CPU cores or processors, multiprocessing can lead to improved performance \n",
    "and reduced execution time for computationally intensive tasks. \n",
    "\n",
    "Isolation: Each process has its own memory space, which means that data isolation is inherently achieved. \n",
    "Processes do not directly share memory, which can help prevent data corruption and race conditions."
   ]
  },
  {
   "cell_type": "markdown",
   "id": "01dbde52",
   "metadata": {},
   "source": [
    "Q2. What are the differences between multiprocessing and multithreading?"
   ]
  },
  {
   "cell_type": "markdown",
   "id": "c95710ef",
   "metadata": {},
   "source": [
    "Multiprocessing: In multiprocessing, multiple processes are created, each with its own memory space and separate Python \n",
    "interpreter. Processes are independent and do not share memory by default.\n",
    "\n",
    "Multithreading: In multithreading, multiple threads are created within the same process and share the same memory space. \n",
    "Threads are lightweight and share data and resources within the process."
   ]
  },
  {
   "cell_type": "markdown",
   "id": "8d7e18cc",
   "metadata": {},
   "source": [
    "Q3. Write a python code to create a process using the multiprocessing module."
   ]
  },
  {
   "cell_type": "code",
   "execution_count": 1,
   "id": "cb81352b",
   "metadata": {},
   "outputs": [
    {
     "name": "stdout",
     "output_type": "stream",
     "text": [
      "Main process continues...\n"
     ]
    }
   ],
   "source": [
    "import multiprocessing\n",
    "\n",
    "# Define a function to be executed in the new process\n",
    "def worker_function(name):\n",
    "    print(f\"Hello, {name}!\")\n",
    "\n",
    "if __name__ == \"__main__\":\n",
    "    # Create a Process object and specify the target function and its arguments\n",
    "    process = multiprocessing.Process(target=worker_function, args=(\"Alice\",))\n",
    "\n",
    "    # Start the process\n",
    "    process.start()\n",
    "\n",
    "    # Wait for the process to finish (optional)\n",
    "    process.join()\n",
    "\n",
    "    print(\"Main process continues...\")\n"
   ]
  },
  {
   "cell_type": "markdown",
   "id": "72d4da8b",
   "metadata": {},
   "source": [
    "Q4. What is a multiprocessing pool in python? Why is it used?"
   ]
  },
  {
   "cell_type": "markdown",
   "id": "58901ea7",
   "metadata": {},
   "source": [
    "A multiprocessing pool in Python, specifically in the multiprocessing module, is a mechanism that allows \n",
    "you to create and manage a pool of worker processes. Each worker process in the pool can execute a function\n",
    "asynchronously and concurrently. "
   ]
  },
  {
   "cell_type": "markdown",
   "id": "7915a869",
   "metadata": {},
   "source": [
    "Q5. How can we create a pool of worker processes in python using the multiprocessing module?"
   ]
  },
  {
   "cell_type": "markdown",
   "id": "ab620e72",
   "metadata": {},
   "source": [
    "To create a pool of worker processes in Python using the multiprocessing module, can follow these steps:\n",
    "\n",
    "Step 1 - Import the multiprocessing module.\n",
    "Step 2 - Define a function that represents the task you want to parallelize.\n",
    "Step 3 - Create a multiprocessing.Pool object, specifying the number of worker processes you want in the pool.\n",
    "Step 4 - Use the pool's methods, such as map(), apply(), or apply_async(), to distribute and execute tasks among the worker processes."
   ]
  },
  {
   "cell_type": "markdown",
   "id": "ea66f048",
   "metadata": {},
   "source": [
    "Q6. Write a python program to create 4 processes, each process should print a different number using the\n",
    "multiprocessing module in python."
   ]
  },
  {
   "cell_type": "code",
   "execution_count": 6,
   "id": "b8cb1d45",
   "metadata": {},
   "outputs": [],
   "source": [
    "import multiprocessing"
   ]
  },
  {
   "cell_type": "code",
   "execution_count": 8,
   "id": "a75601da",
   "metadata": {},
   "outputs": [
    {
     "name": "stdout",
     "output_type": "stream",
     "text": [
      "All processes have finished.\n"
     ]
    }
   ],
   "source": [
    "def print_number(number):\n",
    "    print(f\"Process {number}: {number}\")\n",
    "\n",
    "if __name__ == \"__main__\":\n",
    "    processes = []\n",
    "    for i in range(1, 5):\n",
    "        process = multiprocessing.Process(target=print_number, args=(i,))\n",
    "        processes.append(process)\n",
    "        process.start()\n",
    "    for process in processes:\n",
    "        process.join()\n",
    "\n",
    "    print(\"All processes have finished.\")\n"
   ]
  },
  {
   "cell_type": "code",
   "execution_count": null,
   "id": "319ddc81",
   "metadata": {},
   "outputs": [],
   "source": []
  }
 ],
 "metadata": {
  "kernelspec": {
   "display_name": "Python 3 (ipykernel)",
   "language": "python",
   "name": "python3"
  },
  "language_info": {
   "codemirror_mode": {
    "name": "ipython",
    "version": 3
   },
   "file_extension": ".py",
   "mimetype": "text/x-python",
   "name": "python",
   "nbconvert_exporter": "python",
   "pygments_lexer": "ipython3",
   "version": "3.9.7"
  },
  "toc": {
   "base_numbering": 1,
   "nav_menu": {},
   "number_sections": true,
   "sideBar": true,
   "skip_h1_title": false,
   "title_cell": "Table of Contents",
   "title_sidebar": "Contents",
   "toc_cell": false,
   "toc_position": {},
   "toc_section_display": true,
   "toc_window_display": false
  }
 },
 "nbformat": 4,
 "nbformat_minor": 5
}

{
 "cells": [
  {
   "cell_type": "markdown",
   "id": "c54fb329",
   "metadata": {},
   "source": [
    "Q1. How do you comment code in Python? What are the different types of comments?"
   ]
  },
  {
   "cell_type": "markdown",
   "id": "a5b82b07",
   "metadata": {},
   "source": [
    "We can comment by hash (#) and for multiple lines we can select this lines and press Ctrl + forward slash"
   ]
  },
  {
   "cell_type": "code",
   "execution_count": 2,
   "id": "42a95488",
   "metadata": {},
   "outputs": [],
   "source": [
    "#This is a comment"
   ]
  },
  {
   "cell_type": "code",
   "execution_count": 3,
   "id": "5be7d6b4",
   "metadata": {},
   "outputs": [],
   "source": [
    "# This is line one\n",
    "# This is line two\n",
    "# This is line two"
   ]
  },
  {
   "cell_type": "markdown",
   "id": "4f0ed192",
   "metadata": {},
   "source": [
    "Q2. What are variables in Python? How do you declare and assign values to variables?"
   ]
  },
  {
   "cell_type": "markdown",
   "id": "0d521ed8",
   "metadata": {},
   "source": [
    "Variables are the one which is use to assign a code and its store a data on specific location/memory.\n",
    "\n",
    "ex : list1 = [1,2,3,4,5]\n",
    "    \n",
    "    here list1 is the variable.\n",
    "    \n",
    "To declare he variable we use (=) equalto sign, we can assign values it can be in any type like int, string, float, dict, set etc."
   ]
  },
  {
   "cell_type": "markdown",
   "id": "145947ff",
   "metadata": {},
   "source": [
    "Q3. How do you convert one data type to another in Python?"
   ]
  },
  {
   "cell_type": "code",
   "execution_count": 7,
   "id": "417e4384",
   "metadata": {},
   "outputs": [
    {
     "name": "stdout",
     "output_type": "stream",
     "text": [
      "['shantanu', 1, 2, 3, 4]\n",
      "<class 'list'>\n"
     ]
    }
   ],
   "source": [
    "str1 = 'shantanu',1,2,3,4\n",
    "\n",
    "# to convert the type\n",
    "\n",
    "list1 = list(str1)\n",
    "print(list1)\n",
    "print(type(list1))\n",
    "\n",
    "# here we have changed the data type "
   ]
  },
  {
   "cell_type": "markdown",
   "id": "6d6d458b",
   "metadata": {},
   "source": [
    "Q4. How do you write and execute a Python script from the command line?"
   ]
  },
  {
   "cell_type": "code",
   "execution_count": 8,
   "id": "1bbf6b69",
   "metadata": {},
   "outputs": [
    {
     "data": {
      "text/plain": [
       "'Hello World'"
      ]
     },
     "execution_count": 8,
     "metadata": {},
     "output_type": "execute_result"
    }
   ],
   "source": [
    "Python = 'Hello World'\n",
    "Python"
   ]
  },
  {
   "cell_type": "markdown",
   "id": "798aec13",
   "metadata": {},
   "source": [
    "Q5. Given a list my_list = [1, 2, 3, 4, 5], write the code to slice the list and obtain the sub-list [2, 3]."
   ]
  },
  {
   "cell_type": "code",
   "execution_count": 22,
   "id": "ebd4d506",
   "metadata": {},
   "outputs": [
    {
     "data": {
      "text/plain": [
       "[2, 3]"
      ]
     },
     "execution_count": 22,
     "metadata": {},
     "output_type": "execute_result"
    }
   ],
   "source": [
    "my_list1 = [1,2,3,4,5]\n",
    "\n",
    "sub_list1 = my_list1[1:3]\n",
    "sub_list1"
   ]
  },
  {
   "cell_type": "markdown",
   "id": "d109e2ec",
   "metadata": {},
   "source": [
    "Q6. What is a complex number in mathematics, and how is it represented in Python?"
   ]
  },
  {
   "cell_type": "markdown",
   "id": "8bba94c7",
   "metadata": {},
   "source": [
    "complex number in mathematics is - 3+4j, 5+7j\n",
    "\n",
    "j is represented as a imaginary unit"
   ]
  },
  {
   "cell_type": "markdown",
   "id": "0fe6bf65",
   "metadata": {},
   "source": [
    "Q7. What is the correct way to declare a variable named age and assign the value 25 to it?"
   ]
  },
  {
   "cell_type": "code",
   "execution_count": 23,
   "id": "a7373f46",
   "metadata": {},
   "outputs": [],
   "source": [
    "age = 25"
   ]
  },
  {
   "cell_type": "markdown",
   "id": "de9f0826",
   "metadata": {},
   "source": [
    "Q8. Declare a variable named price and assign the value 9.99 to it. What data type does this variable\n",
    "belong to?"
   ]
  },
  {
   "cell_type": "code",
   "execution_count": 24,
   "id": "8d33b0f7",
   "metadata": {},
   "outputs": [
    {
     "data": {
      "text/plain": [
       "float"
      ]
     },
     "execution_count": 24,
     "metadata": {},
     "output_type": "execute_result"
    }
   ],
   "source": [
    "price = 9.99\n",
    "\n",
    "# Data type is a float type.\n",
    "\n",
    "type(price)"
   ]
  },
  {
   "cell_type": "markdown",
   "id": "c9e3696c",
   "metadata": {},
   "source": [
    "Q9. Create a variable named name and assign your full name to it as a string. How would you print the\n",
    "value of this variable?"
   ]
  },
  {
   "cell_type": "code",
   "execution_count": 26,
   "id": "e1b7e269",
   "metadata": {},
   "outputs": [
    {
     "name": "stdout",
     "output_type": "stream",
     "text": [
      "Shantanu S Nampalliwar\n",
      "**********\n",
      "<class 'str'>\n"
     ]
    }
   ],
   "source": [
    "name = \"Shantanu S Nampalliwar\"\n",
    "\n",
    "print(name)\n",
    "print('*'*10)\n",
    "print(type(name))"
   ]
  },
  {
   "cell_type": "markdown",
   "id": "711b0026",
   "metadata": {},
   "source": [
    "Q10. Given the string \"Hello, World!\", extract the substring \"World\"."
   ]
  },
  {
   "cell_type": "code",
   "execution_count": 36,
   "id": "444d914e",
   "metadata": {},
   "outputs": [
    {
     "data": {
      "text/plain": [
       "'World'"
      ]
     },
     "execution_count": 36,
     "metadata": {},
     "output_type": "execute_result"
    }
   ],
   "source": [
    "extract = \"Hello, World!\"\n",
    "\n",
    "extract[-6:-1]"
   ]
  },
  {
   "cell_type": "markdown",
   "id": "6a4f5efb",
   "metadata": {},
   "source": [
    "Q11. Create a variable named \"is_student\" and assign it a boolean value indicating whether you are\n",
    "currently a student or not."
   ]
  },
  {
   "cell_type": "code",
   "execution_count": 38,
   "id": "9cdd68af",
   "metadata": {},
   "outputs": [],
   "source": [
    "is_student = True"
   ]
  },
  {
   "cell_type": "code",
   "execution_count": null,
   "id": "577eefea",
   "metadata": {},
   "outputs": [],
   "source": []
  }
 ],
 "metadata": {
  "kernelspec": {
   "display_name": "Python 3 (ipykernel)",
   "language": "python",
   "name": "python3"
  },
  "language_info": {
   "codemirror_mode": {
    "name": "ipython",
    "version": 3
   },
   "file_extension": ".py",
   "mimetype": "text/x-python",
   "name": "python",
   "nbconvert_exporter": "python",
   "pygments_lexer": "ipython3",
   "version": "3.9.7"
  },
  "toc": {
   "base_numbering": 1,
   "nav_menu": {},
   "number_sections": true,
   "sideBar": true,
   "skip_h1_title": false,
   "title_cell": "Table of Contents",
   "title_sidebar": "Contents",
   "toc_cell": false,
   "toc_position": {},
   "toc_section_display": true,
   "toc_window_display": false
  }
 },
 "nbformat": 4,
 "nbformat_minor": 5
}

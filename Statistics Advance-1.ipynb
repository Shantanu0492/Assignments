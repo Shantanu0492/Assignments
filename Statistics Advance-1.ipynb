{
 "cells": [
  {
   "cell_type": "code",
   "execution_count": null,
   "id": "f0f99d1e",
   "metadata": {},
   "outputs": [],
   "source": [
    "Q1. What is the Probability density function?"
   ]
  },
  {
   "cell_type": "code",
   "execution_count": null,
   "id": "e6748946",
   "metadata": {},
   "outputs": [],
   "source": [
    "The Probability Density Function (PDF) is a concept in probability theory and statistics that describes the likelihood \n",
    "of a continuous random variable taking on a specific value. For continuous random variables, as opposed to discrete ones,\n",
    "the probability of any single point is technically zero. Instead, the PDF provides the probability distribution over intervals."
   ]
  },
  {
   "cell_type": "code",
   "execution_count": null,
   "id": "cc48ca2d",
   "metadata": {},
   "outputs": [],
   "source": [
    "Q2. What are the types of Probability distribution?"
   ]
  },
  {
   "cell_type": "code",
   "execution_count": null,
   "id": "d981a267",
   "metadata": {},
   "outputs": [],
   "source": [
    "Discrete Probability Distributions\n",
    "\n",
    "Bernoulli Distribution: Models a single trial with two possible outcomes (success or failure) with respective probabilities.\n",
    "Binomial Distribution: Describes the number of successes in a fixed number of independent Bernoulli trials.\n",
    "Poisson Distribution: Models the number of events occurring in a fixed interval of time or space.\n",
    "    \n",
    "    \n",
    "Continuous Probability Distributions\n",
    "\n",
    "Uniform Distribution: All outcomes in a given range are equally likely.\n",
    "Normal Distribution (Gaussian Distribution): Characterized by a bell-shaped curve and is completely defined by its mean and \n",
    "standard deviation.\n",
    "\n",
    "Chi-Square Distribution: Arises in the context of hypothesis testing and is related to the normal distribution.\n",
    "\n",
    "Student's t-Distribution: Widely used in hypothesis testing when the sample size is small and the population standard \n",
    "deviation is unknown."
   ]
  },
  {
   "cell_type": "code",
   "execution_count": null,
   "id": "311c5a47",
   "metadata": {},
   "outputs": [],
   "source": [
    "Q3. Write a Python function to calculate the probability density function of a normal distribution with\n",
    "given mean and standard deviation at a given point."
   ]
  },
  {
   "cell_type": "code",
   "execution_count": 1,
   "id": "9ba11994",
   "metadata": {},
   "outputs": [
    {
     "name": "stdout",
     "output_type": "stream",
     "text": [
      "The PDF at 1.5 is: 0.12951759566589174\n"
     ]
    }
   ],
   "source": [
    "import math\n",
    "\n",
    "# Function to calculate the PDF of a normal distribution at a given point\n",
    "def normal_pdf(x, mean, std_dev):\n",
    "    coefficient = 1 / (std_dev * math.sqrt(2 * math.pi))\n",
    "    exponent = -((x - mean) ** 2) / (2 * std_dev ** 2)\n",
    "    pdf_value = coefficient * math.exp(exponent)\n",
    "    return pdf_value\n",
    "\n",
    "# Example usage:\n",
    "mean_value = 0\n",
    "std_dev_value = 1\n",
    "point_to_evaluate = 1.5\n",
    "\n",
    "# Calculate and print the PDF directly\n",
    "pdf_at_point = normal_pdf(point_to_evaluate, mean_value, std_dev_value)\n",
    "print(f\"The PDF at {point_to_evaluate} is: {pdf_at_point}\")\n"
   ]
  },
  {
   "cell_type": "code",
   "execution_count": null,
   "id": "333e48f1",
   "metadata": {},
   "outputs": [],
   "source": [
    "Q4. What are the properties of Binomial distribution? Give two examples of events where binomial\n",
    "distribution can be applied."
   ]
  },
  {
   "cell_type": "code",
   "execution_count": null,
   "id": "d775118b",
   "metadata": {},
   "outputs": [],
   "source": [
    "The binomial distribution is a discrete probability distribution that models the number of successes in a fixed number of \n",
    "independent and identical Bernoulli trials. Here are some key properties of the binomial distribution:\n",
    "    \n",
    "Two Possible Outcomes: Each trial results in one of two outcomes, often labeled as success (S) and failure (F).\n",
    "\n",
    "Constant Probability of Success (p): The probability of success (u) is constant for each trial.\n",
    "\n",
    "Discrete: The random variable representing the number of successes is a discrete variable.\n",
    "    \n",
    "    \n",
    "Coin Flipping: Consider a fair coin being flipped n times. The outcome of each flip (heads or tails) is a Bernoulli trial,\n",
    "and the number of heads in the n flips follows a binomial distribution.\n",
    "\n",
    "Medical Testing: Imagine a diagnostic test for a disease where each individual is either diagnosed correctly (success) or \n",
    "incorrectly (failure). If n individuals are tested independently, and the probability of a correct diagnosis is constant for\n",
    "each individual, then the number of correct diagnoses follows a binomial distribution."
   ]
  },
  {
   "cell_type": "code",
   "execution_count": null,
   "id": "1935395e",
   "metadata": {},
   "outputs": [],
   "source": [
    "Q5. Generate a random sample of size 1000 from a binomial distribution with probability of success 0.4\n",
    "and plot a histogram of the results using matplotlib."
   ]
  },
  {
   "cell_type": "code",
   "execution_count": 2,
   "id": "5afecf1c",
   "metadata": {},
   "outputs": [
    {
     "data": {
      "image/png": "[encoded data removed]",
      "text/plain": [
       "<Figure size 432x288 with 1 Axes>"
      ]
     },
     "metadata": {
      "needs_background": "light"
     },
     "output_type": "display_data"
    }
   ],
   "source": [
    "import numpy as np\n",
    "import matplotlib.pyplot as plt\n",
    "\n",
    "# Set the parameters for the binomial distribution\n",
    "n = 10  # Number of trials\n",
    "p = 0.4  # Probability of success\n",
    "\n",
    "# Generate a random sample of size 1000 from the binomial distribution\n",
    "random_sample = np.random.binomial(n, p, size=1000)\n",
    "\n",
    "# Plot a histogram of the results\n",
    "plt.hist(random_sample, bins=np.arange(-0.5, n + 1.5, 1), edgecolor='black', alpha=0.7)\n",
    "plt.title(f'Binomial Distribution (n={n}, p={p}) - Random Sample of Size 1000')\n",
    "plt.xlabel('Number of Successes')\n",
    "plt.ylabel('Frequency')\n",
    "plt.grid(axis='y', linestyle='--', alpha=0.7)\n",
    "plt.show()"
   ]
  },
  {
   "cell_type": "code",
   "execution_count": null,
   "id": "34ff6374",
   "metadata": {},
   "outputs": [],
   "source": [
    "Q6. Write a Python function to calculate the cumulative distribution function of a Poisson distribution\n",
    "with given mean at a given point."
   ]
  },
  {
   "cell_type": "code",
   "execution_count": 3,
   "id": "03e9f0c5",
   "metadata": {},
   "outputs": [
    {
     "name": "stdout",
     "output_type": "stream",
     "text": [
      "The CDF at 3 is: 0.7575761331330659\n"
     ]
    }
   ],
   "source": [
    "import math\n",
    "\n",
    "def poisson_cdf(x, mean):\n",
    "    \"\"\"\n",
    "    Calculate the cumulative distribution function (CDF) of a Poisson distribution at a given point.\n",
    "\n",
    "    Parameters:\n",
    "    - x: The point at which to evaluate the CDF.\n",
    "    - mean: The mean of the Poisson distribution.\n",
    "\n",
    "    Returns:\n",
    "    - cdf_value: The CDF value at the given point.\n",
    "    \"\"\"\n",
    "    cdf_value = 0\n",
    "    for k in range(int(x) + 1):\n",
    "        cdf_value += math.exp(-mean) * (mean ** k) / math.factorial(k)\n",
    "    return cdf_value\n",
    "\n",
    "# Example usage:\n",
    "mean_value = 2.5\n",
    "point_to_evaluate = 3\n",
    "\n",
    "# Calculate and print the CDF\n",
    "cdf_at_point = poisson_cdf(point_to_evaluate, mean_value)\n",
    "print(f\"The CDF at {point_to_evaluate} is: {cdf_at_point}\")\n"
   ]
  },
  {
   "cell_type": "code",
   "execution_count": null,
   "id": "a8b2cc8e",
   "metadata": {},
   "outputs": [],
   "source": [
    "Q7. How Binomial distribution different from Poisson distribution?"
   ]
  },
  {
   "cell_type": "code",
   "execution_count": null,
   "id": "21a9d9be",
   "metadata": {},
   "outputs": [],
   "source": [
    "The Binomial distribution and Poisson distribution are both probability distributions used to model the number of events,\n",
    "often in the context of counting occurrences of a certain event. While they share similarities, there are key differences\n",
    "between the two distributions:\n",
    "    \n",
    "Nature of Events\n",
    "\n",
    "Binomial Distribution: Models the number of successes in a fixed number of independent and identical Bernoulli trials, \n",
    "where each trial can result in either success or failure.\n",
    "Poisson Distribution: Models the number of events that occur in a fixed interval of time or space. It is often used when \n",
    "the events are rare and random."
   ]
  },
  {
   "cell_type": "code",
   "execution_count": null,
   "id": "e01680c5",
   "metadata": {},
   "outputs": [],
   "source": [
    "Q8. Generate a random sample of size 1000 from a Poisson distribution with mean 5 and calculate the\n",
    "sample mean and variance."
   ]
  },
  {
   "cell_type": "code",
   "execution_count": 4,
   "id": "b376d76a",
   "metadata": {},
   "outputs": [
    {
     "name": "stdout",
     "output_type": "stream",
     "text": [
      "Sample Mean: 4.96\n",
      "Sample Variance: 5.0564\n"
     ]
    }
   ],
   "source": [
    "import numpy as np\n",
    "\n",
    "# Set the parameters for the Poisson distribution\n",
    "mean_value = 5\n",
    "\n",
    "# Generate a random sample of size 1000 from the Poisson distribution\n",
    "random_sample = np.random.poisson(mean_value, size=1000)\n",
    "\n",
    "# Calculate the sample mean and variance\n",
    "sample_mean = np.mean(random_sample)\n",
    "sample_variance = np.var(random_sample)\n",
    "\n",
    "# Print the results\n",
    "print(f\"Sample Mean: {sample_mean}\")\n",
    "print(f\"Sample Variance: {sample_variance}\")\n"
   ]
  },
  {
   "cell_type": "code",
   "execution_count": null,
   "id": "16aa09bb",
   "metadata": {},
   "outputs": [],
   "source": [
    "Q9. How mean and variance are related in Binomial distribution and Poisson distribution?"
   ]
  },
  {
   "cell_type": "code",
   "execution_count": null,
   "id": "2dc04001",
   "metadata": {},
   "outputs": [],
   "source": [
    "The mean (μ) and variance (σ) are related in both the Binomial distribution and the Poisson distribution, but the\n",
    "specific relationships differ between the two.\n",
    "\n",
    "Binomial Distribution\n",
    "\n",
    "For a Binomial distribution with parameters n (number of trials) and p (probability of success in each trial), the mean \n",
    "and variance are related.\n",
    "\n",
    "Poisson Distribution\n",
    "\n",
    "For a Poisson distribution with parameter λ (average rate of event occurrences per interval), the mean and variance."
   ]
  },
  {
   "cell_type": "code",
   "execution_count": null,
   "id": "bf53751a",
   "metadata": {},
   "outputs": [],
   "source": [
    "Q10. In normal distribution with respect to mean position, where does the least frequent data appear?"
   ]
  },
  {
   "cell_type": "code",
   "execution_count": null,
   "id": "574035d5",
   "metadata": {},
   "outputs": [],
   "source": [
    "In a normal distribution, the data is symmetrically distributed around the mean. The mean of a normal distribution is also its\n",
    "central point. Therefore, the least frequent data points appear in the tails or extreme ends of the distribution, farthest \n",
    "away from the mean.\n",
    "\n",
    "In a standard normal distribution (with a mean of 0 and a standard deviation of 1), the tails extend infinitely in both \n",
    "directions along the horizontal axis (x-axis). The probability density decreases as you move away from the mean towards the \n",
    "tails. The data points in the tails represent extreme values and are less likely to occur than those closer to the mean."
   ]
  },
  {
   "cell_type": "code",
   "execution_count": null,
   "id": "38692532",
   "metadata": {},
   "outputs": [],
   "source": []
  },
  {
   "cell_type": "code",
   "execution_count": null,
   "id": "9c1e38a4",
   "metadata": {},
   "outputs": [],
   "source": []
  },
  {
   "cell_type": "code",
   "execution_count": null,
   "id": "2bf32016",
   "metadata": {},
   "outputs": [],
   "source": []
  },
  {
   "cell_type": "code",
   "execution_count": null,
   "id": "3fde6555",
   "metadata": {},
   "outputs": [],
   "source": []
  },
  {
   "cell_type": "code",
   "execution_count": null,
   "id": "511d5cd9",
   "metadata": {},
   "outputs": [],
   "source": []
  },
  {
   "cell_type": "code",
   "execution_count": null,
   "id": "5eb93e10",
   "metadata": {},
   "outputs": [],
   "source": []
  },
  {
   "cell_type": "code",
   "execution_count": null,
   "id": "bb1d6648",
   "metadata": {},
   "outputs": [],
   "source": []
  },
  {
   "cell_type": "code",
   "execution_count": null,
   "id": "85a9f5c2",
   "metadata": {},
   "outputs": [],
   "source": []
  },
  {
   "cell_type": "code",
   "execution_count": null,
   "id": "e8f7b1c0",
   "metadata": {},
   "outputs": [],
   "source": []
  },
  {
   "cell_type": "code",
   "execution_count": null,
   "id": "668b11cc",
   "metadata": {},
   "outputs": [],
   "source": []
  },
  {
   "cell_type": "code",
   "execution_count": null,
   "id": "372e766a",
   "metadata": {},
   "outputs": [],
   "source": []
  },
  {
   "cell_type": "code",
   "execution_count": null,
   "id": "61ed1b5f",
   "metadata": {},
   "outputs": [],
   "source": []
  },
  {
   "cell_type": "code",
   "execution_count": null,
   "id": "e7be7aff",
   "metadata": {},
   "outputs": [],
   "source": []
  },
  {
   "cell_type": "code",
   "execution_count": null,
   "id": "6571ac16",
   "metadata": {},
   "outputs": [],
   "source": []
  },
  {
   "cell_type": "code",
   "execution_count": null,
   "id": "ccd82d35",
   "metadata": {},
   "outputs": [],
   "source": []
  },
  {
   "cell_type": "code",
   "execution_count": null,
   "id": "44f52d76",
   "metadata": {},
   "outputs": [],
   "source": []
  },
  {
   "cell_type": "code",
   "execution_count": null,
   "id": "04abc719",
   "metadata": {},
   "outputs": [],
   "source": []
  },
  {
   "cell_type": "code",
   "execution_count": null,
   "id": "5c9e7663",
   "metadata": {},
   "outputs": [],
   "source": []
  },
  {
   "cell_type": "code",
   "execution_count": null,
   "id": "c6d1dce5",
   "metadata": {},
   "outputs": [],
   "source": []
  },
  {
   "cell_type": "code",
   "execution_count": null,
   "id": "06b45d1b",
   "metadata": {},
   "outputs": [],
   "source": []
  },
  {
   "cell_type": "code",
   "execution_count": null,
   "id": "c899961a",
   "metadata": {},
   "outputs": [],
   "source": []
  },
  {
   "cell_type": "code",
   "execution_count": null,
   "id": "53ea66af",
   "metadata": {},
   "outputs": [],
   "source": []
  },
  {
   "cell_type": "code",
   "execution_count": null,
   "id": "2e6a54e6",
   "metadata": {},
   "outputs": [],
   "source": []
  },
  {
   "cell_type": "code",
   "execution_count": null,
   "id": "88dbc652",
   "metadata": {},
   "outputs": [],
   "source": []
  }
 ],
 "metadata": {
  "kernelspec": {
   "display_name": "Python 3 (ipykernel)",
   "language": "python",
   "name": "python3"
  },
  "language_info": {
   "codemirror_mode": {
    "name": "ipython",
    "version": 3
   },
   "file_extension": ".py",
   "mimetype": "text/x-python",
   "name": "python",
   "nbconvert_exporter": "python",
   "pygments_lexer": "ipython3",
   "version": "3.9.7"
  },
  "toc": {
   "base_numbering": 1,
   "nav_menu": {},
   "number_sections": true,
   "sideBar": true,
   "skip_h1_title": false,
   "title_cell": "Table of Contents",
   "title_sidebar": "Contents",
   "toc_cell": false,
   "toc_position": {},
   "toc_section_display": true,
   "toc_window_display": false
  }
 },
 "nbformat": 4,
 "nbformat_minor": 5
}

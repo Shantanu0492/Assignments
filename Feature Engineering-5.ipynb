{
 "cells": [
  {
   "cell_type": "code",
   "execution_count": null,
   "id": "5b9448f3",
   "metadata": {},
   "outputs": [],
   "source": [
    "Q1. What is the difference between Ordinal Encoding and Label Encoding? Provide an example of when you\n",
    "might choose one over the other."
   ]
  },
  {
   "cell_type": "code",
   "execution_count": null,
   "id": "9851156e",
   "metadata": {},
   "outputs": [],
   "source": [
    "Ordinal Encoding:\n",
    "\n",
    "Assigns a unique integer to each category, but the assigned integers have an ordered relationship.\n",
    "Used when there is a meaningful order or ranking among the categories.\n",
    "Example: Education levels (low, medium, high) can be encoded as (1, 2, 3).\n",
    "    \n",
    "Label Encoding:\n",
    "\n",
    "Assigns a unique integer to each category without considering any order.\n",
    "Used when there is no inherent order among the categories.\n",
    "Example: Colors (red, green, blue) can be encoded as (1, 2, 3)."
   ]
  },
  {
   "cell_type": "code",
   "execution_count": null,
   "id": "dae99625",
   "metadata": {},
   "outputs": [],
   "source": [
    "Q2. Explain how Target Guided Ordinal Encoding works and provide an example of when you might use it in\n",
    "a machine learning project."
   ]
  },
  {
   "cell_type": "code",
   "execution_count": null,
   "id": "56d4093b",
   "metadata": {},
   "outputs": [],
   "source": [
    "Explanation:\n",
    "\n",
    "Involves encoding categorical variables based on the mean of the target variable for each category.\n",
    "Helps the model understand the relationship between the categorical variable and the target variable.\n",
    "\n",
    "Example:\n",
    "\n",
    "If you have a dataset with a categorical feature like \"City\" and a binary target variable (1 or 0 for success/failure), \n",
    "target guided ordinal encoding could involve encoding each city based on the mean success rate."
   ]
  },
  {
   "cell_type": "code",
   "execution_count": null,
   "id": "d90c15b6",
   "metadata": {},
   "outputs": [],
   "source": [
    "Q3. Define covariance and explain why it is important in statistical analysis. How is covariance calculated?"
   ]
  },
  {
   "cell_type": "code",
   "execution_count": null,
   "id": "575434ca",
   "metadata": {},
   "outputs": [],
   "source": [
    "Definition:\n",
    "\n",
    "Covariance measures the degree of joint variability of two random variables.\n",
    "Positive covariance indicates a direct relationship, negative covariance indicates an inverse relationship, and zero \n",
    "covariance indicates no linear relationship.\n",
    "\n",
    "\n",
    "Importance:\n",
    "\n",
    "Useful for understanding the relationship between two variables.\n",
    "Used in portfolio theory, where covariance between assets helps in diversification."
   ]
  },
  {
   "cell_type": "code",
   "execution_count": null,
   "id": "b1605969",
   "metadata": {},
   "outputs": [],
   "source": [
    "Q4. For a dataset with the following categorical variables: Color (red, green, blue), Size (small, medium,\n",
    "large), and Material (wood, metal, plastic), perform label encoding using Python's scikit-learn library.\n",
    "Show your code and explain the output."
   ]
  },
  {
   "cell_type": "code",
   "execution_count": 1,
   "id": "0b1fdd36",
   "metadata": {},
   "outputs": [
    {
     "name": "stdout",
     "output_type": "stream",
     "text": [
      "   Color    Size Material  Color_encoded  Size_encoded  Material_encoded\n",
      "0    red   small     wood              2             2                 2\n",
      "1  green  medium    metal              1             1                 0\n",
      "2   blue   large  plastic              0             0                 1\n",
      "3  green   small    metal              1             2                 0\n"
     ]
    }
   ],
   "source": [
    "from sklearn.preprocessing import LabelEncoder\n",
    "import pandas as pd\n",
    "\n",
    "# Sample data\n",
    "data = {'Color': ['red', 'green', 'blue', 'green'],\n",
    "        'Size': ['small', 'medium', 'large', 'small'],\n",
    "        'Material': ['wood', 'metal', 'plastic', 'metal']}\n",
    "\n",
    "# Creating a DataFrame\n",
    "df = pd.DataFrame(data)\n",
    "\n",
    "# Initializing LabelEncoder\n",
    "label_encoder = LabelEncoder()\n",
    "\n",
    "# Applying LabelEncoder to each column\n",
    "df['Color_encoded'] = label_encoder.fit_transform(df['Color'])\n",
    "df['Size_encoded'] = label_encoder.fit_transform(df['Size'])\n",
    "df['Material_encoded'] = label_encoder.fit_transform(df['Material'])\n",
    "\n",
    "# Displaying the encoded DataFrame\n",
    "print(df)"
   ]
  },
  {
   "cell_type": "code",
   "execution_count": null,
   "id": "3fbc21c7",
   "metadata": {},
   "outputs": [],
   "source": [
    "Output Explanation:\n",
    "\n",
    "The code uses LabelEncoder to transform each categorical column into numerical values.\n",
    "For 'Color', 'Size', and 'Material', new columns 'Color_encoded', 'Size_encoded', and 'Material_encoded' are created, \n",
    "respectively.\n",
    "The integers assigned are based on the alphabetical order of unique values in each column."
   ]
  },
  {
   "cell_type": "code",
   "execution_count": null,
   "id": "06fe6ffc",
   "metadata": {},
   "outputs": [],
   "source": [
    "Q5. Calculate the covariance matrix for the following variables in a dataset: Age, Income, and Education\n",
    "level. Interpret the results."
   ]
  },
  {
   "cell_type": "code",
   "execution_count": null,
   "id": "3b8b1aa9",
   "metadata": {},
   "outputs": [],
   "source": [
    "Certainly! To calculate the covariance matrix for the given variables (Age, Income, and Education level), you can use the \n",
    "NumPy library in Python. Here's the code for calculating the covariance matrix:"
   ]
  },
  {
   "cell_type": "code",
   "execution_count": 2,
   "id": "637b5f95",
   "metadata": {},
   "outputs": [
    {
     "name": "stdout",
     "output_type": "stream",
     "text": [
      "Covariance Matrix:\n",
      "[[6.250e+01 1.125e+05 1.000e+01]\n",
      " [1.125e+05 2.550e+08 2.625e+04]\n",
      " [1.000e+01 2.625e+04 5.000e+00]]\n"
     ]
    }
   ],
   "source": [
    "import numpy as np\n",
    "\n",
    "# Sample data\n",
    "age = np.array([25, 30, 35, 40, 45])\n",
    "income = np.array([50000, 60000, 75000, 90000, 80000])\n",
    "education_level = np.array([12, 16, 14, 18, 15])\n",
    "\n",
    "# Creating a matrix with the variables\n",
    "data_matrix = np.vstack((age, income, education_level))\n",
    "\n",
    "# Calculating the covariance matrix\n",
    "covariance_matrix = np.cov(data_matrix)\n",
    "\n",
    "# Displaying the covariance matrix\n",
    "print(\"Covariance Matrix:\")\n",
    "print(covariance_matrix)"
   ]
  },
  {
   "cell_type": "code",
   "execution_count": null,
   "id": "1eacb6f7",
   "metadata": {},
   "outputs": [],
   "source": [
    "It's important to note that covariance doesn't provide information about the strength or direction of the relationship. \n",
    "For a more standardized measure of the strength and direction of the relationship, you may consider calculating the \n",
    "correlation coefficient."
   ]
  },
  {
   "cell_type": "code",
   "execution_count": null,
   "id": "e29a5197",
   "metadata": {},
   "outputs": [],
   "source": [
    "Q6. You are working on a machine learning project with a dataset containing several categorical\n",
    "variables, including \"Gender\" (Male/Female), \"Education Level\" (High School/Bachelor's/Master's/PhD),\n",
    "and \"Employment Status\" (Unemployed/Part-Time/Full-Time). Which encoding method would you use for\n",
    "each variable, and why?"
   ]
  },
  {
   "cell_type": "code",
   "execution_count": null,
   "id": "cfef836c",
   "metadata": {},
   "outputs": [],
   "source": [
    "For the categorical variables \"Gender,\" \"Education Level,\" and \"Employment Status\" in a machine learning project, you would \n",
    "typically choose encoding methods based on the nature of each variable. Here's a recommended encoding method for each:\n",
    "\n",
    "\n",
    "Gender (Binary Categorical Variable):\n",
    "\n",
    "Encoding Method: Binary Encoding or One-Hot Encoding.\n",
    "    \n",
    "Explanation:\n",
    "For a binary variable like \"Gender\" (Male/Female), you can use Binary Encoding (0/1) or One-Hot Encoding \n",
    "(two columns: Male and Female). Both methods are suitable, and the choice depends on the model and the potential impact \n",
    "of encoding.\n",
    "\n",
    "Education Level (Ordinal Categorical Variable):\n",
    "\n",
    "Encoding Method: Ordinal Encoding.\n",
    "Explanation:\n",
    "\"Education Level\" has an inherent order (High School < Bachelor's < Master's < PhD), making it an ordinal categorical \n",
    "variable. Use Ordinal Encoding to preserve this order. Assign numerical values (e.g., 1, 2, 3, 4) representing the education\n",
    "levels.\n",
    "\n",
    "Employment Status (Nominal Categorical Variable):\n",
    "\n",
    "Encoding Method: One-Hot Encoding.\n",
    "Explanation:\n",
    "\"Employment Status\" is nominal, meaning there's no inherent order among categories (Unemployed, Part-Time, Full-Time). \n",
    "Use One-Hot Encoding to create binary columns for each category. This avoids introducing a false sense of order that \n",
    "Ordinal Encoding might imply.\n",
    "\n"
   ]
  },
  {
   "cell_type": "code",
   "execution_count": null,
   "id": "427a8f54",
   "metadata": {},
   "outputs": [],
   "source": [
    "Q7. You are analyzing a dataset with two continuous variables, \"Temperature\" and \"Humidity\", and two\n",
    "categorical variables, \"Weather Condition\" (Sunny/Cloudy/Rainy) and \"Wind Direction\" (North/South/\n",
    "East/West). Calculate the covariance between each pair of variables and interpret the results."
   ]
  },
  {
   "cell_type": "code",
   "execution_count": null,
   "id": "05838cce",
   "metadata": {},
   "outputs": [],
   "source": [
    "To calculate the covariance between each pair of variables in a dataset with two continuous variables \n",
    "(\"Temperature\" and \"Humidity\") and two categorical variables (\"Weather Condition\" and \"Wind Direction\"), we need to consider \n",
    "the covariance between each combination of variables."
   ]
  },
  {
   "cell_type": "code",
   "execution_count": 5,
   "id": "0c5f5c58",
   "metadata": {},
   "outputs": [
    {
     "name": "stdout",
     "output_type": "stream",
     "text": [
      "Covariance Matrix (Continuous Variables):\n",
      "[[  9.2 -26.5]\n",
      " [-26.5  92.5]]\n",
      "\n",
      "Covariance between Temperature and Weather Condition:\n",
      "[[9.2  0.25]\n",
      " [0.25 1.  ]]\n",
      "\n",
      "Covariance between Humidity and Weather Condition:\n",
      "[[92.5  0. ]\n",
      " [ 0.   1. ]]\n",
      "\n",
      "Covariance between Temperature and Wind Direction:\n",
      "[[9.2 3.4]\n",
      " [3.4 1.3]]\n",
      "\n",
      "Covariance between Humidity and Wind Direction:\n",
      "[[92.5  -9.25]\n",
      " [-9.25  1.3 ]]\n"
     ]
    }
   ],
   "source": [
    "import numpy as np\n",
    "import pandas as pd\n",
    "\n",
    "# Sample data\n",
    "data = {'Temperature': [25, 28, 22, 30, 26],\n",
    "        'Humidity': [60, 55, 70, 45, 50],\n",
    "        'Weather Condition': ['Sunny', 'Cloudy', 'Rainy', 'Sunny', 'Cloudy'],\n",
    "        'Wind Direction': ['North', 'South', 'East', 'West', 'North']}\n",
    "\n",
    "# Creating a DataFrame\n",
    "df = pd.DataFrame(data)\n",
    "\n",
    "# Selecting only the continuous variables\n",
    "continuous_variables = df[['Temperature', 'Humidity']]\n",
    "\n",
    "# Calculating covariance matrix for continuous variables\n",
    "cov_continuous = np.cov(continuous_variables, rowvar=False)\n",
    "\n",
    "# Displaying the covariance matrix for continuous variables\n",
    "print(\"Covariance Matrix (Continuous Variables):\")\n",
    "print(cov_continuous)\n",
    "\n",
    "# Calculating covariance between categorical and continuous variables\n",
    "cov_temp_weather = np.cov(df['Temperature'], df['Weather Condition'].astype('category').cat.codes)\n",
    "cov_humidity_weather = np.cov(df['Humidity'], df['Weather Condition'].astype('category').cat.codes)\n",
    "cov_temp_wind = np.cov(df['Temperature'], df['Wind Direction'].astype('category').cat.codes)\n",
    "cov_humidity_wind = np.cov(df['Humidity'], df['Wind Direction'].astype('category').cat.codes)\n",
    "\n",
    "# Displaying covariance between categorical and continuous variables\n",
    "print(\"\\nCovariance between Temperature and Weather Condition:\")\n",
    "print(cov_temp_weather)\n",
    "\n",
    "print(\"\\nCovariance between Humidity and Weather Condition:\")\n",
    "print(cov_humidity_weather)\n",
    "\n",
    "print(\"\\nCovariance between Temperature and Wind Direction:\")\n",
    "print(cov_temp_wind)\n",
    "\n",
    "print(\"\\nCovariance between Humidity and Wind Direction:\")\n",
    "print(cov_humidity_wind)\n"
   ]
  },
  {
   "cell_type": "code",
   "execution_count": null,
   "id": "13fc1b07",
   "metadata": {},
   "outputs": [],
   "source": [
    "Interpretation\n",
    "\n",
    "Covariance Matrix for Continuous Variables:\n",
    "\n",
    "This matrix shows the covariances between \"Temperature\" and \"Humidity.\"\n",
    "Interpret as discussed in previous responses.\n",
    "Covariance between Temperature and Categorical Variables:\n",
    "\n",
    "Covariance between \"Temperature\" and \"Weather Condition\" provides an indication of how they vary together.\n",
    "A positive covariance suggests that as temperature increases, the weather condition tends to be sunnier.\n",
    "A negative covariance suggests an inverse relationship.\n",
    "Covariance between Humidity and Categorical Variables:\n",
    "\n",
    "Covariance between \"Humidity\" and \"Weather Condition\" indicates how they vary together.\n",
    "A positive covariance suggests that as humidity increases, the weather condition tends to be cloudier.\n",
    "A negative covariance suggests an inverse relationship.\n",
    "Covariance between Temperature/Humidity and Wind Direction:\n",
    "\n",
    "Similar interpretations can be made for the covariances between \"Temperature\" and \"Wind Direction\" and \"Humidity\" and \n",
    "\"Wind Direction.\""
   ]
  }
 ],
 "metadata": {
  "kernelspec": {
   "display_name": "Python 3 (ipykernel)",
   "language": "python",
   "name": "python3"
  },
  "language_info": {
   "codemirror_mode": {
    "name": "ipython",
    "version": 3
   },
   "file_extension": ".py",
   "mimetype": "text/x-python",
   "name": "python",
   "nbconvert_exporter": "python",
   "pygments_lexer": "ipython3",
   "version": "3.9.7"
  },
  "toc": {
   "base_numbering": 1,
   "nav_menu": {},
   "number_sections": true,
   "sideBar": true,
   "skip_h1_title": false,
   "title_cell": "Table of Contents",
   "title_sidebar": "Contents",
   "toc_cell": false,
   "toc_position": {},
   "toc_section_display": true,
   "toc_window_display": false
  }
 },
 "nbformat": 4,
 "nbformat_minor": 5
}

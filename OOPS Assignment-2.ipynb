{
 "cells": [
  {
   "cell_type": "markdown",
   "id": "15a48e8b",
   "metadata": {},
   "source": [
    "Q1. What is Abstraction in OOps? Explain with an example."
   ]
  },
  {
   "cell_type": "code",
   "execution_count": null,
   "id": "55d30dc6",
   "metadata": {},
   "outputs": [],
   "source": [
    "We need to import abstract from abc library, as it's not available in python by default.\n",
    "\n",
    "In abstraction we don't create any object class here, it's only use for decleartion purpose. \n",
    "It's help to manditate specific function which needs to be run in the child class. \n",
    "By creating one abstraction function in parents class, we can create multiple child class."
   ]
  },
  {
   "cell_type": "markdown",
   "id": "7079c1b7",
   "metadata": {},
   "source": [
    "Q2. Differentiate between Abstraction and Encapsulation. Explain with an example."
   ]
  },
  {
   "cell_type": "markdown",
   "id": "aa576f37",
   "metadata": {},
   "source": [
    "Abstraction provides a high-level view of an object or a system, allowing developers to focus on what an object does rather\n",
    "than how it does it. It is achieved through the use of classes and interfaces in OOP."
   ]
  },
  {
   "cell_type": "markdown",
   "id": "0f965c02",
   "metadata": {},
   "source": [
    "Encapsulation provides data hiding and only exposes the necessary parts of an object's state, \n",
    "controlling access through methods (getters and setters) while maintaining data integrity and security."
   ]
  },
  {
   "cell_type": "markdown",
   "id": "bd0abb1b",
   "metadata": {},
   "source": [
    "Q3. What is abc module in python? Why is it used?"
   ]
  },
  {
   "cell_type": "markdown",
   "id": "904a97b1",
   "metadata": {},
   "source": [
    "The abc module in Python stands for \"Abstract Base Classes.\" It is a module that provides a framework for defining \n",
    "abstract base classes in Python. Abstract base classes are used for defining abstract interfaces or common methods \n",
    "that must be implemented by concrete (sub)classes. The abc module is part of the Python Standard Library and is used\n",
    "for enforcing a level of structure and consistency in class hierarchies."
   ]
  },
  {
   "cell_type": "markdown",
   "id": "34981d09",
   "metadata": {},
   "source": [
    "Q4. How can we achieve data abstraction?"
   ]
  },
  {
   "cell_type": "markdown",
   "id": "6403a5d1",
   "metadata": {},
   "source": [
    "Data abstraction is a process of hiding data or provide a access to the complex data.\n",
    "by using Class and object, __Privte or _secure, Getter and setter method we can achive data abstraction"
   ]
  },
  {
   "cell_type": "markdown",
   "id": "cd52eae2",
   "metadata": {},
   "source": [
    "Q5. Can we create an instance of an abstract class? Explain your answer."
   ]
  },
  {
   "cell_type": "markdown",
   "id": "8c9a59f8",
   "metadata": {},
   "source": [
    "No we can not create an instance of abstract class because its a child class or base class"
   ]
  },
  {
   "cell_type": "code",
   "execution_count": null,
   "id": "8c60362b",
   "metadata": {},
   "outputs": [],
   "source": []
  }
 ],
 "metadata": {
  "kernelspec": {
   "display_name": "Python 3 (ipykernel)",
   "language": "python",
   "name": "python3"
  },
  "language_info": {
   "codemirror_mode": {
    "name": "ipython",
    "version": 3
   },
   "file_extension": ".py",
   "mimetype": "text/x-python",
   "name": "python",
   "nbconvert_exporter": "python",
   "pygments_lexer": "ipython3",
   "version": "3.9.7"
  },
  "toc": {
   "base_numbering": 1,
   "nav_menu": {},
   "number_sections": true,
   "sideBar": true,
   "skip_h1_title": false,
   "title_cell": "Table of Contents",
   "title_sidebar": "Contents",
   "toc_cell": false,
   "toc_position": {},
   "toc_section_display": true,
   "toc_window_display": false
  }
 },
 "nbformat": 4,
 "nbformat_minor": 5
}

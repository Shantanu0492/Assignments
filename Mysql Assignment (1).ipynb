{
 "cells": [
  {
   "cell_type": "markdown",
   "id": "b92cc3f8-d399-4ae1-9501-7e0799e103b5",
   "metadata": {},
   "source": [
    "Q1. What is a database? Differentiate between SQL and NoSQL databases."
   ]
  },
  {
   "cell_type": "markdown",
   "id": "66a46a49-0138-49b5-8676-e19ac481eb9e",
   "metadata": {},
   "source": [
    "Database is a systmatic collection of information which is stored in such a way that it can be easily accessed,\n",
    "retrieved, manage and update.\n",
    "it is were all the data is stored in the form of rows and columns i:e - tables.\n",
    "\n",
    "SQL - Structured query langugae is a type of database in which SQL, MySQL, MSSQL, DB2, Oracle 11G/12G type of db\n",
    "      is available. \n",
    "    \n",
    "      SQL is a relational database which means they use structure schemas and tables to store data. like rows and\n",
    "      columns \n",
    "    \n",
    "      SQL databases are often used for applications with complex queries and transactions, where data integrity and\n",
    "      relationships are crucial.\n",
    "    \n",
    "NoSQL -  Not only SQL is a databases are non-relational and can be schemaless. They can store data in various \n",
    "         formats such as key-value pairs.\n",
    "         \n",
    "         NoSQL databases are often schema-less, meaning data can be inserted without a predefined schema.\n",
    "            \n",
    "        NoSQL databases are designed to scale horizontally, meaning you can add more servers to distribute \n",
    "        the load."
   ]
  },
  {
   "cell_type": "markdown",
   "id": "4e5ae170-ec78-4e7f-b8d9-5b98ca38eb8e",
   "metadata": {},
   "source": [
    "Q2. What is DDL? Explain why CREATE, DROP, ALTER, and TRUNCATE are used with an example."
   ]
  },
  {
   "cell_type": "markdown",
   "id": "fcb1855a-c3a4-4acf-a967-1a67d68b3705",
   "metadata": {},
   "source": [
    "DDL stands for Data Defination Language its a subset of SQL. mostly its use to define the database and \n",
    "also to manage the database. DDL is used for CREATE, DROP, ALTER & TRUNCATE.\n",
    "\n",
    "CREATE - It is use to create a new databases / Tables / index etc.\n",
    "\n",
    "exm - CREATE DATABASE DB_Name;\n",
    "\n",
    "      CREATE TABLE emp_data(emp_id int, emp_name varchar(30), Salary int, emp_location varchar (50));\n",
    "    \n",
    "DROP - It is use to remove the objects in the Databases like table, column.\n",
    "\n",
    "exm - DROP TABLE emp_data;\n",
    "      DROP COLUMN emp_name;\n",
    "    \n",
    "    It will delete all the rows and columns as well as the structure from the database.\n",
    "    \n",
    "Alter - It is use to modify or to update the table by adding and removing the column/rows.\n",
    "\n",
    "exm - ALTER TABLE emp_data Contact int;\n",
    "    \n",
    "      ALTER TABLE emp_data modify column empid int;\n",
    "        \n",
    "      ALTER TABLE emp_data DROP column Contact;\n",
    "    \n",
    "TRUNCATE - It is use to delete all rows present in the structure and only columns will be remain in the TABLE.\n",
    "\n",
    "exm - TRUNCATE TABLE emp_data;"
   ]
  },
  {
   "cell_type": "markdown",
   "id": "ae048cca-666e-449a-bbc6-22608403cecf",
   "metadata": {},
   "source": [
    "Q3. What is DML? Explain INSERT, UPDATE, and DELETE with an example."
   ]
  },
  {
   "cell_type": "markdown",
   "id": "b21256ad-0174-4ee2-adfc-3aee216a67e6",
   "metadata": {},
   "source": [
    "DML stands for Data Manipulation Language. It is a subset of SQL used for manipulating data stored in a\n",
    "relational database. DML used for inserting, updating, and deleting data in database tables.\n",
    "\n",
    "INSERT - It is use for inserting the data in the table in the form of rows.\n",
    "\n",
    "exm - INSERT into emp_data( emp_id, emp_name, Salary, emp_location)\n",
    "      values (10010, \"Shantanu\", 76000, \"pune\"),\n",
    "              (10011, \"Ayush\", 86000, \"Nagpur\");\n",
    "    \n",
    "UPDATE - It is use for update the records which is already present in the table.\n",
    "\n",
    "exm - UPDATE emp_data SET emp_name = 'Jane' WHERE emp_id = 10011;\n",
    "\n",
    "\n",
    "DELETE - Its is use to delete a perticular row or complete rows from the structure.\n",
    "\n",
    "exm - DELETE from emp_data WHERE emp_location is Nagpur;\n",
    "\n",
    "      DELETE from emp_data;"
   ]
  },
  {
   "cell_type": "markdown",
   "id": "b979b909-1e0f-436b-a542-4f676dadbeff",
   "metadata": {},
   "source": [
    "Q4. What is DQL? Explain SELECT with an example."
   ]
  },
  {
   "cell_type": "markdown",
   "id": "62cee52c-fd8f-4455-a139-288595ed8596",
   "metadata": {},
   "source": [
    "DQL stands for Data Query language. Its a subset of SQL and its use for querying and retrieving the data from \n",
    "the database. SELECT statement is used here for query the database and retrieve the data from it.\n",
    "\n",
    "Exm - SELECT * from emp_data;\n",
    "\n",
    "this will fetch the data from the emp_data Table from the data base.\n",
    "\n",
    "for sepcific columns we need to mentioion the column name as below.\n",
    "\n",
    "SELECT emp_id from emp_data;\n"
   ]
  },
  {
   "cell_type": "markdown",
   "id": "16396bac-cedc-4969-b598-c5bc8d38821d",
   "metadata": {},
   "source": [
    "Q5. Explain Primary Key and Foreign Key."
   ]
  },
  {
   "cell_type": "markdown",
   "id": "41e94ad0-7c02-4704-b89b-4d599afdf7f4",
   "metadata": {},
   "source": [
    "Primery key constrain will uniquely indentify each rows present in the table and ensure that the primery \n",
    "key's column must have only unique values in it. Primary key will check the values of the column which is \n",
    "set as a foriegn key and ensure that it contain only unique values only.\n",
    "\n",
    "Foriegn key constrain ensure that the values in a column which is set a foriegn must match with the primary\n",
    "key column values."
   ]
  },
  {
   "cell_type": "markdown",
   "id": "fd5d2ea8-6d85-4781-aeed-5222460a62a5",
   "metadata": {},
   "source": [
    "Q6. Write a python code to connect MySQL to python. Explain the cursor() and execute() method."
   ]
  },
  {
   "cell_type": "markdown",
   "id": "5abfc6a1-a714-4867-9db5-65364648c617",
   "metadata": {},
   "source": [
    "#create a file_name.py\n",
    "\n",
    "#importing the library\n",
    "\n",
    "import mysql.connector\n",
    "\n",
    "#creating user and password\n",
    "\n",
    "mydb = mysql.connector.connect(\n",
    "  host=\"localhost\",\n",
    "  user=\"abc\",\n",
    "  password=\"password\"\n",
    ")\n",
    "\n",
    "print(mydb)\n",
    "\n",
    "mycursor = mydb.cursor()\n",
    "mycursor.execute(\"SHOW DATABASE\")\n",
    "\n",
    "for i in mycursor:\n",
    "    print(i)\n",
    "    \n",
    "Cursor = In the context of SQL and database connectors, the term \"cursor\" typically refers to a programming construct that allows you to iterate over the rows of a result set retrieved by a SQL query. Cursors are used to process rows returned by a SELECT statement one at a time, and they provide a way to navigate and manipulate the data.\n",
    "\n",
    "Execute = Basically it is use to execute a stored procedure or a dynamically constructed SQL statement."
   ]
  },
  {
   "cell_type": "markdown",
   "id": "5f453d0e-fdbb-4421-80ec-bef293723215",
   "metadata": {},
   "source": [
    "Q7. Give the order of execution of SQL clauses in an SQL query."
   ]
  },
  {
   "cell_type": "markdown",
   "id": "54c944fb-7810-4782-ad3e-4ea8106c7022",
   "metadata": {},
   "source": [
    "In SQL, a query is typically constructed using several clauses, and the order of execution follows a specific \n",
    "sequence. The basic structure of a SELECT statement, which is the most common type of SQL query, includes the\n",
    "following clauses, and they are generally executed in the following order:\n",
    "\n",
    "SELECT: FROM: WHERE: GROUP BY: HAVING: ORDER BY:\n"
   ]
  }
 ],
 "metadata": {
  "kernelspec": {
   "display_name": "Python 3 (ipykernel)",
   "language": "python",
   "name": "python3"
  },
  "language_info": {
   "codemirror_mode": {
    "name": "ipython",
    "version": 3
   },
   "file_extension": ".py",
   "mimetype": "text/x-python",
   "name": "python",
   "nbconvert_exporter": "python",
   "pygments_lexer": "ipython3",
   "version": "3.10.8"
  }
 },
 "nbformat": 4,
 "nbformat_minor": 5
}

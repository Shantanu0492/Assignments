{
 "cells": [
  {
   "cell_type": "code",
   "execution_count": null,
   "id": "6eef8433",
   "metadata": {},
   "outputs": [],
   "source": [
    "Q1. What is Statistics?"
   ]
  },
  {
   "cell_type": "code",
   "execution_count": null,
   "id": "b6000763",
   "metadata": {},
   "outputs": [],
   "source": [
    "Statistics is the science of collecting , organising and analysing of the data.\n",
    "\n",
    "where data is the facts or piece of information avaliable.\n",
    "\n",
    "example - To measure the height of the students, IQ of the students in the class.\n",
    "\n",
    "Basically this helps in desision making process."
   ]
  },
  {
   "cell_type": "code",
   "execution_count": null,
   "id": "57fbfb96",
   "metadata": {},
   "outputs": [],
   "source": [
    "Q2. Define the different types of statistics and give an example of when each type might be used."
   ]
  },
  {
   "cell_type": "code",
   "execution_count": null,
   "id": "034dedde",
   "metadata": {},
   "outputs": [],
   "source": [
    "There are two types of statistics:\n",
    "\n",
    "1) Discriptive Statistics\n",
    "    It consist of organising and summering the data.\n",
    "    Its measure the centrial tendency (median, mode, mean)\n",
    "    Measure of despersion (Variance, std)\n",
    "    Different type of distribution of data (Histogram)\n",
    "    \n",
    "    2) Inferential Statistics\n",
    "    Z-test\n",
    "    T-test\n",
    "    like - Hypotesis test, P-values, Significance values"
   ]
  },
  {
   "cell_type": "code",
   "execution_count": null,
   "id": "6fc32a70",
   "metadata": {},
   "outputs": [],
   "source": [
    "Q3. What are the different types of data and how do they differ from each other? Provide an example of\n",
    "each type of data."
   ]
  },
  {
   "cell_type": "code",
   "execution_count": null,
   "id": "982b72e5",
   "metadata": {},
   "outputs": [],
   "source": [
    "The data is of 2 types :\n",
    "    \n",
    "    1) Quantitative Variable Data.  - Discrite Data and Continous Data\n",
    "    2) Qualitative Variable Data.  - Nominal Data and Ordinal Data\n",
    "    \n",
    "Discrite data consist of whole numbers such like 2,3,4,5,6.\n",
    "for exmp - No of cars on road.\n",
    "           No of people in room\n",
    "    \n",
    "Continous Data consist of any values its can be intiger or float.\n",
    "for exmp - Weight, Temperature,speed,time etc."
   ]
  },
  {
   "cell_type": "code",
   "execution_count": null,
   "id": "391bee15",
   "metadata": {},
   "outputs": [],
   "source": [
    "Q4. Categorise the following datasets with respect to quantitative and qualitative data types:\n",
    "(i) Grading in exam: A+, A, B+, B, C+, C, D, E\n",
    "(ii) Colour of mangoes: yellow, green, orange, red\n",
    "(iii) Height data of a class: [178.9, 179, 179.5, 176, 177.2, 178.3, 175.8,...]\n",
    "(iv) Number of mangoes exported by a farm: [500, 600, 478, 672, ...]"
   ]
  },
  {
   "cell_type": "code",
   "execution_count": null,
   "id": "cdfc0a0b",
   "metadata": {},
   "outputs": [],
   "source": [
    "Quantitative - \n",
    "\n",
    "Discrite - Number of mangoes exported by a farm: [500, 600, 478, 672, ...]\n",
    "Continous - Height data of a class: [178.9, 179, 179.5, 176, 177.2, 178.3, 175.8,...]\n",
    "\n",
    "Qualitative - \n",
    "\n",
    "Nominal - Colour of mangoes: yellow, green, orange, red\n",
    "Ordinal - Grading in exam: A+, A, B+, B, C+, C, D, E"
   ]
  },
  {
   "cell_type": "code",
   "execution_count": null,
   "id": "bff90e55",
   "metadata": {},
   "outputs": [],
   "source": [
    "Q5. Explain the concept of levels of measurement and give an example of a variable for each level."
   ]
  },
  {
   "cell_type": "code",
   "execution_count": null,
   "id": "c9df36f0",
   "metadata": {},
   "outputs": [],
   "source": [
    "Levels of measurement, also known as scales of measurement or data types, refer to the different ways in which \n",
    "variables can be measured and categorized. There are four main levels of measurement: nominal, ordinal, interval, and ratio.\n",
    "    \n",
    "Nominal Level:\n",
    "\n",
    "At this level, variables are categorized or labeled without any quantitative value.\n",
    "Example: Gender (male, female), Colors (red, blue, green), Marital Status (single, married, divorced).\n",
    "Ordinal Level:\n",
    "\n",
    "Variables at the ordinal level have categories with a meaningful order or rank, but the intervals between the \n",
    "categories are not uniform.\n",
    "Example: Education level (high school, bachelor's, master's, PhD), Socio-economic class (lower class, middle class,\n",
    "upper class), Likert scale responses (strongly agree, agree, neutral, disagree, strongly disagree)."
   ]
  },
  {
   "cell_type": "code",
   "execution_count": null,
   "id": "f197208f",
   "metadata": {},
   "outputs": [],
   "source": [
    "Q6. Why is it important to understand the level of measurement when analyzing data? Provide an\n",
    "example to illustrate your answer."
   ]
  },
  {
   "cell_type": "code",
   "execution_count": null,
   "id": "257e59fd",
   "metadata": {},
   "outputs": [],
   "source": [
    "Understanding the level of measurement is crucial in data analysis because it determines the appropriate \n",
    "statistical methods and operations that can be applied to the data. Different levels of measurement have \n",
    "implications for the type of summary statistics, graphical representations, and statistical tests that can be used.\n",
    "Using an inappropriate statistical method for a given level of measurement can lead to incorrect interpretations\n",
    "and conclusions."
   ]
  },
  {
   "cell_type": "code",
   "execution_count": null,
   "id": "6ddf287f",
   "metadata": {},
   "outputs": [],
   "source": [
    "Q7. How nominal data type is different from ordinal data type."
   ]
  },
  {
   "cell_type": "code",
   "execution_count": null,
   "id": "d6f5722b",
   "metadata": {},
   "outputs": [],
   "source": [
    "In nominal data we have no rank system, like no greater than here.\n",
    "for example - Male, Female / Blood group / Pincode \n",
    "\n",
    "Here no rank is give no one is greater than other one.\n",
    "\n",
    "In ordinal data type Rank is assigned for example - Good and Bad, Higher and Lower, Close and open."
   ]
  },
  {
   "cell_type": "code",
   "execution_count": null,
   "id": "045876dc",
   "metadata": {},
   "outputs": [],
   "source": [
    "Q8. Which type of plot can be used to display data in terms of range?"
   ]
  },
  {
   "cell_type": "code",
   "execution_count": null,
   "id": "879afec7",
   "metadata": {},
   "outputs": [],
   "source": [
    "A box plot, is a type of plot that can be used to display data in terms of range. The box plot provides a visual \n",
    "representation of the distribution of a dataset, including the minimum, first quartile, median, third quartile, \n",
    "and maximum values. The \"box\" represents the interquartile range (IQR) and the \"whiskers\" extend to the minimum \n",
    "and maximum values."
   ]
  },
  {
   "cell_type": "code",
   "execution_count": null,
   "id": "d5ed6ade",
   "metadata": {},
   "outputs": [],
   "source": [
    "Q9. Describe the difference between descriptive and inferential statistics. Give an example of each\n",
    "type of statistics and explain how they are used."
   ]
  },
  {
   "cell_type": "code",
   "execution_count": null,
   "id": "fb0ebae0",
   "metadata": {},
   "outputs": [],
   "source": [
    "Descriptive statistics involve methods of summarizing and presenting data in a meaningful way. These statistics help in\n",
    "organizing and simplifying large amounts of data to provide a clear and concise picture of its main features. \n",
    "Descriptive statistics describe the central tendency, dispersion, and shape of a dataset. Common measures of \n",
    "descriptive statistics include mean, median, mode, range, variance, and standard deviation.\n",
    "\n",
    "Example:\n",
    "\n",
    "Suppose you have collected the scores of students in a class on a mathematics test. Descriptive statistics would involve \n",
    "calculating the mean (average) score, the median (middle score), and the standard deviation (a measure of how spread out \n",
    "the scores are). These summary statistics provide a quick overview of the performance of the class without making any \n",
    "inferences beyond the data at hand.\n",
    "\n",
    "Inferential statistics, on the other hand, involve drawing conclusions and making predictions about a population based on \n",
    "a sample of data from that population. This type of statistics uses probability theory to make inferences about the \n",
    "characteristics of a population. Inferential statistics include hypothesis testing, regression analysis, analysis of\n",
    "variance, and confidence intervals.\n",
    "\n",
    "Example:\n",
    "\n",
    "Continuing with the student scores example, if you want to make inferences about the entire student population based \n",
    "on the scores of your sample, you might conduct hypothesis testing. For instance, you could use inferential statistics to\n",
    "test whether the average test score of your sample is significantly different from the average test score of all students\n",
    "in the school. This allows you to make broader statements or predictions about the larger population."
   ]
  },
  {
   "cell_type": "code",
   "execution_count": null,
   "id": "6bbcdbaa",
   "metadata": {},
   "outputs": [],
   "source": [
    "Q10. What are some common measures of central tendency and variability used in statistics? Explain\n",
    "how each measure can be used to describe a dataset."
   ]
  },
  {
   "cell_type": "code",
   "execution_count": null,
   "id": "ac8bfd50",
   "metadata": {},
   "outputs": [],
   "source": [
    "Measures of Central Tendency:\n",
    "\n",
    "Mean:\n",
    "\n",
    "Calculation: The mean is calculated by adding up all the values in a dataset and dividing by the number of observations.\n",
    "Use: The mean represents the average value of a dataset and is sensitive to extreme values. It's suitable for interval \n",
    "and ratio data.\n",
    "\n",
    "Median:\n",
    "\n",
    "Calculation: The median is the middle value of a dataset when it is ordered. If there is an even number of observations, \n",
    "the median is the average of the two middle values.\n",
    "Use: The median is less sensitive to extreme values than the mean and is suitable for ordinal, interval, and ratio data.\n",
    "    \n",
    "Mode:\n",
    "\n",
    "Calculation: The mode is the value that occurs most frequently in a dataset.\n",
    "Use: The mode is useful for nominal, ordinal, interval, and ratio data. A dataset may have one mode (unimodal), more than \n",
    "one mode (multimodal), or no mode."
   ]
  },
  {
   "cell_type": "code",
   "execution_count": null,
   "id": "e94673d8",
   "metadata": {},
   "outputs": [],
   "source": [
    "Measures of Variability (Dispersion):\n",
    "\n",
    "Range:\n",
    "\n",
    "Calculation: Range is the difference between the maximum and minimum values in a dataset.\n",
    "Use: Range provides a simple measure of the spread of the data. However, it is sensitive to outliers.\n",
    "    \n",
    "Variance:\n",
    "\n",
    "Calculation: Variance is the average of the squared differences between each data point and the mean.\n",
    "Use: Variance gives an indication of the overall variability of the dataset. It is suitable for interval and ratio data.\n",
    "    \n",
    "Standard Deviation:\n",
    "\n",
    "Calculation: Standard deviation is the square root of the variance.\n",
    "Use: Like variance, standard deviation measures the spread of data, but it is in the same unit as the original data, making \n",
    "it more interpretable. It is suitable for interval and ratio data.\n",
    "\n",
    "Interquartile Range (IQR):\n",
    "\n",
    "Calculation: IQR is the range between the first quartile (Q1) and the third quartile (Q3).\n",
    "Use: IQR is less sensitive to extreme values than the range and provides a measure of variability for ordinal, interval, and\n",
    "ratio data."
   ]
  }
 ],
 "metadata": {
  "kernelspec": {
   "display_name": "Python 3 (ipykernel)",
   "language": "python",
   "name": "python3"
  },
  "language_info": {
   "codemirror_mode": {
    "name": "ipython",
    "version": 3
   },
   "file_extension": ".py",
   "mimetype": "text/x-python",
   "name": "python",
   "nbconvert_exporter": "python",
   "pygments_lexer": "ipython3",
   "version": "3.9.7"
  },
  "toc": {
   "base_numbering": 1,
   "nav_menu": {},
   "number_sections": true,
   "sideBar": true,
   "skip_h1_title": false,
   "title_cell": "Table of Contents",
   "title_sidebar": "Contents",
   "toc_cell": false,
   "toc_position": {},
   "toc_section_display": true,
   "toc_window_display": false
  }
 },
 "nbformat": 4,
 "nbformat_minor": 5
}

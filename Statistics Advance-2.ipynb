{
 "cells": [
  {
   "cell_type": "code",
   "execution_count": null,
   "id": "c1649394",
   "metadata": {},
   "outputs": [],
   "source": [
    "Q1: What are the Probability Mass Function (PMF) and Probability Density Function (PDF)? Explain with\n",
    "an example."
   ]
  },
  {
   "cell_type": "code",
   "execution_count": null,
   "id": "e26b0adb",
   "metadata": {},
   "outputs": [],
   "source": [
    "The Probability Mass Function (PMF) and Probability Density Function (PDF) are mathematical functions that describe the \n",
    "likelihood of different outcomes in probability theory and statistics. These functions are used to model the distribution \n",
    "of random variables.\n",
    "\n",
    "Probability Mass Function (PMF):\n",
    "The Probability Mass Function (PMF) is used for discrete random variables. It gives the probability that a discrete random \n",
    "variable takes on a specific value. Mathematically and represents the probability of the random variable.\n",
    "\n",
    "Probability Density Function (PDF):\n",
    "The Probability Density Function (PDF) is used for continuous random variables. It provides the probability density at a given\n",
    "point and is denoted as f(x). Unlike the PMF, the PDF does not give the probability at a single point but rather the\n",
    "probability density over an interval. "
   ]
  },
  {
   "cell_type": "code",
   "execution_count": null,
   "id": "d6fe5376",
   "metadata": {},
   "outputs": [],
   "source": [
    "Q2: What is Cumulative Density Function (CDF)? Explain with an example. Why CDF is used?"
   ]
  },
  {
   "cell_type": "code",
   "execution_count": null,
   "id": "0e7aa560",
   "metadata": {},
   "outputs": [],
   "source": [
    "The Cumulative Distribution Function (CDF) is a function that gives the probability that a random variable takes a value less\n",
    "than or equal to a given value. It provides a cumulative view of the distribution and is denoted as F(x), where x is the \n",
    "value at which the CDF is evaluated.\n",
    "\n",
    "Why CDF is Used?\n",
    "\n",
    "Probability Calculation: The CDF provides a convenient way to calculate probabilities of random variables falling within a\n",
    "certain range.\n",
    "\n",
    "Quantile Calculation: The inverse of the CDF, called the Quantile Function, can be used to find the value at which a given \n",
    "probability is exceeded.\n",
    "\n",
    "Comparison of Distributions: CDFs are useful for comparing different probability distributions and assessing their \n",
    "characteristics.\n",
    "\n",
    "Statistical Tests: CDFs are used in statistical tests and hypothesis testing."
   ]
  },
  {
   "cell_type": "code",
   "execution_count": null,
   "id": "227f8b2a",
   "metadata": {},
   "outputs": [],
   "source": [
    "Q3: What are some examples of situations where the normal distribution might be used as a model?\n",
    "Explain how the parameters of the normal distribution relate to the shape of the distribution."
   ]
  },
  {
   "cell_type": "code",
   "execution_count": null,
   "id": "c41a7190",
   "metadata": {},
   "outputs": [],
   "source": [
    "The normal distribution, also known as the Gaussian distribution or bell curve, is a versatile and widely used probability \n",
    "distribution in various fields. It is characterized by its bell-shaped curve and is completely defined by two parameters: \n",
    "the mean (μ) and the standard deviation (σ).\n",
    "\n",
    "Biological Measurements - Height and weight distributions in human populations often follow a normal distribution.\n",
    "\n",
    "Psychometric Testing - IQ scores and other standardized test scores are often assumed to be normally distributed.\n",
    "\n",
    "Statistical Inference - Many statistical methods, such as hypothesis testing and confidence interval estimation, rely \n",
    "on the assumption of normality.\n",
    "\n",
    "Parameters and Shape of the Normal Distribution\n",
    "\n",
    "Mean (μ) - \n",
    "\n",
    "The mean is the central location of the distribution.\n",
    "The highest point (peak) of the normal distribution occurs at the mean.\n",
    "Shifting the mean to the right or left results in a horizontal shift of the entire distribution.\n",
    "\n",
    "Standard Deviation (σ) - \n",
    "\n",
    "The standard deviation is a measure of the spread or dispersion of the distribution.\n",
    "A larger standard deviation leads to a wider and flatter distribution, while a smaller standard deviation results in a \n",
    "narrower and taller distribution.\n",
    "About 68% of the data falls within one standard deviation of the mean, 95% within two standard deviations, and 99.7% \n",
    "within three standard deviations (according to the empirical rule)."
   ]
  },
  {
   "cell_type": "code",
   "execution_count": null,
   "id": "7e90c233",
   "metadata": {},
   "outputs": [],
   "source": [
    "Q4: Explain the importance of Normal Distribution. Give a few real-life examples of Normal\n",
    "Distribution."
   ]
  },
  {
   "cell_type": "code",
   "execution_count": null,
   "id": "e32b873e",
   "metadata": {},
   "outputs": [],
   "source": [
    "The normal distribution is of paramount importance in statistics and probability theory due to several reasons\n",
    "\n",
    "Central Limit Theorem\n",
    "\n",
    "The Central Limit Theorem states that the sum (or average) of a large number of independent, identically distributed \n",
    "random variables, regardless of their original distribution, will be approximately normally distributed. This makes the \n",
    "normal distribution a fundamental concept in statistical inference.\n",
    "\n",
    "Statistical Inference\n",
    "\n",
    "Many statistical methods, such as hypothesis testing, confidence intervals, and regression analysis, are based on the \n",
    "assumption of normality. This simplifies statistical procedures and allows for the use of powerful mathematical tools.\n",
    "\n",
    "Predictive Analytics\n",
    "\n",
    "The normal distribution is often employed in predictive analytics and machine learning algorithms. It simplifies the\n",
    "modeling process and allows for the application of various statistical techniques.\n",
    "\n",
    "Examples -\n",
    "\n",
    "Height of Individuals\n",
    "IQ Scores\n",
    "Exam Scores\n",
    "Blood Pressure\n",
    "Temperature\n",
    "Quality Control in Manufacturing"
   ]
  },
  {
   "cell_type": "code",
   "execution_count": null,
   "id": "0d422681",
   "metadata": {},
   "outputs": [],
   "source": [
    "Q5: What is Bernaulli Distribution? Give an Example. What is the difference between Bernoulli\n",
    "Distribution and Binomial Distribution?"
   ]
  },
  {
   "cell_type": "code",
   "execution_count": null,
   "id": "323c7280",
   "metadata": {},
   "outputs": [],
   "source": [
    "The Bernoulli distribution is a discrete probability distribution representing a random variable with two possible outcomes:\n",
    "success (usually denoted as 1) and failure (usually denoted as 0). It is named after the Swiss mathematician Jacob \n",
    "Bernoulli.\n",
    "\n",
    "Difference between Bernoulli and Binomial Distribution\n",
    "\n",
    "Number of Trials\n",
    "Bernoulli Distribution: Represents a single trial or experiment with two possible outcomes (success or failure).\n",
    "Binomial Distribution: Represents the number of successes in a fixed number of independent Bernoulli trials\n",
    "    \n",
    "Random Variable\n",
    "Bernoulli Distribution: Models the outcome of a single trial.\n",
    "Binomial Distribution: Models the number of successes in multiple trials.\n",
    "    \n",
    "Parameters\n",
    "Bernoulli Distribution: Has a single parameter p (probability of success).\n",
    "Binomial Distribution: Has two parameters n (number of trials) and p (probability of success).\n",
    "    \n",
    "Mean and Variance\n",
    "Bernoulli Distribution: Mean (μ) is p, and Variance (σ2 ) is pq.\n",
    "Binomial Distribution: Mean (μ) is np, and Variance (σ2) is npq."
   ]
  },
  {
   "cell_type": "code",
   "execution_count": null,
   "id": "b1d65be0",
   "metadata": {},
   "outputs": [],
   "source": [
    "Q6. Consider a dataset with a mean of 50 and a standard deviation of 10. If we assume that the dataset\n",
    "is normally distributed, what is the probability that a randomly selected observation will be greater\n",
    "than 60? Use the appropriate formula and show your calculations."
   ]
  },
  {
   "cell_type": "code",
   "execution_count": null,
   "id": "28ff7901",
   "metadata": {},
   "outputs": [],
   "source": []
  },
  {
   "cell_type": "code",
   "execution_count": null,
   "id": "37c6e20d",
   "metadata": {},
   "outputs": [],
   "source": [
    "Q7: Explain uniform Distribution with an example."
   ]
  },
  {
   "cell_type": "code",
   "execution_count": null,
   "id": "503c6c76",
   "metadata": {},
   "outputs": [],
   "source": [
    "The uniform distribution is a probability distribution where all outcomes in a given range are equally likely. In other \n",
    "words, each value in the range has the same probability of occurring. The probability density function (PDF) of a uniform\n",
    "distribution is constant over the range of possible values and is zero elsewhere.\n",
    "\n",
    "Example:\n",
    "Let's consider an example of a uniform distribution for the roll of a fair six-sided die. The outcome of rolling the die\n",
    "can be modeled as a uniform distribution because each of the six faces has an equal probability of 1/6.\n",
    "\n",
    "In this case, the uniform distribution can be denoted as U(1,6) because the die has faces numbered from 1 to 6. \n",
    "The probability density function for this uniform distribution is:\n",
    "\n",
    "f(x)=1/6\n",
    " \n",
    "for 1≤x≤6, and (x)= f(x)=0 otherwise.\n",
    "\n",
    "This means that each possible outcome (1, 2, 3, 4, 5, 6) has an equal probability of 1/6. The probability density is \n",
    "constant over the range of possible values, creating a flat, rectangular shape in the probability distribution."
   ]
  },
  {
   "cell_type": "code",
   "execution_count": null,
   "id": "5d61c101",
   "metadata": {},
   "outputs": [],
   "source": [
    "Q8: What is the z score? State the importance of the z score."
   ]
  },
  {
   "cell_type": "code",
   "execution_count": null,
   "id": "8a1f6115",
   "metadata": {},
   "outputs": [],
   "source": [
    "The z-score, also known as the standard score or z-value, is a statistical measure that describes a value's relationship\n",
    "to the mean of a group of values. It is a measure of how many standard deviations a particular data point is from the mean \n",
    "of a dataset.\n",
    "\n",
    "Importance of the Z Score\n",
    "\n",
    "Standardization\n",
    "\n",
    "The z-score standardizes data, making it possible to compare scores from different datasets with different units or scales. \n",
    "It transforms raw scores into a common scale with a mean of 0 and standard deviation of 1.\n",
    "\n",
    "Identifying Outliers\n",
    "\n",
    "Z-scores help identify outliers by highlighting data points that deviate significantly from the mean. Outliers often have \n",
    "z-scores that are several standard deviations away from the mean.\n",
    "\n",
    "Probability and Normal Distribution\n",
    "\n",
    "In a standard normal distribution (a normal distribution with mean 0 and standard deviation 1), z-scores are directly\n",
    "related to probabilities. Z-scores can be used to find the probability of a data point falling within a certain range.\n",
    "\n",
    "Statistical Inference\n",
    "\n",
    "Z-scores play a key role in statistical hypothesis testing and confidence interval estimation. They help determine \n",
    "how extreme an observed value is in comparison to what would be expected by chance."
   ]
  },
  {
   "cell_type": "code",
   "execution_count": null,
   "id": "8c92ac43",
   "metadata": {},
   "outputs": [],
   "source": [
    "Q9: What is Central Limit Theorem? State the significance of the Central Limit Theorem."
   ]
  },
  {
   "cell_type": "code",
   "execution_count": null,
   "id": "80163152",
   "metadata": {},
   "outputs": [],
   "source": [
    "The Central Limit Theorem (CLT) is a fundamental concept in probability theory and statistics. \n",
    "It states that, regardless of the shape of the original population distribution, the distribution \n",
    "of the sum (or average) of a large number of independent, identically distributed random variables\n",
    "will be approximately normally distributed.\n",
    "\n",
    "Significance of the Central Limit Theorem\n",
    "\n",
    "Statistical Inference\n",
    "The Central Limit Theorem forms the basis for many statistical inference techniques. It allows statisticians to make \n",
    "probabilistic statements about sample means and sums using the properties of the normal distribution.\n",
    "\n",
    "Hypothesis Testing\n",
    "In hypothesis testing, the Central Limit Theorem is often invoked when dealing with sample means. It allows for the \n",
    "use of normal distribution-based tests even when the population distribution is not known or is not normal.\n",
    "\n",
    "Confidence Intervals\n",
    "The Central Limit Theorem is crucial in constructing confidence intervals for population parameters, such as the population\n",
    "mean. It provides a basis for estimating the likely range of values.\n",
    "\n",
    "Sampling Distributions\n",
    "The Central Limit Theorem helps explain why the sampling distribution of the sample mean tends to be normal, making it \n",
    "easier to make inferences about the population mean."
   ]
  },
  {
   "cell_type": "code",
   "execution_count": null,
   "id": "0561fc56",
   "metadata": {},
   "outputs": [],
   "source": [
    "Q10: State the assumptions of the Central Limit Theorem."
   ]
  },
  {
   "cell_type": "code",
   "execution_count": null,
   "id": "ee34fb37",
   "metadata": {},
   "outputs": [],
   "source": [
    "The Central Limit Theorem (CLT) is a powerful statistical concept, but it relies on certain assumptions to hold true.\n",
    "Here are the key assumptions of the Central Limit Theorem:"
   ]
  },
  {
   "cell_type": "code",
   "execution_count": null,
   "id": "aa6728c5",
   "metadata": {},
   "outputs": [],
   "source": [
    "Random Sampling\n",
    "The observations in the sample must be randomly and independently selected from the population. Random sampling ensures that \n",
    "each individual in the population has an equal chance of being included in the sample.\n",
    "\n",
    "Independence\n",
    "The observations in the sample must be independent of each other. Independence means that the occurrence or value of one\n",
    "observation does not influence the occurrence or value of another observation. This assumption is crucial for the CLT to \n",
    "apply.\n",
    "\n",
    "Sample Size\n",
    "The sample size should be sufficiently large. While there is no strict rule for what constitutes a \"sufficiently large\" \n",
    "sample size, a common guideline is that a sample size of 30 or more is often considered adequate for the CLT to provide a \n",
    "good approximation. However, the larger the sample size, the better the approximation to a normal distribution."
   ]
  }
 ],
 "metadata": {
  "kernelspec": {
   "display_name": "Python 3 (ipykernel)",
   "language": "python",
   "name": "python3"
  },
  "language_info": {
   "codemirror_mode": {
    "name": "ipython",
    "version": 3
   },
   "file_extension": ".py",
   "mimetype": "text/x-python",
   "name": "python",
   "nbconvert_exporter": "python",
   "pygments_lexer": "ipython3",
   "version": "3.9.7"
  },
  "toc": {
   "base_numbering": 1,
   "nav_menu": {},
   "number_sections": true,
   "sideBar": true,
   "skip_h1_title": false,
   "title_cell": "Table of Contents",
   "title_sidebar": "Contents",
   "toc_cell": false,
   "toc_position": {},
   "toc_section_display": true,
   "toc_window_display": false
  }
 },
 "nbformat": 4,
 "nbformat_minor": 5
}

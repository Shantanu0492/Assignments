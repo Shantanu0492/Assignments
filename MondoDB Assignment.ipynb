{
 "cells": [
  {
   "cell_type": "markdown",
   "id": "aad67fc2",
   "metadata": {},
   "source": [
    "Q1. What is MongoDB? Explain non-relational databases in short. In which scenarios it is preferred to use\n",
    "MongoDB over SQL databases?"
   ]
  },
  {
   "cell_type": "markdown",
   "id": "31bcacb0",
   "metadata": {},
   "source": [
    "MongoDB is a NoSQL database management system which is used to handle the large amount of unstructed data or semistructured \n",
    "data. Documents are stored here in JSON file and its is mostly used to build high scaled applications.MongoDB is commonly used\n",
    "in various application scenarios, including content management systems, e-commerce platforms, real-time analytics, and other \n",
    "use cases where flexible and scalable data storage is required. Its ease of use and flexibility, especially when dealing with dynamic or evolving data structures."
   ]
  },
  {
   "cell_type": "markdown",
   "id": "52c4bbf9",
   "metadata": {},
   "source": [
    "Q2. State and Explain the features of MongoDB."
   ]
  },
  {
   "cell_type": "markdown",
   "id": "52ff2092",
   "metadata": {},
   "source": [
    "In MongoDB, a collection is a group of MongoDB documents. It is roughly equivalent to a table in a relational database \n",
    "like MySQL or PostgreSQL. However, there are some key differences between collections in MongoDB and tables in relational\n",
    "databases:\n",
    "\n",
    "Schema Flexibility: Here collections are schema-less, which means that documents within a collection can have different \n",
    "                    structures. This flexibility is one of the core features of MongoDB.\n",
    "    \n",
    "Document-Oriented: MongoDB is a document-oriented database, and collections are composed of  JSON documents. Each document \n",
    "                   within a collection is a JSON-like object that can have key-value pairs, nested documents, and arrays.\n",
    "\n",
    "No Joins: Unlike relational databases, MongoDB does not support joins between collections. Instead, MongoDB encourages \n",
    "          denormalization and embedding of related data within documents.\n",
    "        \n",
    "Scalability: MongoDB is designed to scale horizontally, and collections can be sharded across multiple servers or clusters \n",
    "             to handle large amounts of data and high traffic.\n",
    "\n",
    "Indexing: Collections in MongoDB support the creation of indexes on one or more fields to improve query performance. \n"
   ]
  },
  {
   "cell_type": "markdown",
   "id": "94de60be",
   "metadata": {},
   "source": [
    "Q3. Write a code to connect MongoDB to Python. Also, create a database and a collection in MongoDB."
   ]
  },
  {
   "cell_type": "code",
   "execution_count": null,
   "id": "9c5972d1",
   "metadata": {},
   "outputs": [],
   "source": [
    "# first install pymongo in python ide\n",
    "\n",
    "pip install pymongo\n",
    "\n",
    "# second step\n",
    "\n",
    "import pymongo\n",
    "\n",
    "# Third step\n",
    "\n",
    "from pymongo import MongoClient\n",
    "\n",
    "client = pymongo.MongoClient(\"Paste the url from the mongodb \")\n",
    "db = client.test()\n",
    "\n",
    "from above steps we can connect the Mongodb to the python.\n",
    "\n",
    "\n",
    "Database in MongoDB \n",
    "\n",
    "Create a account in the mongoDb.com after that go for creating the database deployment and select the type of service needed.\n",
    "their are paid and free service present select the services like cloud provider, time, region. Next create a username and \n",
    "password and create a user. After that step add Ip add list like - 0.0.0.0/0 and click add entry. Finish and CLose.\n",
    "\n",
    "So above steps are used to create a Database(Cloud Ver) in MongoDB.\n",
    "\n",
    "\n",
    "Collection in MongoDB -\n",
    "\n",
    "Basically Collections in MongoDB are as similar as tables in SQL. Collection conatin the data which is present in the \n",
    "key:value format. \n",
    "\n",
    "To create a Collection first we need to create a DB and then need to add data in it by using insert_one function. Once \n",
    "data get added in to the collection we need to go to the database of MongoDB and refersh the collection tab present in the\n",
    "MongoDB under out database name. So this way we can see the collections in the database.\n",
    "\n",
    "Db = client['New_Client']\n",
    "data = {\"name\" : \"shantanu\" ,\n",
    "        \"class\" :\"data science masters classes \" ,\n",
    "        \"time\" : \"10 AM to 12 PM\"}\n",
    "\n",
    "coll_mongodb_new = Db[\"my_record\"]\n",
    "coll_mongodb_new.insert_one(data)"
   ]
  },
  {
   "cell_type": "markdown",
   "id": "13ec7f49",
   "metadata": {},
   "source": [
    "Q4. Using the database and the collection created in question number 3, write a code to insert one record,\n",
    "and insert many records. Use the find() and find_one() methods to print the inserted record."
   ]
  },
  {
   "cell_type": "code",
   "execution_count": null,
   "id": "c6fef5d6",
   "metadata": {},
   "outputs": [],
   "source": [
    "# 1) Instert_one_record\n",
    "\n",
    "data1 = {\"Email_id\" : \"shantanu0401@gmail.com\",\n",
    "         \"mob_number \" : +91-9876543546,\n",
    "         \"address\" : \"Pune\"\n",
    "}\n",
    "coll_mongodb_new.insert_one(data1)\n",
    "\n",
    "# Above code will be use to add one record in the collection.\n",
    "\n",
    "\n",
    "# 2) Instert_many_record\n",
    "\n",
    "data11 = [{ \"name\": \"Amy\", \"address\": \"Apple st 652\" },\n",
    "  { \"name\": \"Hannah\", \"address\": \"Mountain 21\" },\n",
    "  { \"name\": \"Michael\", \"address\": \"Valley 345\" },\n",
    "  { \"name\": \"Sandy\", \"address\": \"Ocean blvd 2\" },\n",
    "  { \"name\": \"Betty\", \"address\": \"Green Grass 1\" },\n",
    "  { \"name\": \"Richard\", \"address\": \"Sky st 331\" },\n",
    "  { \"name\": \"Susan\", \"address\": \"One way 98\" },\n",
    "  { \"name\": \"Vicky\", \"address\": \"Yellow Garden 2\" },\n",
    "  { \"name\": \"Ben\", \"address\": \"Park Lane 38\" },\n",
    "  { \"name\": \"William\", \"address\": \"Central st 954\" },\n",
    "  { \"name\": \"Chuck\", \"address\": \"Main Road 989\" },\n",
    "  { \"name\": \"Viola\", \"address\": \"Sideway 1633\" }]\n",
    "\n",
    "coll_mongodb_new.insert_many(data2)\n",
    "\n",
    "# Above code will be use to add many records in the collection.\n",
    "\n",
    "\n",
    "# 3) Find()\n",
    "\n",
    "for i in coll_pwskills.find():\n",
    "    print(i)\n",
    "    \n",
    "# By using for loop we can use \"find\" command to find out each and every record present in the collection.\n",
    "\n",
    "\n",
    "# 4) Find_one()\n",
    "\n",
    "coll_mongodb_new.find()\n",
    "\n",
    "This will print the first record present in the collection."
   ]
  },
  {
   "cell_type": "markdown",
   "id": "862de27a",
   "metadata": {},
   "source": [
    "Q5. Explain how you can use the find() method to query the MongoDB database. Write a simple code to\n",
    "demonstrate this."
   ]
  },
  {
   "cell_type": "code",
   "execution_count": null,
   "id": "841cb02e",
   "metadata": {},
   "outputs": [],
   "source": [
    "Find() is use to query the collection and print the data out of it and also we can apply various condition and filter to get\n",
    "the output data as per requirement.\n",
    "\n",
    "# Code\n",
    "# By below code we can give filter to get the information data wherever the companyname will be TATA.\n",
    "\n",
    "for i in coll_pwskills.find({'companyName': 'TATA'}):\n",
    "    print(i)"
   ]
  },
  {
   "cell_type": "markdown",
   "id": "1f0d06c4",
   "metadata": {},
   "source": [
    "Q6. Explain the sort() method. Give an example to demonstrate sorting in MongoDB."
   ]
  },
  {
   "cell_type": "markdown",
   "id": "7dfc834c",
   "metadata": {},
   "source": [
    "sort() is used to specify the order in which the documents in a result set should be returned. \n",
    "we can use the sort() method to sort documents based on one or more fields, either in ascending (1) \n",
    "or descending (-1) order."
   ]
  },
  {
   "cell_type": "markdown",
   "id": "8b8bcd24",
   "metadata": {},
   "source": [
    "Q7. Explain why delete_one(), delete_many(), and drop() is used."
   ]
  },
  {
   "cell_type": "markdown",
   "id": "58f0e4ec",
   "metadata": {},
   "source": [
    "The delete_one(), delete_many(), and drop() methods are used for different purposes related to removing \n",
    "documents or collections from the database.\n",
    "\n",
    "delete_one(new_11) Method: Deletes a single document that matches the specified new_11 criteria. Useful when you want \n",
    "                           to remove a specific document from a collection based on a certain condition.\n",
    "\n",
    "delete_many(new_11) Method: Deletes all documents that match the specified filter criteria.Suitable for removing \n",
    "                            multiple documents that meet a particular condition from a collection.\n",
    "        \n",
    "drop() Method: Drops (deletes) the entire collection from the database. when you want to completely remove a collection\n",
    "               and all of its documents from the database."
   ]
  }
 ],
 "metadata": {
  "kernelspec": {
   "display_name": "Python 3 (ipykernel)",
   "language": "python",
   "name": "python3"
  },
  "language_info": {
   "codemirror_mode": {
    "name": "ipython",
    "version": 3
   },
   "file_extension": ".py",
   "mimetype": "text/x-python",
   "name": "python",
   "nbconvert_exporter": "python",
   "pygments_lexer": "ipython3",
   "version": "3.9.7"
  },
  "toc": {
   "base_numbering": 1,
   "nav_menu": {},
   "number_sections": true,
   "sideBar": true,
   "skip_h1_title": false,
   "title_cell": "Table of Contents",
   "title_sidebar": "Contents",
   "toc_cell": false,
   "toc_position": {},
   "toc_section_display": true,
   "toc_window_display": false
  }
 },
 "nbformat": 4,
 "nbformat_minor": 5
}

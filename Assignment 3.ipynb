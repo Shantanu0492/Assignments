{
 "cells": [
  {
   "cell_type": "markdown",
   "id": "20a89981",
   "metadata": {},
   "source": [
    "Q1. Which keyword is used to create a function? Create a function to return a list of odd numbers in the\n",
    "range of 1 to 25."
   ]
  },
  {
   "cell_type": "markdown",
   "id": "b70d403e",
   "metadata": {},
   "source": [
    "def keyword is used to created a function. "
   ]
  },
  {
   "cell_type": "code",
   "execution_count": 1,
   "id": "7db9bad8",
   "metadata": {},
   "outputs": [],
   "source": [
    "def Odd_num(n):\n",
    "    \n",
    "    odd = []\n",
    "    \n",
    "    for i in range(1,25):\n",
    "        if i%2!=0:\n",
    "            odd.append(i)\n",
    "    return odd"
   ]
  },
  {
   "cell_type": "code",
   "execution_count": 2,
   "id": "211e5ea6",
   "metadata": {},
   "outputs": [
    {
     "data": {
      "text/plain": [
       "[1, 3, 5, 7, 9, 11, 13, 15, 17, 19, 21, 23]"
      ]
     },
     "execution_count": 2,
     "metadata": {},
     "output_type": "execute_result"
    }
   ],
   "source": [
    "Odd_num(30)"
   ]
  },
  {
   "cell_type": "markdown",
   "id": "cc0702be",
   "metadata": {},
   "source": [
    "Q2. Why *args and **kwargs is used in some functions? Create a function each for *args and **kwargs\n",
    "to demonstrate their use."
   ]
  },
  {
   "cell_type": "markdown",
   "id": "5908b214",
   "metadata": {},
   "source": [
    "args is used when we need to give multiple inputs or values.\n",
    "Kwargs is used to create a dictionary (Keys : Value) pair as a output."
   ]
  },
  {
   "cell_type": "code",
   "execution_count": 3,
   "id": "e1bb4fdc",
   "metadata": {},
   "outputs": [],
   "source": [
    "# Args\n",
    "\n",
    "def test_num(*args):\n",
    "    return args"
   ]
  },
  {
   "cell_type": "code",
   "execution_count": 4,
   "id": "ddd703bc",
   "metadata": {},
   "outputs": [
    {
     "data": {
      "text/plain": [
       "([1, 2, 3],)"
      ]
     },
     "execution_count": 4,
     "metadata": {},
     "output_type": "execute_result"
    }
   ],
   "source": [
    "test_num([1,2,3])"
   ]
  },
  {
   "cell_type": "code",
   "execution_count": 5,
   "id": "7a9790a1",
   "metadata": {},
   "outputs": [
    {
     "data": {
      "text/plain": [
       "tuple"
      ]
     },
     "execution_count": 5,
     "metadata": {},
     "output_type": "execute_result"
    }
   ],
   "source": [
    "type(test_num())"
   ]
  },
  {
   "cell_type": "code",
   "execution_count": 6,
   "id": "a52b0c0c",
   "metadata": {},
   "outputs": [],
   "source": [
    "#Kwargs\n",
    "\n",
    "def test_num1(**kwargs):\n",
    "    return kwargs"
   ]
  },
  {
   "cell_type": "code",
   "execution_count": 7,
   "id": "4774907b",
   "metadata": {},
   "outputs": [
    {
     "data": {
      "text/plain": [
       "dict"
      ]
     },
     "execution_count": 7,
     "metadata": {},
     "output_type": "execute_result"
    }
   ],
   "source": [
    "type(test_num1())"
   ]
  },
  {
   "cell_type": "code",
   "execution_count": 8,
   "id": "2ff3e3f3",
   "metadata": {
    "scrolled": true
   },
   "outputs": [
    {
     "data": {
      "text/plain": [
       "{'a': [1, 2, 3], 'b': 'Shaantanu', 'c': [4, 5, 6, 3]}"
      ]
     },
     "execution_count": 8,
     "metadata": {},
     "output_type": "execute_result"
    }
   ],
   "source": [
    "test_num1(a=[1,2,3],b='Shaantanu',c=[4,5,6,3])"
   ]
  },
  {
   "cell_type": "markdown",
   "id": "b165c8e0",
   "metadata": {},
   "source": [
    "Q3. What is an iterator in python? Name the method used to initialise the iterator object and the method\n",
    "used for iteration. Use these methods to print the first five elements of the given list [2, 4, 6, 8, 10, 12, 14,\n",
    "16, 18, 20]."
   ]
  },
  {
   "cell_type": "markdown",
   "id": "bfe59a56",
   "metadata": {},
   "source": [
    "Iterator is an object which allows to go through each and every element.\n",
    "\n",
    "iter is the method used to initialise the object."
   ]
  },
  {
   "cell_type": "code",
   "execution_count": 9,
   "id": "f9223aef",
   "metadata": {},
   "outputs": [
    {
     "name": "stdout",
     "output_type": "stream",
     "text": [
      "The first five element of the list are - [2, 4, 6, 8, 10]\n"
     ]
    }
   ],
   "source": [
    "l1 = [2, 4, 6, 8, 10, 12, 14, 16, 18, 20]\n",
    "\n",
    "output = []\n",
    "\n",
    "for i in range(len(l1)):\n",
    "    if len(output)<5:\n",
    "        output.append(l1[i])\n",
    "    else:\n",
    "        break\n",
    "        \n",
    "print('The first five element of the list are -',output)"
   ]
  },
  {
   "cell_type": "markdown",
   "id": "1b89d43b",
   "metadata": {},
   "source": [
    "Q4. What is a generator function in python? Why yield keyword is used? Give an example of a generator\n",
    "function."
   ]
  },
  {
   "cell_type": "markdown",
   "id": "0f23ab69",
   "metadata": {},
   "source": [
    "A generator function in Python is a special type of function that generates values on-the-fly and allows \n",
    "you to iterate over these values one at a time, without loading them all into memory at once. Unlike regular \n",
    "functions that use the return statement to return a value and then terminate, generator functions use the yield \n",
    "keyword to yield a value while maintaining their execution state.This allows you to pause and resume the function's execution,\n",
    "preserving the local variables' state between calls."
   ]
  },
  {
   "cell_type": "markdown",
   "id": "14cb8ea1",
   "metadata": {},
   "source": [
    "Q5. Create a generator function for prime numbers less than 1000. Use the next() method to print the\n",
    "first 20 prime numbers."
   ]
  },
  {
   "cell_type": "code",
   "execution_count": 13,
   "id": "22aa2f2e",
   "metadata": {},
   "outputs": [
    {
     "name": "stdout",
     "output_type": "stream",
     "text": [
      "2\n",
      "3\n",
      "5\n",
      "7\n",
      "11\n",
      "13\n",
      "17\n",
      "19\n",
      "23\n",
      "29\n",
      "31\n",
      "37\n",
      "41\n",
      "43\n",
      "47\n",
      "53\n",
      "59\n",
      "61\n",
      "67\n",
      "71\n"
     ]
    }
   ],
   "source": [
    "def is_prime(n):\n",
    "    if n <= 1:\n",
    "        return False\n",
    "    if n <= 3:\n",
    "        return True\n",
    "    if n % 2 == 0 or n % 3 == 0:\n",
    "        return False\n",
    "    i = 5\n",
    "    while i * i <= n:\n",
    "        if n % i == 0 or n % (i + 2) == 0:\n",
    "            return False\n",
    "        i += 6\n",
    "    return True\n",
    "\n",
    "def prime_generator(limit):\n",
    "    num = 2\n",
    "    count = 0\n",
    "    while count < limit:\n",
    "        if is_prime(num):\n",
    "            yield num\n",
    "            count += 1\n",
    "        num += 1\n",
    "\n",
    "prime_gen = prime_generator(20)\n",
    "for _ in range(20):\n",
    "    print((next(prime_gen)))\n"
   ]
  },
  {
   "cell_type": "markdown",
   "id": "2f06b2fc",
   "metadata": {},
   "source": [
    "Q6. Write a python program to print the first 10 Fibonacci numbers using a while loop."
   ]
  },
  {
   "cell_type": "code",
   "execution_count": 14,
   "id": "5678c8eb",
   "metadata": {},
   "outputs": [
    {
     "name": "stdout",
     "output_type": "stream",
     "text": [
      "Length of the fibonacci -10\n",
      "[0, 1, 1, 2, 3, 5, 8, 13, 21, 34]\n"
     ]
    }
   ],
   "source": [
    "input_fibo = int(input(\"Length of the fibonacci -\"))\n",
    "\n",
    "fibo = [0,1]\n",
    "\n",
    "while len(fibo)<input_fibo:\n",
    "    next_num = fibo[-1]+fibo[-2]\n",
    "    fibo.append(next_num)\n",
    "print(fibo)"
   ]
  },
  {
   "cell_type": "markdown",
   "id": "dd603ae8",
   "metadata": {},
   "source": [
    "Q7. Write a List Comprehension to iterate through the given string: ‘pwskills’.\n",
    "Expected output: ['p', 'w', 's', 'k', 'i', 'l', 'l', 's']"
   ]
  },
  {
   "cell_type": "code",
   "execution_count": 15,
   "id": "dcfe1e72",
   "metadata": {},
   "outputs": [
    {
     "name": "stdout",
     "output_type": "stream",
     "text": [
      "['p', 'w', 's', 'k', 'i', 'l', 'l', 's']\n"
     ]
    }
   ],
   "source": [
    "l2 = \"pwskills\"\n",
    "\n",
    "output = [i for i in l2 if i in l2 ]\n",
    "print(output)    "
   ]
  },
  {
   "cell_type": "markdown",
   "id": "2a1e77af",
   "metadata": {},
   "source": [
    "Q8. Write a python program to check whether a given number is Palindrome or not using a while loop."
   ]
  },
  {
   "cell_type": "code",
   "execution_count": 16,
   "id": "7afa5000",
   "metadata": {},
   "outputs": [
    {
     "name": "stdout",
     "output_type": "stream",
     "text": [
      "Enter a number: 55\n",
      "55 is a palindrome.\n"
     ]
    }
   ],
   "source": [
    "def is_palindrome(number):\n",
    "    original_number = number\n",
    "    reversed_number = 0\n",
    "\n",
    "    while number > 0:\n",
    "        digit = number % 10\n",
    "        reversed_number = reversed_number * 10 + digit\n",
    "        number //= 10\n",
    "\n",
    "    return original_number == reversed_number\n",
    "\n",
    "# Input from the user\n",
    "num = int(input(\"Enter a number: \"))\n",
    "\n",
    "if is_palindrome(num):\n",
    "    print(f\"{num} is a palindrome.\")\n",
    "else:\n",
    "    print(f\"{num} is not a palindrome.\")\n"
   ]
  },
  {
   "cell_type": "markdown",
   "id": "7f4126a6",
   "metadata": {},
   "source": [
    "Q9. Write a code to print odd numbers from 1 to 100 using list comprehension."
   ]
  },
  {
   "cell_type": "code",
   "execution_count": 17,
   "id": "8a9b4073",
   "metadata": {},
   "outputs": [
    {
     "name": "stdout",
     "output_type": "stream",
     "text": [
      "[1, 3, 5, 7, 9, 11, 13, 15, 17, 19, 21, 23, 25, 27, 29, 31, 33, 35, 37, 39, 41, 43, 45, 47, 49, 51, 53, 55, 57, 59, 61, 63, 65, 67, 69, 71, 73, 75, 77, 79, 81, 83, 85, 87, 89, 91, 93, 95, 97, 99]\n"
     ]
    }
   ],
   "source": [
    "odd_num = [i for i in range(1,101) if i%2!=0]\n",
    "print(odd_num)"
   ]
  }
 ],
 "metadata": {
  "kernelspec": {
   "display_name": "Python 3 (ipykernel)",
   "language": "python",
   "name": "python3"
  },
  "language_info": {
   "codemirror_mode": {
    "name": "ipython",
    "version": 3
   },
   "file_extension": ".py",
   "mimetype": "text/x-python",
   "name": "python",
   "nbconvert_exporter": "python",
   "pygments_lexer": "ipython3",
   "version": "3.9.7"
  },
  "toc": {
   "base_numbering": 1,
   "nav_menu": {},
   "number_sections": true,
   "sideBar": true,
   "skip_h1_title": false,
   "title_cell": "Table of Contents",
   "title_sidebar": "Contents",
   "toc_cell": false,
   "toc_position": {},
   "toc_section_display": true,
   "toc_window_display": false
  }
 },
 "nbformat": 4,
 "nbformat_minor": 5
}

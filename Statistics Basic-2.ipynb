{
 "cells": [
  {
   "cell_type": "code",
   "execution_count": null,
   "id": "2a7b1556",
   "metadata": {},
   "outputs": [],
   "source": [
    "Q1. What are the three measures of central tendency?"
   ]
  },
  {
   "cell_type": "code",
   "execution_count": null,
   "id": "fe35bbc2",
   "metadata": {},
   "outputs": [],
   "source": [
    "The three measure of central tendancy are - mean, median, mode\n",
    "\n",
    "These measures provide different ways of summarizing the central or typical value of a dataset, and each has its own\n",
    "strengths and weaknesses depending on the characteristics of the data."
   ]
  },
  {
   "cell_type": "code",
   "execution_count": null,
   "id": "20c1ec62",
   "metadata": {},
   "outputs": [],
   "source": [
    "Q2. What is the difference between the mean, median, and mode? How are they used to measure the\n",
    "central tendency of a dataset?"
   ]
  },
  {
   "cell_type": "code",
   "execution_count": null,
   "id": "6f5936fc",
   "metadata": {},
   "outputs": [],
   "source": [
    "Mean: The mean is the average of all the values in a dataset. It is calculated by adding up all the values and dividing \n",
    "the sum by the number of observations.\n",
    "\n",
    "Median: The median is the middle value of a dataset when it is ordered. If there is an even number of observations,\n",
    "the median is the average of the two middle values.\n",
    "\n",
    "Mode: The mode is the value that occurs most frequently in a dataset. A dataset may have one mode (unimodal), more\n",
    "than one mode (multimodal), or no mode at all.\n",
    "\n",
    "The mean, median, and mode are three measures of central tendency used to describe the center or typical value of a dataset. \n",
    "Here are the key differences and how they are calculated:\n",
    "\n",
    "Mean:\n",
    "\n",
    "Calculation: Add up all the values in the dataset and divide by the number of observations.\n",
    "Use: The mean represents the average value of the dataset. It is sensitive to extreme values (outliers) and is appropriate \n",
    "for interval and ratio data.\n",
    "\n",
    "Median:\n",
    "\n",
    "Calculation: Arrange the values in ascending order, and the median is the middle value. If there is an even number of \n",
    "observations, the median is the average of the two middle values.\n",
    "Use: The median is less affected by extreme values than the mean. It is suitable for ordinal, interval, and ratio data.\n",
    "    \n",
    "Mode:\n",
    "\n",
    "Calculation: Identify the value(s) that occur most frequently in the dataset.\n",
    "Use: The mode indicates the most common value(s) in the dataset. A dataset may have one mode (unimodal), more than one mode (multimodal), or no mode at all. The mode is applicable to nominal, ordinal, interval, and ratio data.\n",
    "How They Measure Central Tendency:\n"
   ]
  },
  {
   "cell_type": "code",
   "execution_count": null,
   "id": "d8af1660",
   "metadata": {},
   "outputs": [],
   "source": [
    "Q3. Measure the three measures of central tendency for the given height data:\n",
    "[178,177,176,177,178.2,178,175,179,180,175,178.9,176.2,177,172.5,178,176.5]"
   ]
  },
  {
   "cell_type": "code",
   "execution_count": 2,
   "id": "29f2071f",
   "metadata": {},
   "outputs": [],
   "source": [
    "import numpy as np\n",
    "from scipy import stats"
   ]
  },
  {
   "cell_type": "code",
   "execution_count": 3,
   "id": "d2980d44",
   "metadata": {},
   "outputs": [
    {
     "name": "stdout",
     "output_type": "stream",
     "text": [
      "The Mean Value is - 177.01875\n",
      "The Median Value is - 177.0\n",
      "The Mode Value is - ModeResult(mode=array([177.]), count=array([3]))\n"
     ]
    }
   ],
   "source": [
    "x = [178,177,176,177,178.2,178,175,179,180,175,178.9,176.2,177,172.5,178,176.5]\n",
    "\n",
    "print(\"The Mean Value is -\",np.mean(x))\n",
    "print(\"The Median Value is -\",np.median(x))\n",
    "print(\"The Mode Value is -\",stats.mode(x))"
   ]
  },
  {
   "cell_type": "code",
   "execution_count": null,
   "id": "38d69d52",
   "metadata": {},
   "outputs": [],
   "source": [
    "Q4. Find the standard deviation for the given data:\n",
    "[178,177,176,177,178.2,178,175,179,180,175,178.9,176.2,177,172.5,178,176.5]"
   ]
  },
  {
   "cell_type": "code",
   "execution_count": 5,
   "id": "99942fd0",
   "metadata": {},
   "outputs": [
    {
     "name": "stdout",
     "output_type": "stream",
     "text": [
      "The standard deviation is - 1.7885814036548633\n"
     ]
    }
   ],
   "source": [
    "print(\"The standard deviation is -\",np.std([178,177,176,177,178.2,178,175,179,180,175,178.9,176.2,177,172.5,178,176.5]))"
   ]
  },
  {
   "cell_type": "code",
   "execution_count": null,
   "id": "f99db9be",
   "metadata": {},
   "outputs": [],
   "source": [
    "Q5. How are measures of dispersion such as range, variance, and standard deviation used to describe\n",
    "the spread of a dataset? Provide an example."
   ]
  },
  {
   "cell_type": "code",
   "execution_count": null,
   "id": "ba475ca9",
   "metadata": {},
   "outputs": [],
   "source": [
    "Measures of dispersion, including range, variance, and standard deviation, are used to quantify the extent of variability or\n",
    "spread in a dataset. These measures provide valuable information about how individual data points deviate from the central \n",
    "tendency, helping to understand the distribution of the data. Here's how each measure is used.\n",
    "\n",
    "Range:\n",
    "\n",
    "Calculation: Range is the difference between the maximum and minimum values in a dataset.\n",
    "Use: Range provides a simple measure of the spread. A larger range indicates greater variability, while a smaller range \n",
    "suggests less variability.\n",
    "\n",
    "Variance:\n",
    "\n",
    "Calculation: Variance is the average of the squared differences between each data point and the mean.\n",
    "Use: Variance provides a measure of the overall variability in the dataset. It considers all data points and gives more \n",
    "weight to larger deviations.\n",
    "\n",
    "Standard Deviation:\n",
    "\n",
    "Calculation: Standard deviation is the square root of the variance.\n",
    "Use: Like variance, standard deviation measures the spread of data, but it is in the same unit as the original data, \n",
    "making it more interpretable.\n",
    "\n",
    "Example:\n",
    "Consider two exam scores datasets for two different classes:\n",
    "\n",
    "Class A: [85, 88, 92, 90, 87]\n",
    "Class B: [70, 95, 85, 100, 75]\n",
    "\n",
    "While both classes might have similar means, their measures of dispersion will differ. Class B has a wider spread, as \n",
    "evidenced by a larger range, variance, and standard deviation. This indicates that the scores in Class B are more spread\n",
    "out from the mean, reflecting greater variability. Measures of dispersion provide insights into the consistency or \n",
    "variability of data points within a dataset, complementing measures of central tendency."
   ]
  },
  {
   "cell_type": "code",
   "execution_count": null,
   "id": "be00bc00",
   "metadata": {},
   "outputs": [],
   "source": [
    "Q6. What is a Venn diagram?"
   ]
  },
  {
   "cell_type": "code",
   "execution_count": null,
   "id": "3cbe8149",
   "metadata": {},
   "outputs": [],
   "source": [
    "A Venn diagram is a visual representation of the relationships between different sets. It uses overlapping circles or \n",
    "other shapes to illustrate the extent to which sets have elements in common. Venn diagrams are named after John Venn, \n",
    "a British mathematician who introduced the concept in the late 19th century."
   ]
  },
  {
   "cell_type": "code",
   "execution_count": null,
   "id": "55d8c613",
   "metadata": {},
   "outputs": [],
   "source": [
    "Q7. For the two given sets A = (2,3,4,5,6,7) & B = (0,2,6,8,10). Find:\n",
    "(i) A B\n",
    "(ii) A ⋃ B"
   ]
  },
  {
   "cell_type": "code",
   "execution_count": 11,
   "id": "55bbada2",
   "metadata": {},
   "outputs": [
    {
     "name": "stdout",
     "output_type": "stream",
     "text": [
      "Intersection {2, 6}\n",
      "Union {0, 2, 3, 4, 5, 6, 7, 8, 10}\n"
     ]
    }
   ],
   "source": [
    "A = {2,3,4,5,6,7}\n",
    "B = {0,2,6,8,10}\n",
    "\n",
    "set1 = A.intersection(B)\n",
    "print(\"Intersection\",set1)\n",
    "\n",
    "set2 = A.union(B)\n",
    "print(\"Union\",set2)"
   ]
  },
  {
   "cell_type": "code",
   "execution_count": null,
   "id": "6e011bf0",
   "metadata": {},
   "outputs": [],
   "source": [
    "Q8. What do you understand about skewness in data?"
   ]
  },
  {
   "cell_type": "code",
   "execution_count": null,
   "id": "2d4eb929",
   "metadata": {},
   "outputs": [],
   "source": [
    "Skewness is a measure of the asymmetry or lack of symmetry in a probability distribution or dataset. In other words, \n",
    "it quantifies the degree and direction of skew (departure from horizontal symmetry) in the data. A dataset or distribution\n",
    "can be either positively skewed (skewed to the right), negatively skewed (skewed to the left), or approximately symmetric \n",
    "(no skewness).\n",
    "\n",
    "Positively Skewed (Right Skew):\n",
    "\n",
    "The right tail of the distribution is longer or fatter than the left tail.\n",
    "The majority of the data points are concentrated on the left side.\n",
    "The mean is greater than the median.\n",
    "\n",
    "Negatively Skewed (Left Skew):\n",
    "\n",
    "The left tail of the distribution is longer or fatter than the right tail.\n",
    "The majority of the data points are concentrated on the right side.\n",
    "The mean is less than the median.\n",
    "\n",
    "Symmetric:\n",
    "\n",
    "The distribution is approximately symmetric if the left and right sides are mirror images.\n",
    "The mean and median are roughly equal."
   ]
  },
  {
   "cell_type": "code",
   "execution_count": null,
   "id": "b2286642",
   "metadata": {},
   "outputs": [],
   "source": [
    "Q9. If a data is right skewed then what will be the position of median with respect to mean?"
   ]
  },
  {
   "cell_type": "code",
   "execution_count": null,
   "id": "c4f2446e",
   "metadata": {},
   "outputs": [],
   "source": [
    "In a right-skewed distribution (positively skewed), the right tail of the distribution is longer or fatter than the left tail.\n",
    "This means that there are more extreme values on the right side of the distribution, pulling the mean in that direction. \n",
    "In a right-skewed distribution:\n",
    "\n",
    "Mean Position: The mean is typically greater than the median.\n",
    "\n",
    "Median Position: The median is less than the mean.\n",
    "\n",
    "The reason for this relationship is that the mean is influenced by extreme values or outliers, and in a right-skewed \n",
    "distribution, these higher values on the right side increase the overall mean. On the other hand, the median is less \n",
    "affected by extreme values, making it a more robust measure of central tendency in skewed distributions.\n",
    "\n",
    "In summary, in a right-skewed distribution:\n",
    "\n",
    "Mean > Median"
   ]
  },
  {
   "cell_type": "code",
   "execution_count": null,
   "id": "73f93539",
   "metadata": {},
   "outputs": [],
   "source": [
    "Q10. Explain the difference between covariance and correlation. How are these measures used in\n",
    "statistical analysis?"
   ]
  },
  {
   "cell_type": "code",
   "execution_count": null,
   "id": "ac07bd52",
   "metadata": {},
   "outputs": [],
   "source": [
    "Covariance:\n",
    "Covariance is a measure that indicates the extent to which two random variables change together. It measures the direction\n",
    "of the linear relationship between two variables but does not provide a standardized scale.\n",
    "\n",
    "Correlation:\n",
    "Correlation, on the other hand, is a standardized measure that represents the strength and direction of the linear \n",
    "relationship between two variables. It ranges from -1 to 1.\n",
    "\n",
    "Use in Statistical Analysis:\n",
    "\n",
    "Covariance: Covariance is used to understand the direction of the relationship between two variables. However, because it is\n",
    "not standardized, it is challenging to compare covariances across different pairs of variables.\n",
    "\n",
    "Correlation: Correlation is widely used in statistical analysis to assess the strength and direction of the linear \n",
    "relationship between two variables. It provides a standardized measure, allowing for comparisons across different pairs of \n",
    "variables. Correlation is essential in fields such as finance, economics, biology, and many other disciplines where \n",
    "understanding the relationships between variables is crucial."
   ]
  },
  {
   "cell_type": "code",
   "execution_count": null,
   "id": "bd0fd19c",
   "metadata": {},
   "outputs": [],
   "source": [
    "Q11. What is the formula for calculating the sample mean? Provide an example calculation for a\n",
    "dataset."
   ]
  },
  {
   "cell_type": "code",
   "execution_count": null,
   "id": "3e944a0d",
   "metadata": {},
   "outputs": [],
   "source": [
    "Sample mean = Xi / n \n",
    "where:\n",
    "\n",
    "Xi is each individual data point in the dataset,\n",
    "n is the number of data points.\n",
    "\n",
    "Dataset: [12, 15, 18, 20, 22]"
   ]
  },
  {
   "cell_type": "code",
   "execution_count": 12,
   "id": "e90ac605",
   "metadata": {},
   "outputs": [
    {
     "name": "stdout",
     "output_type": "stream",
     "text": [
      "Sample Mean: 17.4\n"
     ]
    }
   ],
   "source": [
    "dataset = [12, 15, 18, 20, 22]\n",
    "\n",
    "sample_mean = sum(dataset) / len(dataset)\n",
    "print(\"Sample Mean:\", sample_mean)"
   ]
  },
  {
   "cell_type": "code",
   "execution_count": null,
   "id": "c0b4ee92",
   "metadata": {},
   "outputs": [],
   "source": [
    "Q12. For a normal distribution data what is the relationship between its measure of central tendency?"
   ]
  },
  {
   "cell_type": "code",
   "execution_count": null,
   "id": "d0c3301a",
   "metadata": {},
   "outputs": [],
   "source": [
    "For a normal distribution, there is a specific relationship between its measures of central tendency, namely the mean, median,\n",
    "and mode. In a perfectly symmetrical normal distribution:\n",
    "\n",
    "Mean (μ): The mean, median, and mode are all equal and located at the center of the distribution. The mean is the arithmetic\n",
    "average of all data points.\n",
    "\n",
    "Median: The median is also at the center of the distribution. In a normal distribution, the median is equal to the mean.\n",
    "\n",
    "Mode: The mode is the value or values that occur with the highest frequency. In a normal distribution, the mode is also equal\n",
    "to the mean and median."
   ]
  },
  {
   "cell_type": "code",
   "execution_count": null,
   "id": "65b9417f",
   "metadata": {},
   "outputs": [],
   "source": [
    "Q13. How is covariance different from correlation?"
   ]
  },
  {
   "cell_type": "code",
   "execution_count": null,
   "id": "b932d35f",
   "metadata": {},
   "outputs": [],
   "source": [
    "Covariance and correlation are both measures that describe the relationship between two variables, but they differ in\n",
    "their scale and interpretation.\n",
    "\n",
    "Covariance\n",
    "\n",
    "Scale: The scale of covariance is not standardized, and it depends on the units of the variables. The unit of covariance \n",
    "is the product of the units of the two variables.\n",
    "Interpretation: The sign of covariance indicates the direction of the relationship (positive for direct relationships, \n",
    "negative for inverse relationships), but the magnitude is not easily interpretable because it depends on the scales of \n",
    "the variables.\n",
    "\n",
    "Correlation\n",
    "\n",
    "Scale: Correlation is a standardized measure, ranging from -1 to 1. A correlation of 1 indicates a perfect positive linear \n",
    "relationship, -1 indicates a perfect negative linear relationship, and 0 indicates no linear relationship.\n",
    "Interpretation: Correlation provides a clear indication of the strength and direction of the linear relationship between two\n",
    "variables. It is independent of the units of measurement, making it easier to compare relationships between different pairs \n",
    "of variables."
   ]
  },
  {
   "cell_type": "code",
   "execution_count": null,
   "id": "199410a9",
   "metadata": {},
   "outputs": [],
   "source": [
    "Q14. How do outliers affect measures of central tendency and dispersion? Provide an example."
   ]
  },
  {
   "cell_type": "code",
   "execution_count": null,
   "id": "8a3fa30d",
   "metadata": {},
   "outputs": [],
   "source": [
    "Outliers can significantly impact measures of central tendency and dispersion, affecting their accuracy and interpretability.\n",
    "Here's how outliers influence these measures:\n",
    "\n",
    "Measures of Central Tendency:\n",
    "\n",
    "Mean:\n",
    "\n",
    "Effect: Outliers have a substantial impact on the mean because it takes into account the values of all data points.\n",
    "Example: Consider the dataset [10, 15, 20, 25, 30, 100]. The mean without the outlier is (10 + 15 + 20 + 25 + 30)/5 = 20, \n",
    "but with the outlier, the mean becomes (10 + 15 + 20 + 25 + 30 + 100)/6 = 33.33.\n",
    "\n",
    "Median:\n",
    "\n",
    "Effect: The median is less affected by outliers since it depends on the order of values rather than their actual magnitudes.\n",
    "Example: In the dataset [10, 15, 20, 25, 30, 100], the median remains the same (22.5) regardless of the outlier.\n",
    "    \n",
    "    \n",
    "Mode:\n",
    "\n",
    "Effect: Like the median, the mode is not heavily influenced by outliers, as it represents the most frequent values.\n",
    "Example: The mode of [10, 15, 20, 25, 30, 100] is still the same (no mode, or multimodal if considering smaller ranges).\n",
    "    \n",
    "\n",
    "Measures of Dispersion:\n",
    "\n",
    "Range:\n",
    "\n",
    "Outliers can significantly increase the range since it is the difference between the maximum and minimum values.\n",
    "Example: In the dataset [10, 15, 20, 25, 30, 100], the range without the outlier is 100 - 10 = 90, but with the outlier, \n",
    "the range becomes 100 - 10 = 90. \n",
    "\n",
    "Variance and Standard Deviation:\n",
    "\n",
    "Outliers can substantially increase the variance and standard deviation because they contribute to the squared differences \n",
    "from the mean.\n",
    "Example: For the dataset [10, 15, 20, 25, 30, 100], the standard deviation without the outlier is approximately 10.95, but\n",
    "with the outlier, it increases to approximately 32.53.\n",
    "\n",
    "    \n",
    "Interquartile Range (IQR):\n",
    "\n",
    "The IQR is less sensitive to outliers than the range, as it considers the middle 50% of the data.\n",
    "Example: The IQR for [10, 15, 20, 25, 30, 100] is 15, and adding or removing the outlier has a smaller impact on it compared\n",
    "to the range."
   ]
  },
  {
   "cell_type": "code",
   "execution_count": null,
   "id": "3318d31e",
   "metadata": {},
   "outputs": [],
   "source": []
  },
  {
   "cell_type": "code",
   "execution_count": null,
   "id": "61ec472b",
   "metadata": {},
   "outputs": [],
   "source": []
  },
  {
   "cell_type": "code",
   "execution_count": null,
   "id": "1dd41e1f",
   "metadata": {},
   "outputs": [],
   "source": []
  },
  {
   "cell_type": "code",
   "execution_count": null,
   "id": "a64c476c",
   "metadata": {},
   "outputs": [],
   "source": []
  },
  {
   "cell_type": "code",
   "execution_count": null,
   "id": "5d17d9f0",
   "metadata": {},
   "outputs": [],
   "source": []
  },
  {
   "cell_type": "code",
   "execution_count": null,
   "id": "597464fc",
   "metadata": {},
   "outputs": [],
   "source": []
  },
  {
   "cell_type": "code",
   "execution_count": null,
   "id": "1fd41af2",
   "metadata": {},
   "outputs": [],
   "source": []
  },
  {
   "cell_type": "code",
   "execution_count": null,
   "id": "32de3e51",
   "metadata": {},
   "outputs": [],
   "source": []
  },
  {
   "cell_type": "code",
   "execution_count": null,
   "id": "efc4df50",
   "metadata": {},
   "outputs": [],
   "source": []
  },
  {
   "cell_type": "code",
   "execution_count": null,
   "id": "d52af3cf",
   "metadata": {},
   "outputs": [],
   "source": []
  },
  {
   "cell_type": "code",
   "execution_count": null,
   "id": "84ba8380",
   "metadata": {},
   "outputs": [],
   "source": []
  },
  {
   "cell_type": "code",
   "execution_count": null,
   "id": "d3a8256a",
   "metadata": {},
   "outputs": [],
   "source": []
  },
  {
   "cell_type": "code",
   "execution_count": null,
   "id": "b93fb5ed",
   "metadata": {},
   "outputs": [],
   "source": []
  },
  {
   "cell_type": "code",
   "execution_count": null,
   "id": "05087921",
   "metadata": {},
   "outputs": [],
   "source": []
  },
  {
   "cell_type": "code",
   "execution_count": null,
   "id": "06df8fe7",
   "metadata": {},
   "outputs": [],
   "source": []
  },
  {
   "cell_type": "code",
   "execution_count": null,
   "id": "632ada44",
   "metadata": {},
   "outputs": [],
   "source": []
  },
  {
   "cell_type": "code",
   "execution_count": null,
   "id": "850aac3e",
   "metadata": {},
   "outputs": [],
   "source": []
  },
  {
   "cell_type": "code",
   "execution_count": null,
   "id": "b98ef320",
   "metadata": {},
   "outputs": [],
   "source": []
  },
  {
   "cell_type": "code",
   "execution_count": null,
   "id": "3702eca6",
   "metadata": {},
   "outputs": [],
   "source": []
  },
  {
   "cell_type": "code",
   "execution_count": null,
   "id": "f02eb61d",
   "metadata": {},
   "outputs": [],
   "source": []
  },
  {
   "cell_type": "code",
   "execution_count": null,
   "id": "27943ed2",
   "metadata": {},
   "outputs": [],
   "source": []
  },
  {
   "cell_type": "code",
   "execution_count": null,
   "id": "854d0f16",
   "metadata": {},
   "outputs": [],
   "source": []
  },
  {
   "cell_type": "code",
   "execution_count": null,
   "id": "0c3fc2ef",
   "metadata": {},
   "outputs": [],
   "source": []
  },
  {
   "cell_type": "code",
   "execution_count": null,
   "id": "97f7c487",
   "metadata": {},
   "outputs": [],
   "source": []
  },
  {
   "cell_type": "code",
   "execution_count": null,
   "id": "4248bc82",
   "metadata": {},
   "outputs": [],
   "source": []
  },
  {
   "cell_type": "code",
   "execution_count": null,
   "id": "b7a78084",
   "metadata": {},
   "outputs": [],
   "source": []
  },
  {
   "cell_type": "code",
   "execution_count": null,
   "id": "70054d01",
   "metadata": {},
   "outputs": [],
   "source": []
  },
  {
   "cell_type": "code",
   "execution_count": null,
   "id": "5c7f18f6",
   "metadata": {},
   "outputs": [],
   "source": []
  },
  {
   "cell_type": "code",
   "execution_count": null,
   "id": "93e2dacb",
   "metadata": {},
   "outputs": [],
   "source": []
  },
  {
   "cell_type": "code",
   "execution_count": null,
   "id": "605f6aaf",
   "metadata": {},
   "outputs": [],
   "source": []
  },
  {
   "cell_type": "code",
   "execution_count": null,
   "id": "5c98c45a",
   "metadata": {},
   "outputs": [],
   "source": []
  },
  {
   "cell_type": "code",
   "execution_count": null,
   "id": "b1b07667",
   "metadata": {},
   "outputs": [],
   "source": []
  },
  {
   "cell_type": "code",
   "execution_count": null,
   "id": "efee5778",
   "metadata": {},
   "outputs": [],
   "source": []
  },
  {
   "cell_type": "code",
   "execution_count": null,
   "id": "de45bd47",
   "metadata": {},
   "outputs": [],
   "source": []
  },
  {
   "cell_type": "code",
   "execution_count": null,
   "id": "ad317fa1",
   "metadata": {},
   "outputs": [],
   "source": []
  },
  {
   "cell_type": "code",
   "execution_count": null,
   "id": "5a6c3adb",
   "metadata": {},
   "outputs": [],
   "source": []
  },
  {
   "cell_type": "code",
   "execution_count": null,
   "id": "36654341",
   "metadata": {},
   "outputs": [],
   "source": []
  },
  {
   "cell_type": "code",
   "execution_count": null,
   "id": "529c6e94",
   "metadata": {},
   "outputs": [],
   "source": []
  },
  {
   "cell_type": "code",
   "execution_count": null,
   "id": "1ae3a3c5",
   "metadata": {},
   "outputs": [],
   "source": []
  },
  {
   "cell_type": "code",
   "execution_count": null,
   "id": "9e3d60c4",
   "metadata": {},
   "outputs": [],
   "source": []
  },
  {
   "cell_type": "code",
   "execution_count": null,
   "id": "4df9bc76",
   "metadata": {},
   "outputs": [],
   "source": []
  },
  {
   "cell_type": "code",
   "execution_count": null,
   "id": "596ecb16",
   "metadata": {},
   "outputs": [],
   "source": []
  },
  {
   "cell_type": "code",
   "execution_count": null,
   "id": "9dbaee34",
   "metadata": {},
   "outputs": [],
   "source": []
  },
  {
   "cell_type": "code",
   "execution_count": null,
   "id": "92105b7e",
   "metadata": {},
   "outputs": [],
   "source": []
  }
 ],
 "metadata": {
  "kernelspec": {
   "display_name": "Python 3 (ipykernel)",
   "language": "python",
   "name": "python3"
  },
  "language_info": {
   "codemirror_mode": {
    "name": "ipython",
    "version": 3
   },
   "file_extension": ".py",
   "mimetype": "text/x-python",
   "name": "python",
   "nbconvert_exporter": "python",
   "pygments_lexer": "ipython3",
   "version": "3.9.7"
  },
  "toc": {
   "base_numbering": 1,
   "nav_menu": {},
   "number_sections": true,
   "sideBar": true,
   "skip_h1_title": false,
   "title_cell": "Table of Contents",
   "title_sidebar": "Contents",
   "toc_cell": false,
   "toc_position": {},
   "toc_section_display": true,
   "toc_window_display": false
  }
 },
 "nbformat": 4,
 "nbformat_minor": 5
}

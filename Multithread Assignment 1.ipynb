{
 "cells": [
  {
   "cell_type": "markdown",
   "id": "91943294",
   "metadata": {},
   "source": [
    "Q1 - what is multithreading in python? why is it used? Name the module used to handle threads in python"
   ]
  },
  {
   "cell_type": "markdown",
   "id": "d2184e4c",
   "metadata": {},
   "source": [
    "Multithreading in Python refers to a programming technique that allows a Python program to execute multiple \n",
    "threads concurrently. Each thread is a separate flow of execution within the same process, sharing the same memory space.\n",
    "\n",
    "Multithreading is used to achieve parallelism, which can improve the program's performance by utilizing multiple CPU cores \n",
    "and allowing for concurrent execution of tasks.\n",
    "\n",
    "we import the threading module in python."
   ]
  },
  {
   "cell_type": "markdown",
   "id": "9bcb9349",
   "metadata": {},
   "source": [
    "Q2 - why threading module used? write the use of the following functions\n",
    "1. activeCount\n",
    "2. currentThread\n",
    "3. enumerate"
   ]
  },
  {
   "cell_type": "markdown",
   "id": "9d63b354",
   "metadata": {},
   "source": [
    "The threading module in Python is used to work with threads and manage concurrency in a Python program. \n",
    "It provides a high-level, object-oriented interface for creating and managing threads. \n",
    "\n",
    "ActiveCount\n",
    "\n",
    "The function is used to get the number of Thread objects currently alive. \n",
    "This function returns an integer representing the current count of active threads.\n",
    "\n",
    "CurrentThread\n",
    "\n",
    "The function returns the current Thread object, representing the thread from which it is called. \n",
    "You can use this function to obtain information about the currently executing thread.\n",
    "\n",
    "Enumerate\n",
    "\n",
    "The function returns a list of all currently active Thread objects. It is useful for obtaining \n",
    "a list of all threads currently running in a program."
   ]
  },
  {
   "cell_type": "markdown",
   "id": "3c173e42",
   "metadata": {},
   "source": [
    "Q3. Explain the following functions\n",
    "1. run\n",
    "2. start\n",
    "3. join\n",
    "4. isAlive"
   ]
  },
  {
   "cell_type": "markdown",
   "id": "102ec2d7",
   "metadata": {},
   "source": [
    "Run \n",
    "\n",
    "This method is a user-defined method that you can override when you create a custom thread class by subclassing threading.\n",
    "Thread. This method contains the code that will be executed by the thread when it is started using the start() method.\n",
    "\n",
    "Start\n",
    "\n",
    "This method is used to begin the execution of a thread. It internally calls the run() method of the thread, \n",
    "and the code specified in the run() method is executed concurrently in a separate thread.\n",
    "\n",
    "Join\n",
    "\n",
    "This method is used to wait for a thread to finish its execution before continuing with the rest of the program. \n",
    "It blocks the calling thread (usually the main thread) until the thread being joined completes.\n",
    "\n",
    "IsAlive\n",
    "\n",
    "This method is used to check if a thread is currently running or active. It returns True if the thread \n",
    "is alive (running), and False otherwise."
   ]
  },
  {
   "cell_type": "markdown",
   "id": "e7576831",
   "metadata": {},
   "source": [
    "Q4. write a python program to create two threads. Thread one must print the list of squares and thread \n",
    "two must print the list of cubes"
   ]
  },
  {
   "cell_type": "code",
   "execution_count": 1,
   "id": "2564026f",
   "metadata": {},
   "outputs": [
    {
     "name": "stdout",
     "output_type": "stream",
     "text": [
      "Square of 1 is 1\n",
      "Square of 2 is 4\n",
      "Square of 3 is 9\n",
      "Square of 4 is 16\n",
      "Square of 5 is 25\n",
      "Cube of 1 is 1\n",
      "Cube of 2 is 8\n",
      "Cube of 3 is 27\n",
      "Cube of 4 is 64\n",
      "Cube of 5 is 125\n",
      "Both threads have finished.\n"
     ]
    }
   ],
   "source": [
    "import threading\n",
    "\n",
    "# Function to calculate and print squares\n",
    "def print_squares():\n",
    "    for i in range(1, 6):\n",
    "        square = i * i\n",
    "        print(f\"Square of {i} is {square}\")\n",
    "\n",
    "# Function to calculate and print cubes\n",
    "def print_cubes():\n",
    "    for i in range(1, 6):\n",
    "        cube = i * i * i\n",
    "        print(f\"Cube of {i} is {cube}\")\n",
    "\n",
    "# Create two threads\n",
    "thread1 = threading.Thread(target=print_squares)\n",
    "thread2 = threading.Thread(target=print_cubes)\n",
    "\n",
    "# Start the threads\n",
    "thread1.start()\n",
    "thread2.start()\n",
    "\n",
    "# Wait for both threads to finish\n",
    "thread1.join()\n",
    "thread2.join()\n",
    "\n",
    "print(\"Both threads have finished.\")\n"
   ]
  },
  {
   "cell_type": "markdown",
   "id": "08d23125",
   "metadata": {},
   "source": [
    "Q5. State advantages and disadvantages of multithreading"
   ]
  },
  {
   "cell_type": "markdown",
   "id": "cd4354c6",
   "metadata": {},
   "source": [
    "Advantages of Multithreading\n",
    "\n",
    "Multithreading can lead to improved performance by utilizing multiple CPU cores and allowing concurrent execution of tasks.\n",
    "Multithreading can make an application more responsive, especially in user interfaces.\n",
    "Threads within the same process share the same memory space, making it easier to share data and resources between threads.\n",
    "\n",
    "Disadvantages of Multithreading\n",
    "\n",
    "Multithreading introduces complexity, making code harder to write, understand, and debug. \n",
    "To prevent conflicts and data corruption when multiple threads access shared resources, synchronization mechanisms\n",
    "Debugging multithreaded programs can be challenging."
   ]
  },
  {
   "cell_type": "markdown",
   "id": "ebca6c47",
   "metadata": {},
   "source": [
    "Q6. Explain deadlocks and race conditions."
   ]
  },
  {
   "cell_type": "markdown",
   "id": "31e8e197",
   "metadata": {},
   "source": [
    "A deadlock is a situation in which two or more threads or processes are unable to proceed with their execution \n",
    "because each is waiting for the other(s) to release a resource.\n",
    "\n",
    "A race condition is a situation in which the behavior of a program depends on the relative timing of events, \n",
    "specifically when multiple threads or processes access shared data or resources concurrently without proper synchronization."
   ]
  },
  {
   "cell_type": "code",
   "execution_count": null,
   "id": "4ff3d795",
   "metadata": {},
   "outputs": [],
   "source": []
  }
 ],
 "metadata": {
  "kernelspec": {
   "display_name": "Python 3 (ipykernel)",
   "language": "python",
   "name": "python3"
  },
  "language_info": {
   "codemirror_mode": {
    "name": "ipython",
    "version": 3
   },
   "file_extension": ".py",
   "mimetype": "text/x-python",
   "name": "python",
   "nbconvert_exporter": "python",
   "pygments_lexer": "ipython3",
   "version": "3.9.7"
  },
  "toc": {
   "base_numbering": 1,
   "nav_menu": {},
   "number_sections": true,
   "sideBar": true,
   "skip_h1_title": false,
   "title_cell": "Table of Contents",
   "title_sidebar": "Contents",
   "toc_cell": false,
   "toc_position": {},
   "toc_section_display": true,
   "toc_window_display": false
  }
 },
 "nbformat": 4,
 "nbformat_minor": 5
}

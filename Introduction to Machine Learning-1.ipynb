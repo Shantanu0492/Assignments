{
 "cells": [
  {
   "cell_type": "code",
   "execution_count": null,
   "id": "6edb5e49",
   "metadata": {},
   "outputs": [],
   "source": [
    "QD- Explain the following with an example :\n",
    "1) Artificial Intelligence\n",
    "2) Machine Learning,\n",
    "3) Deep Learning"
   ]
  },
  {
   "cell_type": "code",
   "execution_count": null,
   "id": "f2784094",
   "metadata": {},
   "outputs": [],
   "source": [
    "1) Artificial Intelligence \n",
    "\n",
    "Artificial Intelligence is a smart application that can perform the task by it's own without any human intervension.\n",
    "\n",
    "exm = Self driven cars, Robot, Alexa etc.\n",
    "\n",
    "2) Machine Learning\n",
    "\n",
    "Machinene learning is a subset of Artificial Intelligence, it provide statstools to analysis, visualize and to create \n",
    "predictive models, also use for creating forcasting models.\n",
    "\n",
    "exm = Amazon.in, flipkart.com (any ecomerce website), Netflix, Hotstar etc\n",
    "\n",
    "3) Deep Learning\n",
    "\n",
    "Its a multilayer nueral network model, it's used to mimic the human brain.\n",
    "\n",
    "exm = Object Detection, Image Recognition, Chat bots, Recommedation system etc."
   ]
  },
  {
   "cell_type": "code",
   "execution_count": null,
   "id": "5672d963",
   "metadata": {},
   "outputs": [],
   "source": [
    "Q2- What is supervised learning? List some examples of supervised learning."
   ]
  },
  {
   "cell_type": "code",
   "execution_count": null,
   "id": "097da90a",
   "metadata": {},
   "outputs": [],
   "source": [
    "Supervised learning is a type of machine learning algorithms where data is present in structured form/ labelled form of \n",
    "dataset is present. (for exmp - excel, csv etc).\n",
    "\n",
    "It is devided in two types 1) Classification type - where output data is present in Catagorical formate (Male/Female, Yes/No)\n",
    "                           2) Continous type - where output data is present in continous values (price, Age, Speed)\n",
    "    \n",
    "    \n",
    "Example :\n",
    "    \n",
    "    1) Linear Regression Algorithms\n",
    "    2) Logistic Regression Algorithms\n",
    "    3) K-NN Algorithms\n",
    "    4) Decision Tree Algorithms\n",
    "    \n",
    "    etc."
   ]
  },
  {
   "cell_type": "code",
   "execution_count": null,
   "id": "ae2d99d5",
   "metadata": {},
   "outputs": [],
   "source": [
    "Q3- What is unsupervised learning? List some examples of unsupervised learning."
   ]
  },
  {
   "cell_type": "code",
   "execution_count": null,
   "id": "6141ba13",
   "metadata": {},
   "outputs": [],
   "source": [
    "Unsupervised learning is a type of machine learning algorithms where data is present in unstructured form/ unlabelled form of \n",
    "dataset is present. (for exmp - Images, Video, pdf, Voice, text etc).\n",
    "    \n",
    "    \n",
    "Example :\n",
    "    \n",
    "    1) K-means Clustering\n",
    "    2) Hierarchical Clustering\n",
    "    3) Priciple Component Analysis\n",
    "    \n",
    "    etc."
   ]
  },
  {
   "cell_type": "code",
   "execution_count": null,
   "id": "71ff44d5",
   "metadata": {},
   "outputs": [],
   "source": [
    "Q4- What is the difference between AI, ML, DL, and DS?"
   ]
  },
  {
   "cell_type": "code",
   "execution_count": null,
   "id": "9aeca613",
   "metadata": {},
   "outputs": [],
   "source": [
    "AI (Artificial Intelligence) is the broad field of creating intelligent systems, while ML (Machine Learning) is a subset,\n",
    "focusing on algorithms that enable computers to learn from data. DL (Deep Learning) is a specialized form of ML, employing\n",
    "deep neural networks to simulate human brain functions. DS (Data Science) extracts insights from structured and unstructured\n",
    "data, blending statistics, ML, and domain expertise. AI encompasses diverse applications, from virtual assistants to \n",
    "autonomous vehicles. ML includes spam filters and recommendation systems, while DL excels in image and speech recognition. \n",
    "DS involves analyzing complex datasets to drive data-driven decision-making and predictive analytics."
   ]
  },
  {
   "cell_type": "code",
   "execution_count": null,
   "id": "6d34a4d7",
   "metadata": {},
   "outputs": [],
   "source": [
    "Q5- What are the main differences between supervised, unsupervised, and semi-supervised learning?"
   ]
  },
  {
   "cell_type": "code",
   "execution_count": null,
   "id": "d3723216",
   "metadata": {},
   "outputs": [],
   "source": [
    "Supervised learning, unsupervised learning, and semi-supervised learning are pivotal paradigms within machine learning, \n",
    "each distinguished by its approach to data and learning objectives. \n",
    "\n",
    "Supervised learning involves training a model on a \n",
    "labeled dataset, where inputs are paired with corresponding output labels. This model learns to map inputs to outputs and \n",
    "is commonly used for classification and regression tasks, such as spam detection or image recognition.\n",
    "\n",
    "\n",
    "unsupervised learning operates on unlabeled data, seeking to uncover patterns or relationships inherent in the input data\n",
    "without predefined output labels. Tasks like clustering or dimensionality reduction fall under this category, with \n",
    "applications ranging from customer segmentation to anomaly detection.\n",
    "\n",
    "Semi-supervised learning strikes a balance by incorporating both labeled and unlabeled data during training. This hybrid \n",
    "approach proves beneficial when obtaining labeled data is resource-intensive. It enhances model performance by leveraging \n",
    "the limited labeled data available alongside a more extensive pool of unlabeled data."
   ]
  },
  {
   "cell_type": "code",
   "execution_count": null,
   "id": "5e031481",
   "metadata": {},
   "outputs": [],
   "source": [
    "Q6- What is train, test and validation split? Explain the importance of each term."
   ]
  },
  {
   "cell_type": "code",
   "execution_count": null,
   "id": "0434467c",
   "metadata": {},
   "outputs": [],
   "source": [
    "Train, test , Validation split is the process which is used for model devolpment. \n",
    "\n",
    "while data training is the most important process for creating the model in machine learning, so before that we devide the \n",
    "dataset in 3 different parts.\n",
    "\n",
    "1) Training Dataset - Training dataset is where we train our models.\n",
    "2) Validation Dataset - Here we will do hyperparameter tunning of the model to increase the accuracy.\n",
    "3) Testing Dataset - Model will be tested using this testing dataset.\n",
    "\n"
   ]
  },
  {
   "cell_type": "code",
   "execution_count": null,
   "id": "398277c4",
   "metadata": {},
   "outputs": [],
   "source": [
    "Q7- How can unsupervised learning be used in anomaly detection?"
   ]
  },
  {
   "cell_type": "code",
   "execution_count": null,
   "id": "62673547",
   "metadata": {},
   "outputs": [],
   "source": [
    "Unsupervised learning is a powerful approach for anomaly detection, where the goal is to identify patterns in data \n",
    "and recognize instances that deviate significantly from the norm. Here's how unsupervised learning can be applied for \n",
    "anomaly detection:\n",
    "    \n",
    "K-Means Clustering: Unsupervised clustering algorithms like K-Means can group data points into clusters based on their \n",
    "similarity. Anomalies may appear as data points that do not fit well into any cluster or fall into small clusters.\n",
    "\n",
    "DBSCAN (Density-Based Spatial Clustering of Applications with Noise): DBSCAN identifies dense regions of data points and \n",
    "isolates areas with lower point density. Outliers, or anomalies, may be located in sparser regions.\n",
    "\n",
    "Principal Component Analysis (PCA): PCA reduces the dimensionality of data while retaining essential information. Anomalies \n",
    "may manifest as data points lying far from the reconstructed subspace, indicating they deviate from the typical data \n",
    "structure.\n",
    "\n",
    "t-Distributed Stochastic Neighbor Embedding (t-SNE): t-SNE is effective for visualizing high-dimensional data in two or three\n",
    "dimensions. Anomalies might appear as isolated or distant points in the t-SNE representation."
   ]
  },
  {
   "cell_type": "code",
   "execution_count": null,
   "id": "3d8655d2",
   "metadata": {},
   "outputs": [],
   "source": [
    "Q8- List down some commonly used supervised learning algorithms and unsupervised learning\n",
    "algorithms."
   ]
  },
  {
   "cell_type": "code",
   "execution_count": null,
   "id": "d23ed5ad",
   "metadata": {},
   "outputs": [],
   "source": [
    "Supervised Learning Algorithms\n",
    "\n",
    "Liner Regression Algorithm\n",
    "Logistic Regression Algorithm\n",
    "KNN (K - Nearest Neigbour) Algorithm\n",
    "Decision Tree Algorithm\n",
    "Random Forest Algorithm\n",
    "Boosting Algorithm\n",
    "Suport Vector machine Algorithm\n",
    "Naive Bayes Algorithm\n",
    "\n",
    "UnSupervised Algorithms\n",
    "\n",
    "K-Means Clustering\n",
    "Hierarchical Clustering\n",
    "PCA (Principle Component Analysis)\n",
    "Algomerative Clustering\n",
    "Divisive Clustering"
   ]
  }
 ],
 "metadata": {
  "kernelspec": {
   "display_name": "Python 3 (ipykernel)",
   "language": "python",
   "name": "python3"
  },
  "language_info": {
   "codemirror_mode": {
    "name": "ipython",
    "version": 3
   },
   "file_extension": ".py",
   "mimetype": "text/x-python",
   "name": "python",
   "nbconvert_exporter": "python",
   "pygments_lexer": "ipython3",
   "version": "3.9.7"
  },
  "toc": {
   "base_numbering": 1,
   "nav_menu": {},
   "number_sections": true,
   "sideBar": true,
   "skip_h1_title": false,
   "title_cell": "Table of Contents",
   "title_sidebar": "Contents",
   "toc_cell": false,
   "toc_position": {},
   "toc_section_display": true,
   "toc_window_display": false
  }
 },
 "nbformat": 4,
 "nbformat_minor": 5
}

{
 "cells": [
  {
   "cell_type": "markdown",
   "id": "81a02872",
   "metadata": {},
   "source": [
    "Q1. What is and Exception in python? Write the difference between Exceptions and syntax errors"
   ]
  },
  {
   "cell_type": "code",
   "execution_count": null,
   "id": "ccae5bfe",
   "metadata": {},
   "outputs": [],
   "source": [
    "While writting a code in python, if the code get an error so it will break it their only and rest code will be stuck or it\n",
    "will not run.\n",
    "By using Exception handling we can overide the errors and rest code can be run smoothly.\n",
    "\n",
    "Difference is - \n",
    "\n",
    "Syntax errors often involve incorrect placement of keywords, missing or misplaced punctuation, or other violations of \n",
    "the language.  (Python is case sensitive language)\n",
    "\n",
    "Exception Errors - An exception is a runtime error that occurs when a program is executing and encounters an unexpected \n",
    "or exceptional situation. this can be handle by try, except, else, finally blocks."
   ]
  },
  {
   "cell_type": "markdown",
   "id": "7f33b5de",
   "metadata": {},
   "source": [
    "Q2. What happens when an exception is not handled? Explain with an example?"
   ]
  },
  {
   "cell_type": "code",
   "execution_count": 2,
   "id": "245de7e9",
   "metadata": {},
   "outputs": [
    {
     "name": "stdout",
     "output_type": "stream",
     "text": [
      "Finally will executed itself in any situation\n"
     ]
    },
    {
     "ename": "FileNotFoundError",
     "evalue": "[Errno 2] No such file or directory: 'Text233.txt'",
     "output_type": "error",
     "traceback": [
      "\u001b[1;31m---------------------------------------------------------------------------\u001b[0m",
      "\u001b[1;31mFileNotFoundError\u001b[0m                         Traceback (most recent call last)",
      "\u001b[1;32m~\\AppData\\Local\\Temp/ipykernel_18612/613467566.py\u001b[0m in \u001b[0;36m<module>\u001b[1;34m\u001b[0m\n\u001b[0;32m      4\u001b[0m \u001b[1;33m\u001b[0m\u001b[0m\n\u001b[0;32m      5\u001b[0m \u001b[1;32mtry\u001b[0m\u001b[1;33m:\u001b[0m\u001b[1;33m\u001b[0m\u001b[1;33m\u001b[0m\u001b[0m\n\u001b[1;32m----> 6\u001b[1;33m     \u001b[0mf\u001b[0m \u001b[1;33m=\u001b[0m \u001b[0mopen\u001b[0m\u001b[1;33m(\u001b[0m\u001b[1;34m\"Text233.txt\"\u001b[0m\u001b[1;33m,\u001b[0m\u001b[1;34m\"r\"\u001b[0m\u001b[1;33m)\u001b[0m\u001b[1;33m\u001b[0m\u001b[1;33m\u001b[0m\u001b[0m\n\u001b[0m\u001b[0;32m      7\u001b[0m     \u001b[0mf\u001b[0m\u001b[1;33m.\u001b[0m\u001b[0mwrite\u001b[0m\u001b[1;33m(\u001b[0m\u001b[1;34m'Write text23'\u001b[0m\u001b[1;33m)\u001b[0m\u001b[1;33m\u001b[0m\u001b[1;33m\u001b[0m\u001b[0m\n\u001b[0;32m      8\u001b[0m \u001b[1;32mfinally\u001b[0m\u001b[1;33m:\u001b[0m\u001b[1;33m\u001b[0m\u001b[1;33m\u001b[0m\u001b[0m\n",
      "\u001b[1;31mFileNotFoundError\u001b[0m: [Errno 2] No such file or directory: 'Text233.txt'"
     ]
    }
   ],
   "source": [
    "#If an exception is not handled the code through an error and the code get terminated with an error message.\n",
    "\n",
    "#Example -\n",
    "\n",
    "try:\n",
    "    f = open(\"Text233.txt\",\"r\") # Here this files first needs to be write and as their is no exception handled it gives error\n",
    "    f.write('Write text23')           \n",
    "finally:\n",
    "    print(\"Finally will executed itself in any situation\")"
   ]
  },
  {
   "cell_type": "markdown",
   "id": "5ce7ca00",
   "metadata": {},
   "source": [
    "Q3. Which Python statements are used to catch and handle exceptions? Explain with an example"
   ]
  },
  {
   "cell_type": "code",
   "execution_count": 4,
   "id": "a208959b",
   "metadata": {},
   "outputs": [
    {
     "name": "stdout",
     "output_type": "stream",
     "text": [
      "[Errno 2] No such file or directory: 'Text233.txt'\n",
      "The file is not found as its executes read\n"
     ]
    }
   ],
   "source": [
    "# The Python statements are used to catch and handle exceptions errors are try, except, else, finally blocks.\n",
    "\n",
    "# Example - \n",
    "\n",
    "try:\n",
    "    f = open(\"Text233.txt\",\"r\")\n",
    "    f.write('Write text23') \n",
    "    \n",
    "except FileNotFoundError as e:\n",
    "    print(e)\n",
    "\n",
    "finally:\n",
    "    print(\"The file is not found as its executes read\")"
   ]
  },
  {
   "cell_type": "markdown",
   "id": "2baf961e",
   "metadata": {},
   "source": [
    "Q4. Explain with an example:\n",
    "\n",
    "a. try and else\n",
    "b. finally\n",
    "c. raise"
   ]
  },
  {
   "cell_type": "markdown",
   "id": "d5fd27ca",
   "metadata": {},
   "source": [
    "#### Try and Else"
   ]
  },
  {
   "cell_type": "code",
   "execution_count": 6,
   "id": "5a7bcdd9",
   "metadata": {},
   "outputs": [
    {
     "name": "stdout",
     "output_type": "stream",
     "text": [
      "This file is open now\n",
      "This file is closed successfully\n"
     ]
    }
   ],
   "source": [
    "try:\n",
    "    with open('Test_new.txt','w') as new:\n",
    "        new.write(\"This is the new assignment\")\n",
    "        print(\"This file is open now\")\n",
    "\n",
    "except FileNotFoundError as e:\n",
    "    print(\"Exception handled Successfully\")\n",
    "    \n",
    "else:\n",
    "    new.close()\n",
    "    print(\"This file is closed successfully\")"
   ]
  },
  {
   "cell_type": "markdown",
   "id": "f041e3e5",
   "metadata": {},
   "source": [
    "#### Finally"
   ]
  },
  {
   "cell_type": "code",
   "execution_count": 7,
   "id": "672ee656",
   "metadata": {},
   "outputs": [
    {
     "name": "stdout",
     "output_type": "stream",
     "text": [
      "This file is open now\n",
      "This file is closed successfully\n"
     ]
    }
   ],
   "source": [
    "try:\n",
    "    with open('Test_new.txt','w') as new:\n",
    "        new.write(\"This is the new assignment\")\n",
    "        print(\"This file is open now\")\n",
    "\n",
    "except FileNotFoundError as e:\n",
    "    print(\"Exception handled Successfully\")\n",
    "    \n",
    "finally:\n",
    "    new.close()\n",
    "    print(\"This file is closed successfully\")"
   ]
  },
  {
   "cell_type": "markdown",
   "id": "b4595e22",
   "metadata": {},
   "source": [
    "#### Raise"
   ]
  },
  {
   "cell_type": "code",
   "execution_count": 10,
   "id": "03ed799d",
   "metadata": {},
   "outputs": [
    {
     "name": "stdout",
     "output_type": "stream",
     "text": [
      "Age enter is - 34\n",
      "Age is valid\n"
     ]
    }
   ],
   "source": [
    "class validated_age(Exception):\n",
    "    \n",
    "    def __init__(self,msg):\n",
    "        self.msg = msg\n",
    "        \n",
    "        \n",
    "def validated_age1(age):\n",
    "    if age < 0 :\n",
    "        raise validated_age(\"Entered age is negative\")\n",
    "    elif age > 200:\n",
    "        raise validated_age(\"Entered age is very high\")\n",
    "    else:\n",
    "        print(\"Age is valid\")\n",
    "        \n",
    "try:\n",
    "    age = int(input(\"Age enter is - \"))\n",
    "    validated_age1(age)\n",
    "except validated_age as e:\n",
    "    print(e)"
   ]
  },
  {
   "cell_type": "markdown",
   "id": "9b4e166f",
   "metadata": {},
   "source": [
    "Q5. What are Custom Exceptions in python? Why do we need Custom Exceptions? Explain with an example"
   ]
  },
  {
   "cell_type": "code",
   "execution_count": null,
   "id": "21170e07",
   "metadata": {},
   "outputs": [],
   "source": [
    "# In an condition we don't have any inbuilt python library for exception handling but we need to create one, so in that case\n",
    "# we can create an custom exception handling block.\n",
    "\n",
    "Example:\n",
    "    \n",
    "age = int(input(\"Enter your age\"))\n",
    "\n",
    "age = -345\n",
    "\n",
    "Age can't be in negative form but as per system it's correct code so it will executed.\n",
    "\n",
    "so we can create an exception here.\n"
   ]
  },
  {
   "cell_type": "markdown",
   "id": "6236b5df",
   "metadata": {},
   "source": [
    "Q6. Create custom exception class. Use this class to handle an exception."
   ]
  },
  {
   "cell_type": "code",
   "execution_count": 11,
   "id": "3ac52077",
   "metadata": {},
   "outputs": [
    {
     "name": "stdout",
     "output_type": "stream",
     "text": [
      "Age enter is - -34\n",
      "Entered age is negative\n"
     ]
    }
   ],
   "source": [
    "class validated_age(Exception):\n",
    "    \n",
    "    def __init__(self,msg):\n",
    "        self.msg = msg\n",
    "        \n",
    "        \n",
    "def validated_age1(age):\n",
    "    if age < 0 :\n",
    "        raise validated_age(\"Entered age is negative\")\n",
    "    elif age > 200:\n",
    "        raise validated_age(\"Entered age is very high\")\n",
    "    else:\n",
    "        print(\"Age is valid\")\n",
    "        \n",
    "try:\n",
    "    age = int(input(\"Age enter is - \"))\n",
    "    validated_age1(age)\n",
    "except validated_age as e:\n",
    "    print(e)"
   ]
  },
  {
   "cell_type": "code",
   "execution_count": null,
   "id": "2767a8ca",
   "metadata": {},
   "outputs": [],
   "source": []
  }
 ],
 "metadata": {
  "kernelspec": {
   "display_name": "Python 3 (ipykernel)",
   "language": "python",
   "name": "python3"
  },
  "language_info": {
   "codemirror_mode": {
    "name": "ipython",
    "version": 3
   },
   "file_extension": ".py",
   "mimetype": "text/x-python",
   "name": "python",
   "nbconvert_exporter": "python",
   "pygments_lexer": "ipython3",
   "version": "3.9.7"
  },
  "toc": {
   "base_numbering": 1,
   "nav_menu": {},
   "number_sections": true,
   "sideBar": true,
   "skip_h1_title": false,
   "title_cell": "Table of Contents",
   "title_sidebar": "Contents",
   "toc_cell": false,
   "toc_position": {},
   "toc_section_display": true,
   "toc_window_display": false
  }
 },
 "nbformat": 4,
 "nbformat_minor": 5
}

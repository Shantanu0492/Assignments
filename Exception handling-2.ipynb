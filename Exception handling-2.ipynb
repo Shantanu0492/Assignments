{
 "cells": [
  {
   "cell_type": "markdown",
   "id": "a66e1a86",
   "metadata": {},
   "source": [
    "Q1. Explain why we have to use the Exception class while creating a Custom Exception."
   ]
  },
  {
   "cell_type": "markdown",
   "id": "66ea0170",
   "metadata": {},
   "source": [
    "In Python, when creating a custom exception, it is recommended to inherit from the Exception class or one of its\n",
    "existing subclasses. The Base class is the root of the exception hierarchy, and it inherits from object. \n",
    "The Exception class is a common base class for most user-defined exceptions, and it is a subclass of Base class. "
   ]
  },
  {
   "cell_type": "markdown",
   "id": "7d700141",
   "metadata": {},
   "source": [
    "Q2. Write a python program to print Python Exception Hierarchy."
   ]
  },
  {
   "cell_type": "code",
   "execution_count": 1,
   "id": "645aaec9",
   "metadata": {},
   "outputs": [
    {
     "name": "stdout",
     "output_type": "stream",
     "text": [
      "Custom exception caught: This is a custom exception.\n"
     ]
    }
   ],
   "source": [
    "class CustomException(Exception):\n",
    "    pass\n",
    "\n",
    "try:\n",
    "    # Raise the custom exception\n",
    "    raise CustomException(\"This is a custom exception.\")\n",
    "except CustomException as e:\n",
    "    print(\"Custom exception caught:\", e)\n",
    "except Exception as e:\n",
    "    print(\"General exception caught:\", e)"
   ]
  },
  {
   "cell_type": "markdown",
   "id": "d415cbab",
   "metadata": {},
   "source": [
    "Q3. What errors are defined in the ArithmeticError class? Explain any two with an example."
   ]
  },
  {
   "cell_type": "markdown",
   "id": "bc131d39",
   "metadata": {},
   "source": [
    "In Python, the ArithmeticError class is a base class for exceptions related to arithmetic operations. \n",
    "It serves as the parent class for various specific arithmetic-related exceptions. Two common exceptions that \n",
    "are derived from ArithmeticError are ZeroDivisionError and OverflowError."
   ]
  },
  {
   "cell_type": "code",
   "execution_count": 7,
   "id": "fd0c4d54",
   "metadata": {},
   "outputs": [
    {
     "name": "stdout",
     "output_type": "stream",
     "text": [
      "Error: division by zero\n"
     ]
    }
   ],
   "source": [
    "try:\n",
    "    10/0\n",
    "except ZeroDivisionError as e:\n",
    "    print(\"Error:\", e)"
   ]
  },
  {
   "cell_type": "code",
   "execution_count": 11,
   "id": "3200fcaf",
   "metadata": {},
   "outputs": [],
   "source": [
    "max_int = 2**31 - 1 \n",
    "\n",
    "try:\n",
    "    result = max_int + 1  \n",
    "\n",
    "except OverflowError as e:\n",
    "    print(\"Error:\", e)"
   ]
  },
  {
   "cell_type": "markdown",
   "id": "41b8a6d5",
   "metadata": {},
   "source": [
    "Q4. Why LookupError class is used? Explain with an example KeyError and IndexError."
   ]
  },
  {
   "cell_type": "code",
   "execution_count": 12,
   "id": "1879339f",
   "metadata": {},
   "outputs": [
    {
     "name": "stdout",
     "output_type": "stream",
     "text": [
      "Error: 'x'\n"
     ]
    }
   ],
   "source": [
    "# The LookupError class is a base class for exceptions related to lookup or indexing operations in Python. \n",
    "# It serves as the parent class for various specific lookup-related exceptions, including KeyError and IndexError.\n",
    "\n",
    "my_dict = {'a': 1, 'b': 2, 'c': 3}\n",
    "\n",
    "try:\n",
    "    value = my_dict['x'] \n",
    "except KeyError as e:\n",
    "    print(\"Error:\", e)"
   ]
  },
  {
   "cell_type": "markdown",
   "id": "663af444",
   "metadata": {},
   "source": [
    "Q5. Explain ImportError. What is ModuleNotFoundError?"
   ]
  },
  {
   "cell_type": "markdown",
   "id": "8e5cf5db",
   "metadata": {},
   "source": [
    " ImportError = ImportError is a base class for exceptions that occur when an import statement fails in Python. \n",
    "               It is a common exception raised when there are issues with importing modules or packages.\n",
    "    \n",
    "ModuleNotFoundError = This is one of the most common causes of ImportError. It occurs when Python cannot locate \n",
    "                      the module or package you are trying to import. This might happen if the module does not exist \n",
    "                      or if it is not in a directory listed\n"
   ]
  },
  {
   "cell_type": "markdown",
   "id": "89038d2b",
   "metadata": {},
   "source": [
    "Q6. List down some best practices for exception handling in python."
   ]
  },
  {
   "cell_type": "markdown",
   "id": "01c934fa",
   "metadata": {},
   "source": [
    "1. Always try to log the errors\n",
    "2. Always avoid the multiple exceptions handling\n",
    "3. Always document the errors\n",
    "4. Clean up all the resources."
   ]
  }
 ],
 "metadata": {
  "kernelspec": {
   "display_name": "Python 3 (ipykernel)",
   "language": "python",
   "name": "python3"
  },
  "language_info": {
   "codemirror_mode": {
    "name": "ipython",
    "version": 3
   },
   "file_extension": ".py",
   "mimetype": "text/x-python",
   "name": "python",
   "nbconvert_exporter": "python",
   "pygments_lexer": "ipython3",
   "version": "3.9.7"
  },
  "toc": {
   "base_numbering": 1,
   "nav_menu": {},
   "number_sections": true,
   "sideBar": true,
   "skip_h1_title": false,
   "title_cell": "Table of Contents",
   "title_sidebar": "Contents",
   "toc_cell": false,
   "toc_position": {},
   "toc_section_display": true,
   "toc_window_display": false
  }
 },
 "nbformat": 4,
 "nbformat_minor": 5
}

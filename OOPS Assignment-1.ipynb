{
 "cells": [
  {
   "cell_type": "markdown",
   "id": "586262e7",
   "metadata": {},
   "source": [
    "Q1. Explain Class and Object with respect to Object-Oriented Programming. Give a suitable example."
   ]
  },
  {
   "cell_type": "markdown",
   "id": "2e6c6e20",
   "metadata": {},
   "source": [
    "Class - Class works as a sketch model, blueprint or templete to create a object. Its a combination of multiple function.\n",
    "Object - Its a instance of class, outcome of the class. object create to access the class variable from which we get the \n",
    "         outcome from the class"
   ]
  },
  {
   "cell_type": "code",
   "execution_count": 5,
   "id": "000e0bbd",
   "metadata": {},
   "outputs": [],
   "source": [
    "class student_data():                                         # Class\n",
    "     \n",
    "    def __init__(self, student_name, student_num):\n",
    "        self.student_name = student_name\n",
    "        self.student_num = student_name\n",
    "        \n",
    "data_1 = student_data()                                       # Object\n"
   ]
  },
  {
   "cell_type": "markdown",
   "id": "5553953a",
   "metadata": {},
   "source": [
    "Q2. Name the four pillars of OOPs."
   ]
  },
  {
   "cell_type": "code",
   "execution_count": null,
   "id": "fd5fafaf",
   "metadata": {},
   "outputs": [],
   "source": [
    "The four pillers of OOPs are below:\n",
    "    \n",
    "    1) Inheritance\n",
    "    2)Abstraction\n",
    "    3)Encapsulation\n",
    "    4)Polymorphism"
   ]
  },
  {
   "cell_type": "markdown",
   "id": "67e72284",
   "metadata": {},
   "source": [
    "Q3. Explain why the __init__() function is used. Give a suitable example.\n"
   ]
  },
  {
   "cell_type": "code",
   "execution_count": null,
   "id": "52a02e0e",
   "metadata": {},
   "outputs": [],
   "source": [
    "Init functon is use to create a consturutor between class and the def function.\n",
    "Its take arrguments for th class\n",
    "Its help to connect the child and parent class"
   ]
  },
  {
   "cell_type": "markdown",
   "id": "523d71e0",
   "metadata": {},
   "source": [
    "Q4. Why self is used in OOPs?\n"
   ]
  },
  {
   "cell_type": "code",
   "execution_count": null,
   "id": "cfa9bb27",
   "metadata": {},
   "outputs": [],
   "source": [
    "Self binds the method in class, its used to access the variable by creating an instance variable."
   ]
  },
  {
   "cell_type": "markdown",
   "id": "78dbae2b",
   "metadata": {},
   "source": [
    "Q5. What is inheritance? Give an example for each type of inheritance."
   ]
  },
  {
   "cell_type": "code",
   "execution_count": null,
   "id": "d4ff7a77",
   "metadata": {},
   "outputs": [],
   "source": [
    "Inheritance is a method in which it's allows one class to access another class variable.\n",
    "\n",
    "for ex - Child child inherited the properties of parent class."
   ]
  },
  {
   "cell_type": "code",
   "execution_count": 9,
   "id": "a74e754f",
   "metadata": {},
   "outputs": [],
   "source": [
    "class parent():\n",
    "    \n",
    "    def test1(self):\n",
    "        return \"This is the parent class\"\n",
    "    \n",
    "class child(parent):\n",
    "    pass"
   ]
  },
  {
   "cell_type": "code",
   "execution_count": 10,
   "id": "b3635d92",
   "metadata": {},
   "outputs": [],
   "source": [
    "method = child()"
   ]
  },
  {
   "cell_type": "code",
   "execution_count": 12,
   "id": "3d6313e0",
   "metadata": {},
   "outputs": [
    {
     "data": {
      "text/plain": [
       "'This is the parent class'"
      ]
     },
     "execution_count": 12,
     "metadata": {},
     "output_type": "execute_result"
    }
   ],
   "source": [
    "method.test1()"
   ]
  },
  {
   "cell_type": "code",
   "execution_count": null,
   "id": "4d18917d",
   "metadata": {},
   "outputs": [],
   "source": []
  }
 ],
 "metadata": {
  "kernelspec": {
   "display_name": "Python 3 (ipykernel)",
   "language": "python",
   "name": "python3"
  },
  "language_info": {
   "codemirror_mode": {
    "name": "ipython",
    "version": 3
   },
   "file_extension": ".py",
   "mimetype": "text/x-python",
   "name": "python",
   "nbconvert_exporter": "python",
   "pygments_lexer": "ipython3",
   "version": "3.9.7"
  },
  "toc": {
   "base_numbering": 1,
   "nav_menu": {},
   "number_sections": true,
   "sideBar": true,
   "skip_h1_title": false,
   "title_cell": "Table of Contents",
   "title_sidebar": "Contents",
   "toc_cell": false,
   "toc_position": {},
   "toc_section_display": true,
   "toc_window_display": false
  }
 },
 "nbformat": 4,
 "nbformat_minor": 5
}

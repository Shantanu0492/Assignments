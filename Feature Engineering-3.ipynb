{
 "cells": [
  {
   "cell_type": "code",
   "execution_count": null,
   "id": "5d2d30b9",
   "metadata": {},
   "outputs": [],
   "source": [
    "Q1. What is Min-Max scaling, and how is it used in data preprocessing? Provide an example to illustrate its\n",
    "application."
   ]
  },
  {
   "cell_type": "code",
   "execution_count": null,
   "id": "e77602c8",
   "metadata": {},
   "outputs": [],
   "source": [
    "Min-Max scaling is a data normalization technique commonly used in data preprocessing to scale numerical features of a \n",
    "dataset to a specific range. The goal is to transform the values of the features into a predefined interval, usually [0, 1].\n",
    "\n",
    "Here's an example to illustrate Min-Max scaling:\n",
    "\n",
    "Suppose you have a dataset with a feature, let's say \"Age,\" and the original values range from 20 to 40. \n",
    "The minimum value (X_min) is 20, and the maximum value (X_max) is 40.\n",
    "\n",
    "Now, let's say you have an age value of 30 that you want to scale using Min-Max scaling:\n",
    "\n",
    "X normalized = 30−20/40−20 = 10/20 = 0.5\n",
    "\n",
    "So, the normalized value for an age of 30 using Min-Max scaling would be 0.5.\n",
    "\n",
    "This process is applied to each value in the dataset, ensuring that all the values are transformed to the [0, 1] range. \n",
    "Min-Max scaling is beneficial for machine learning algorithms, especially those sensitive to the scale of input features,\n",
    "as it helps in achieving better convergence and performance."
   ]
  },
  {
   "cell_type": "code",
   "execution_count": null,
   "id": "edd30c5d",
   "metadata": {},
   "outputs": [],
   "source": [
    "Q2. What is the Unit Vector technique in feature scaling, and how does it differ from Min-Max scaling?\n",
    "Provide an example to illustrate its application."
   ]
  },
  {
   "cell_type": "code",
   "execution_count": null,
   "id": "b6001a84",
   "metadata": {},
   "outputs": [],
   "source": [
    "The Unit Vector technique, also known as \"Unit Vector Scaling\" or \"Vector Normalization,\" involves scaling the values of a \n",
    "feature to obtain a unit vector. It transforms the data points to have a magnitude of 1 while preserving their direction. \n",
    "The formula for unit vector scaling is as follows:\n",
    "    \n",
    "X normalized = X / ∥X∥\n",
    "\n",
    "Where:\n",
    "X is the original value of the feature.\n",
    "∥X∥ is the magnitude of the vector.\n",
    "\n",
    "Unit Vector Scaling is different from Min-Max scaling in that it doesn't bound the values to a specific range; instead, it \n",
    "focuses on the direction of the vectors. The resulting vectors will all have a magnitude of 1, which can be useful in certain\n",
    "machine learning applications."
   ]
  },
  {
   "cell_type": "code",
   "execution_count": null,
   "id": "d31665cd",
   "metadata": {},
   "outputs": [],
   "source": [
    "Q3. What is PCA (Principle Component Analysis), and how is it used in dimensionality reduction? Provide an\n",
    "example to illustrate its application"
   ]
  },
  {
   "cell_type": "code",
   "execution_count": null,
   "id": "e5a5bef9",
   "metadata": {},
   "outputs": [],
   "source": [
    "PCA is a technique used for dimensionality reduction in which the original features of a dataset are transformed into a new \n",
    "set of orthogonal (uncorrelated) features called principal components. These principal components capture the maximum variance\n",
    "in the data. The goal is to reduce the dimensionality of the dataset while retaining as much information as possible.\n",
    "\n",
    "Example:\n",
    "\n",
    "Consider a dataset with three features: \"Feature1,\" \"Feature2,\" and \"Feature3.\" PCA will transform these features into \n",
    "principal components, usually denoted as PC1, PC2, and PC3. PC1 represents the direction of maximum variance, PC2 the\n",
    "second maximum, and so on.\n",
    "\n",
    "The transformation is performed in such a way that the new features (principal components) are uncorrelated. The principal \n",
    "components can be used as a reduced set of features that retain most of the information present in the original data."
   ]
  },
  {
   "cell_type": "code",
   "execution_count": null,
   "id": "5dc17ee6",
   "metadata": {},
   "outputs": [],
   "source": [
    "Q4. What is the relationship between PCA and Feature Extraction, and how can PCA be used for Feature\n",
    "Extraction? Provide an example to illustrate this concept."
   ]
  },
  {
   "cell_type": "code",
   "execution_count": null,
   "id": "a49e69cf",
   "metadata": {},
   "outputs": [],
   "source": [
    "PCA is a form of feature extraction. It identifies the most important features (principal components) that contribute the \n",
    "most to the variance in the dataset. By retaining a subset of these principal components, you effectively perform feature \n",
    "extraction by representing the data in a lower-dimensional space.\n",
    "\n",
    "Example:\n",
    "\n",
    "Suppose you have a dataset with features \"A,\" \"B,\" and \"C.\" PCA identifies principal components PC1, PC2, and PC3. If you \n",
    "decide to keep only PC1 and PC2, you are essentially performing feature extraction by reducing the dataset from three \n",
    "features to two, capturing the most significant information."
   ]
  },
  {
   "cell_type": "code",
   "execution_count": null,
   "id": "ecc1b339",
   "metadata": {},
   "outputs": [],
   "source": [
    "Q5. You are working on a project to build a recommendation system for a food delivery service. The dataset\n",
    "contains features such as price, rating, and delivery time. Explain how you would use Min-Max scaling to\n",
    "preprocess the data."
   ]
  },
  {
   "cell_type": "code",
   "execution_count": null,
   "id": "188f8e8d",
   "metadata": {},
   "outputs": [],
   "source": [
    "For the food delivery service dataset with features like price, rating, and delivery time, you can use Min-Max scaling \n",
    "as follows:\n",
    "    \n",
    "Identify the minimum (X_min) and maximum (X_max) values for each feature (e.g., price, rating, delivery time).\n",
    "Apply the Min-Max scaling formula to each data point for every feature independently.\n",
    "\n",
    "This ensures that all features are scaled to the [0, 1] range, making them comparable and preventing any particular \n",
    "feature from dominating the others due to its scale."
   ]
  },
  {
   "cell_type": "code",
   "execution_count": null,
   "id": "5d927f26",
   "metadata": {},
   "outputs": [],
   "source": [
    "Q6. You are working on a project to build a model to predict stock prices. The dataset contains many\n",
    "features, such as company financial data and market trends. Explain how you would use PCA to reduce the\n",
    "dimensionality of the dataset."
   ]
  },
  {
   "cell_type": "code",
   "execution_count": null,
   "id": "6b1c67be",
   "metadata": {},
   "outputs": [],
   "source": [
    "For the stock price prediction project, you can use PCA to reduce the dimensionality of the dataset as follows:\n",
    "    \n",
    "Standardize the features to have zero mean and unit variance.\n",
    "Apply PCA to identify the principal components.\n",
    "Decide on the number of principal components to retain based on the explained variance or other criteria.\n",
    "Transform the original features into the selected principal components.\n",
    "This reduces the number of features while retaining the most significant information, making it easier for the model to \n",
    "learn patterns and potentially improving its performance."
   ]
  },
  {
   "cell_type": "code",
   "execution_count": null,
   "id": "41b64ac0",
   "metadata": {},
   "outputs": [],
   "source": [
    "Q7. For a dataset containing the following values: [1, 5, 10, 15, 20], perform Min-Max scaling to transform the\n",
    "values to a range of -1 to 1."
   ]
  },
  {
   "cell_type": "code",
   "execution_count": null,
   "id": "d890cba4",
   "metadata": {},
   "outputs": [],
   "source": [
    "To perform Min-Max scaling and transform the values of the given dataset "
   ]
  },
  {
   "cell_type": "code",
   "execution_count": 1,
   "id": "8f51afc8",
   "metadata": {
    "scrolled": true
   },
   "outputs": [
    {
     "name": "stdout",
     "output_type": "stream",
     "text": [
      "Original data: [1, 5, 10, 15, 20]\n",
      "Min-Max scaled data: [-0.9999999999999999, -0.5789473684210525, -0.05263157894736836, 0.47368421052631593, 1.0]\n"
     ]
    }
   ],
   "source": [
    "from sklearn.preprocessing import MinMaxScaler\n",
    "\n",
    "# Given dataset\n",
    "data = [1, 5, 10, 15, 20]\n",
    "\n",
    "# Reshape the data as scikit-learn expects a 2D array\n",
    "data_reshaped = [[value] for value in data]\n",
    "\n",
    "# Create a MinMaxScaler object\n",
    "scaler = MinMaxScaler(feature_range=(-1, 1))\n",
    "\n",
    "# Fit the scaler and transform the data\n",
    "scaled_data = scaler.fit_transform(data_reshaped)\n",
    "\n",
    "# Extract the scaled values from the result\n",
    "scaled_values = [value[0] for value in scaled_data]\n",
    "\n",
    "# Print the scaled values\n",
    "print(\"Original data:\", data)\n",
    "print(\"Min-Max scaled data:\", scaled_values)"
   ]
  },
  {
   "cell_type": "code",
   "execution_count": null,
   "id": "a56f4266",
   "metadata": {},
   "outputs": [],
   "source": [
    "Q8. For a dataset containing the following features: [height, weight, age, gender, blood pressure], perform\n",
    "Feature Extraction using PCA. How many principal components would you choose to retain, and why?"
   ]
  },
  {
   "cell_type": "code",
   "execution_count": null,
   "id": "0d9eb101",
   "metadata": {},
   "outputs": [],
   "source": [
    "Given a dataset with features [height,weight,age,gender,bloodpressure], you can use PCA for feature extraction as follows:\n",
    "    \n",
    "Standardize the features to have zero mean and unit variance.\n",
    "Apply PCA to obtain the principal components.\n",
    "Analyze the explained variance to decide on the number of principal components to retain.\n",
    "Choosing the number of principal components involves balancing the desire for dimensionality reduction with the need to \n",
    "retain sufficient information. You may choose the number of principal components based on a desired level of explained \n",
    "variance, for example, retaining components that explain 95% of the variance.\n",
    "\n",
    "The rationale for choosing a specific number of principal components depends on the trade-off between simplicity \n",
    "(fewer features) and information retention."
   ]
  }
 ],
 "metadata": {
  "kernelspec": {
   "display_name": "Python 3 (ipykernel)",
   "language": "python",
   "name": "python3"
  },
  "language_info": {
   "codemirror_mode": {
    "name": "ipython",
    "version": 3
   },
   "file_extension": ".py",
   "mimetype": "text/x-python",
   "name": "python",
   "nbconvert_exporter": "python",
   "pygments_lexer": "ipython3",
   "version": "3.9.7"
  },
  "toc": {
   "base_numbering": 1,
   "nav_menu": {},
   "number_sections": true,
   "sideBar": true,
   "skip_h1_title": false,
   "title_cell": "Table of Contents",
   "title_sidebar": "Contents",
   "toc_cell": false,
   "toc_position": {},
   "toc_section_display": true,
   "toc_window_display": false
  }
 },
 "nbformat": 4,
 "nbformat_minor": 5
}

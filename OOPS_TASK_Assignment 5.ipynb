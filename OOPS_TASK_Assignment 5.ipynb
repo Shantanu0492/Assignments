{
 "cells": [
  {
   "cell_type": "markdown",
   "id": "c2fe3635",
   "metadata": {},
   "source": [
    "Q1, Create a vehicle class with an init method having instance variables as name_of_vehicle, max_speed\n",
    "and average_of_vehicle."
   ]
  },
  {
   "cell_type": "code",
   "execution_count": 1,
   "id": "0b99efc5",
   "metadata": {},
   "outputs": [],
   "source": [
    "class vehicle():\n",
    "    \n",
    "    def __init__(self, name_of_vehicle, max_Speed, average_of_vehicle):\n",
    "        self.name_of_vehicle = name_of_vehicle\n",
    "        self.max_Speed = max_Speed\n",
    "        self.average_of_vehicle = average_of_vehicle"
   ]
  },
  {
   "cell_type": "markdown",
   "id": "ed81a358",
   "metadata": {},
   "source": [
    "Q2. Create a child class car from the vehicle class created in Que 1, which will inherit the vehicle class.\n",
    "Create a method named seating_capacity which takes capacity as an argument and returns the name of\n",
    "the vehicle and its seating capacity."
   ]
  },
  {
   "cell_type": "code",
   "execution_count": 2,
   "id": "32379953",
   "metadata": {},
   "outputs": [],
   "source": [
    "class child_car(vehicle):\n",
    "    \n",
    "    def seating_capacity(self, capacity):\n",
    "        return  \"The Vehicle name is -\", self.name_of_vehicle ,\"and it's seating capacity is -\" ,capacity"
   ]
  },
  {
   "cell_type": "code",
   "execution_count": 3,
   "id": "b6f662fc",
   "metadata": {},
   "outputs": [],
   "source": [
    "customer = child_car('Volkswagon',280,23)"
   ]
  },
  {
   "cell_type": "code",
   "execution_count": 4,
   "id": "57c8021d",
   "metadata": {},
   "outputs": [
    {
     "data": {
      "text/plain": [
       "('The Vehicle name is -', 'Volkswagon', \"and it's seating capacity is -\", 5)"
      ]
     },
     "execution_count": 4,
     "metadata": {},
     "output_type": "execute_result"
    }
   ],
   "source": [
    "customer.seating_capacity(5)"
   ]
  },
  {
   "cell_type": "markdown",
   "id": "99489982",
   "metadata": {},
   "source": [
    "Q3. What is multiple inheritance? Write a python code to demonstrate multiple inheritance."
   ]
  },
  {
   "cell_type": "code",
   "execution_count": 5,
   "id": "b56a3f05",
   "metadata": {},
   "outputs": [],
   "source": [
    "# Multiple inheritance is a method were a single class can inherit properties from multiple classes \n",
    "\n",
    "# code -- >\n",
    "\n",
    "class test1():\n",
    "    \n",
    "    def method_1(self):\n",
    "        return \"This is the method no 1\"\n",
    "    \n",
    "class test2():\n",
    "    \n",
    "    def method_2(self): \n",
    "        return \"This is the method no 2\"\n",
    "    \n",
    "class test3():\n",
    "    \n",
    "    def method_3(self):\n",
    "        return \"This is the method no 3\""
   ]
  },
  {
   "cell_type": "code",
   "execution_count": 6,
   "id": "d823319f",
   "metadata": {},
   "outputs": [],
   "source": [
    "class Multiple_class(test1,test2,test3):\n",
    "    pass"
   ]
  },
  {
   "cell_type": "code",
   "execution_count": 7,
   "id": "c181b59a",
   "metadata": {},
   "outputs": [],
   "source": [
    "Multiple_class_new = Multiple_class()"
   ]
  },
  {
   "cell_type": "code",
   "execution_count": 8,
   "id": "37f4b258",
   "metadata": {},
   "outputs": [
    {
     "data": {
      "text/plain": [
       "'This is the method no 1'"
      ]
     },
     "execution_count": 8,
     "metadata": {},
     "output_type": "execute_result"
    }
   ],
   "source": [
    "Multiple_class_new.method_1()"
   ]
  },
  {
   "cell_type": "code",
   "execution_count": 9,
   "id": "3e4ad875",
   "metadata": {},
   "outputs": [
    {
     "data": {
      "text/plain": [
       "'This is the method no 2'"
      ]
     },
     "execution_count": 9,
     "metadata": {},
     "output_type": "execute_result"
    }
   ],
   "source": [
    "Multiple_class_new.method_2()"
   ]
  },
  {
   "cell_type": "code",
   "execution_count": 10,
   "id": "b7dc7143",
   "metadata": {},
   "outputs": [
    {
     "data": {
      "text/plain": [
       "'This is the method no 3'"
      ]
     },
     "execution_count": 10,
     "metadata": {},
     "output_type": "execute_result"
    }
   ],
   "source": [
    "Multiple_class_new.method_3()"
   ]
  },
  {
   "cell_type": "markdown",
   "id": "8c9b7efb",
   "metadata": {},
   "source": [
    "Q4. What are getter and setter in python? Create a class and create a getter and a setter method in this\n",
    "class."
   ]
  },
  {
   "cell_type": "code",
   "execution_count": 11,
   "id": "131364c7",
   "metadata": {},
   "outputs": [],
   "source": [
    "# Getter is used to get the private variable created in the method.\n",
    "# Setter is used to set or modify the private variable created in the method.\n",
    "\n",
    "class student_data():\n",
    "    def __init__(self,student_name, student_DOB, student_MOB_No, student_Address):\n",
    "        self.__student_name = student_name\n",
    "        self.student_DOB = student_DOB\n",
    "        self.student_MOB_No = student_MOB_No\n",
    "        self.student_Address = student_Address\n",
    "        \n",
    "    def get_data(self):\n",
    "        return self.__student_name\n",
    "    \n",
    "    def set_new_data(self, new_data_entry):\n",
    "        if len(new_data_entry)>=3:\n",
    "            self.__student_name = new_data_entry\n",
    "        else:\n",
    "            print(\"The length of the name is less\")"
   ]
  },
  {
   "cell_type": "code",
   "execution_count": 12,
   "id": "c2091c25",
   "metadata": {},
   "outputs": [],
   "source": [
    "student_Details = student_data('Shantanu', \"04/01/1992\", 8754637653, \"Pune\")"
   ]
  },
  {
   "cell_type": "code",
   "execution_count": 13,
   "id": "b24c5d66",
   "metadata": {},
   "outputs": [
    {
     "data": {
      "text/plain": [
       "'Shantanu'"
      ]
     },
     "execution_count": 13,
     "metadata": {},
     "output_type": "execute_result"
    }
   ],
   "source": [
    "student_Details.get_data()"
   ]
  },
  {
   "cell_type": "code",
   "execution_count": 14,
   "id": "d2ea9c60",
   "metadata": {},
   "outputs": [],
   "source": [
    "student_Details.set_new_data('Aayush')"
   ]
  },
  {
   "cell_type": "code",
   "execution_count": 15,
   "id": "392a8f05",
   "metadata": {},
   "outputs": [
    {
     "name": "stdout",
     "output_type": "stream",
     "text": [
      "Aayush\n"
     ]
    }
   ],
   "source": [
    "print(student_Details.get_data())"
   ]
  },
  {
   "cell_type": "markdown",
   "id": "227542bb",
   "metadata": {},
   "source": [
    "Q5.What is method overriding in python? Write a python code to demonstrate method overriding."
   ]
  },
  {
   "cell_type": "markdown",
   "id": "70ed2370",
   "metadata": {},
   "source": [
    "When we have a child class where a method is define and the same method is define in the parent class, so when we call\n",
    "child class it will overide the parent class method and impliment its own define method."
   ]
  },
  {
   "cell_type": "code",
   "execution_count": 16,
   "id": "24a64e4f",
   "metadata": {},
   "outputs": [],
   "source": [
    "import math"
   ]
  },
  {
   "cell_type": "code",
   "execution_count": 17,
   "id": "177f3fa6",
   "metadata": {},
   "outputs": [],
   "source": [
    "class area_of_circle():\n",
    "    \n",
    "    def __init__(self,radius):\n",
    "        self.radius = radius\n",
    "        \n",
    "    def area(self):\n",
    "        print('This is parent class')\n",
    "        return math.pi*(self.radius**2)\n",
    "    \n",
    "class area_of_circle_2(area_of_circle):\n",
    "    \n",
    "    def __init__(self,radius):\n",
    "        self.radius = radius\n",
    "        \n",
    "    def area(self):\n",
    "        print('This is child class')\n",
    "        return math.pi*(self.radius**2)"
   ]
  },
  {
   "cell_type": "code",
   "execution_count": 18,
   "id": "d940ad4e",
   "metadata": {},
   "outputs": [],
   "source": [
    "output_1 = area_of_circle_2(5)"
   ]
  },
  {
   "cell_type": "code",
   "execution_count": 19,
   "id": "31089e04",
   "metadata": {},
   "outputs": [
    {
     "name": "stdout",
     "output_type": "stream",
     "text": [
      "This is child class\n"
     ]
    },
    {
     "data": {
      "text/plain": [
       "78.53981633974483"
      ]
     },
     "execution_count": 19,
     "metadata": {},
     "output_type": "execute_result"
    }
   ],
   "source": [
    "output_1.area()\n"
   ]
  },
  {
   "cell_type": "code",
   "execution_count": null,
   "id": "3f7471de",
   "metadata": {},
   "outputs": [],
   "source": []
  }
 ],
 "metadata": {
  "kernelspec": {
   "display_name": "Python 3 (ipykernel)",
   "language": "python",
   "name": "python3"
  },
  "language_info": {
   "codemirror_mode": {
    "name": "ipython",
    "version": 3
   },
   "file_extension": ".py",
   "mimetype": "text/x-python",
   "name": "python",
   "nbconvert_exporter": "python",
   "pygments_lexer": "ipython3",
   "version": "3.9.7"
  },
  "toc": {
   "base_numbering": 1,
   "nav_menu": {},
   "number_sections": true,
   "sideBar": true,
   "skip_h1_title": false,
   "title_cell": "Table of Contents",
   "title_sidebar": "Contents",
   "toc_cell": false,
   "toc_position": {},
   "toc_section_display": true,
   "toc_window_display": false
  }
 },
 "nbformat": 4,
 "nbformat_minor": 5
}

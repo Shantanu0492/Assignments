{
 "cells": [
  {
   "cell_type": "raw",
   "id": "ee14fcc5-4593-4bf7-9654-cc80560fb40e",
   "metadata": {},
   "source": [
    "Q1. What is a database? Differentiate between SQL and NoSQL databases."
   ]
  },
  {
   "cell_type": "raw",
   "id": "94dec644-ace0-4501-9c85-85334b211054",
   "metadata": {},
   "source": [
    "Database is a systmatic collection of information which is stored in such a way that it can be easily accessed,\n",
    "retrieved, manage and update.\n",
    "it is were all the data is stored in the form of rows and columns i:e - tables.\n",
    "\n",
    "SQL - Structured query langugae is a type of database in which SQL, MySQL, MSSQL, DB2, Oracle 11G/12G type of db\n",
    "      is available. \n",
    "    \n",
    "      SQL is a relational database which means they use structure schemas and tables to store data. like rows and\n",
    "      columns \n",
    "    \n",
    "      SQL databases are often used for applications with complex queries and transactions, where data integrity and\n",
    "      relationships are crucial.\n",
    "    \n",
    "NoSQL -  Not only SQL is a databases are non-relational and can be schemaless. They can store data in various \n",
    "         formats such as key-value pairs.\n",
    "         \n",
    "         NoSQL databases are often schema-less, meaning data can be inserted without a predefined schema.\n",
    "            \n",
    "        NoSQL databases are designed to scale horizontally, meaning you can add more servers to distribute \n",
    "        the load."
   ]
  },
  {
   "cell_type": "raw",
   "id": "8c2cf5a5-0c7c-491c-94fe-9f8eea5d0bc4",
   "metadata": {},
   "source": [
    "Q2. What is DDL? Explain why CREATE, DROP, ALTER, and TRUNCATE are used with an example."
   ]
  },
  {
   "cell_type": "raw",
   "id": "acfd8ed8-19ff-4ca8-921c-78198372e2e5",
   "metadata": {},
   "source": [
    "DDL stands for Data Defination Language its a subset of SQL. mostly its use to define the database and \n",
    "also to manage the database. DDL is used for CREATE, DROP, ALTER & TRUNCATE.\n",
    "\n",
    "CREATE - It is use to create a new databases / Tables / index etc.\n",
    "\n",
    "exm - CREATE DATABASE DB_Name;\n",
    "\n",
    "      CREATE TABLE emp_data(emp_id int, emp_name varchar(30), Salary int, emp_location varchar (50));\n",
    "    \n",
    "DROP - It is use to remove the objects in the Databases like table, column.\n",
    "\n",
    "exm - DROP TABLE emp_data;\n",
    "      DROP COLUMN emp_name;\n",
    "    \n",
    "    It will delete all the rows and columns as well as the structure from the database.\n",
    "    \n",
    "Alter - It is use to modify or to update the table by adding and removing the column/rows.\n",
    "\n",
    "exm - ALTER TABLE emp_data Contact int;\n",
    "    \n",
    "      ALTER TABLE emp_data modify column empid int;\n",
    "        \n",
    "      ALTER TABLE emp_data DROP column Contact;\n",
    "    \n",
    "TRUNCATE - It is use to delete all rows present in the structure and only columns will be remain in the TABLE.\n",
    "\n",
    "exm - TRUNCATE TABLE emp_data;"
   ]
  },
  {
   "cell_type": "raw",
   "id": "771c9e7c-cd7e-48dc-b5e5-2799a4d6f0ca",
   "metadata": {},
   "source": [
    "Q3. What is DML? Explain INSERT, UPDATE, and DELETE with an example."
   ]
  },
  {
   "cell_type": "raw",
   "id": "6bdce852-d796-434b-a7f8-792802352b41",
   "metadata": {},
   "source": [
    "DML stands for Data Manipulation Language. It is a subset of SQL used for manipulating data stored in a\n",
    "relational database. DML used for inserting, updating, and deleting data in database tables.\n",
    "\n",
    "INSERT - It is use for inserting the data in the table in the form of rows.\n",
    "\n",
    "exm - INSERT into emp_data( emp_id, emp_name, Salary, emp_location)\n",
    "      values (10010, \"Shantanu\", 76000, \"pune\"),\n",
    "              (10011, \"Ayush\", 86000, \"Nagpur\");\n",
    "    \n",
    "UPDATE - It is use for update the records which is already present in the table.\n",
    "\n",
    "exm - UPDATE emp_data SET emp_name = 'Jane' WHERE emp_id = 10011;\n",
    "\n",
    "\n",
    "DELETE - Its is use to delete a perticular row or complete rows from the structure.\n",
    "\n",
    "exm - DELETE from emp_data WHERE emp_location is Nagpur;\n",
    "\n",
    "      DELETE from emp_data;"
   ]
  },
  {
   "cell_type": "raw",
   "id": "871a8a43-622d-4548-a247-8b872ca6473b",
   "metadata": {},
   "source": [
    "Q4. What is DQL? Explain SELECT with an example."
   ]
  },
  {
   "cell_type": "code",
   "execution_count": null,
   "id": "6f2c90be-b144-477f-b79e-5596128b80be",
   "metadata": {},
   "outputs": [],
   "source": [
    "DQL stands for Data Query language. Its a subset of SQL and its use for querying and retrieving the data from \n",
    "the database. SELECT statement is used here for query the database and retrieve the data from it.\n",
    "\n",
    "Exm - SELECT * from emp_data;\n",
    "\n",
    "this will fetch the data from the emp_data Table from the data base.\n",
    "\n",
    "for sepcific columns we need to mentioion the column name as below.\n",
    "\n",
    "SELECT emp_id from emp_data;\n"
   ]
  },
  {
   "cell_type": "raw",
   "id": "3e9bbb7a-b38e-4a88-9e86-f529c21652d2",
   "metadata": {},
   "source": [
    "Q5. Explain Primary Key and Foreign Key."
   ]
  },
  {
   "cell_type": "code",
   "execution_count": null,
   "id": "8155a86a-6c69-4371-a9f2-68c6ddd1fce1",
   "metadata": {},
   "outputs": [],
   "source": [
    "Primery key constrain will uniquely indentify each rows present in the table and ensure that the primery \n",
    "key's column must have only unique values in it. Primary key will check the values of the column which is \n",
    "set as a foriegn key and ensure that it contain only unique values only.\n",
    "\n",
    "Foriegn key constrain ensure that the values in a column which is set a foriegn must match with the primary\n",
    "key column values."
   ]
  },
  {
   "cell_type": "raw",
   "id": "598724be-6a5e-472d-8551-60b2fac07b9e",
   "metadata": {},
   "source": [
    "Q6. Write a python code to connect MySQL to python. Explain the cursor() and execute() method."
   ]
  },
  {
   "cell_type": "markdown",
   "id": "0c7be312-fcee-4aa1-9eb1-95d86be9126b",
   "metadata": {},
   "source": [
    "#create a file_name.py\n",
    "\n",
    "#importing the library\n",
    "\n",
    "import mysql.connector\n",
    "\n",
    "#creating user and password\n",
    "\n",
    "mydb = mysql.connector.connect(\n",
    "  host=\"localhost\",\n",
    "  user=\"abc\",\n",
    "  password=\"password\"\n",
    ")\n",
    "\n",
    "print(mydb)\n",
    "\n",
    "mycursor = mydb.cursor()\n",
    "mycursor.execute(\"SHOW DATABASE\")\n",
    "\n",
    "for i in mycursor:\n",
    "    print(i)\n",
    "    \n",
    "Cursor = In the context of SQL and database connectors, the term \"cursor\" typically refers to a programming construct that allows you to iterate over the rows of a result set retrieved by a SQL query. Cursors are used to process rows returned by a SELECT statement one at a time, and they provide a way to navigate and manipulate the data.\n",
    "\n",
    "Execute = Basically it is use to execute a stored procedure or a dynamically constructed SQL statement."
   ]
  },
  {
   "cell_type": "raw",
   "id": "e55502ff-763f-4090-8b00-6ef82bc9f69d",
   "metadata": {},
   "source": [
    "Q7. Give the order of execution of SQL clauses in an SQL query."
   ]
  },
  {
   "cell_type": "markdown",
   "id": "54c944fb-7810-4782-ad3e-4ea8106c7022",
   "metadata": {},
   "source": [
    "In SQL, a query is typically constructed using several clauses, and the order of execution follows a specific \n",
    "sequence. The basic structure of a SELECT statement, which is the most common type of SQL query, includes the\n",
    "following clauses, and they are generally executed in the following order:\n",
    "\n",
    "SELECT: FROM: WHERE: GROUP BY: HAVING: ORDER BY:\n"
   ]
  }
 ],
 "metadata": {
  "kernelspec": {
   "display_name": "Python 3 (ipykernel)",
   "language": "python",
   "name": "python3"
  },
  "language_info": {
   "codemirror_mode": {
    "name": "ipython",
    "version": 3
   },
   "file_extension": ".py",
   "mimetype": "text/x-python",
   "name": "python",
   "nbconvert_exporter": "python",
   "pygments_lexer": "ipython3",
   "version": "3.10.8"
  }
 },
 "nbformat": 4,
 "nbformat_minor": 5
}
